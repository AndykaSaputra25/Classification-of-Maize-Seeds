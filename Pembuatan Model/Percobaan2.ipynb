{
  "nbformat": 4,
  "nbformat_minor": 0,
  "metadata": {
    "colab": {
      "provenance": []
    },
    "kernelspec": {
      "name": "python3",
      "display_name": "Python 3"
    },
    "language_info": {
      "name": "python"
    },
    "gpuClass": "standard",
    "accelerator": "GPU"
  },
  "cells": [
    {
      "cell_type": "markdown",
      "source": [
        "# Data tidak seimbang dan fine-tuning"
      ],
      "metadata": {
        "id": "Z-x61298btg1"
      }
    },
    {
      "cell_type": "code",
      "execution_count": null,
      "metadata": {
        "id": "qqKqTNAYbiu9"
      },
      "outputs": [],
      "source": [
        "import os\n",
        "import cv2\n",
        "import glob\n",
        "import numpy as np\n",
        "import pandas as pd\n",
        "import seaborn as sns\n",
        "import matplotlib.pyplot as plt\n",
        "from tqdm import tqdm\n",
        "import datetime\n",
        "\n",
        "import tensorflow\n",
        "from tensorflow import keras\n",
        "from keras.models import load_model\n",
        "from tensorflow.keras.applications.vgg19 import VGG19\n",
        "from tensorflow.keras.preprocessing import image\n",
        "from tensorflow.keras.applications.vgg19 import preprocess_input\n",
        "from tensorflow.keras.models import Model\n",
        "from tensorflow.keras.callbacks import ModelCheckpoint, EarlyStopping\n",
        "from tensorflow.keras.backend import clear_session\n",
        "from tensorflow.keras.layers import Input, Dense, Flatten, Dropout, Activation\n",
        "from tensorflow.keras.optimizers import Adam\n",
        "from tensorflow.keras.utils import to_categorical\n",
        "\n",
        "from sklearn.utils import shuffle \n",
        "from sklearn.model_selection import StratifiedKFold\n",
        "from sklearn.metrics import accuracy_score, f1_score, precision_score, recall_score, classification_report, confusion_matrix, roc_auc_score, roc_curve"
      ]
    },
    {
      "cell_type": "code",
      "source": [
        "from google.colab import drive\n",
        "drive.mount(\"/content/drive\")"
      ],
      "metadata": {
        "colab": {
          "base_uri": "https://localhost:8080/"
        },
        "id": "owfxaWyZjmfE",
        "outputId": "6ddc08c3-db6f-44e6-e6bf-63b727c52222"
      },
      "execution_count": null,
      "outputs": [
        {
          "output_type": "stream",
          "name": "stdout",
          "text": [
            "Mounted at /content/drive\n"
          ]
        }
      ]
    },
    {
      "cell_type": "code",
      "source": [
        "path_benih = '/content/drive/My Drive/Penelitian/Dataset/'"
      ],
      "metadata": {
        "id": "MGmTY506jxTm"
      },
      "execution_count": null,
      "outputs": []
    },
    {
      "cell_type": "code",
      "source": [
        "kelas = ['haploid', 'diploid']\n",
        "kelas"
      ],
      "metadata": {
        "colab": {
          "base_uri": "https://localhost:8080/"
        },
        "id": "oXUZMxWkkMwI",
        "outputId": "f9a14490-873b-4cb8-d08a-5629e5971cef"
      },
      "execution_count": null,
      "outputs": [
        {
          "output_type": "execute_result",
          "data": {
            "text/plain": [
              "['haploid', 'diploid']"
            ]
          },
          "metadata": {},
          "execution_count": 4
        }
      ]
    },
    {
      "cell_type": "code",
      "source": [
        "def get_data(data_dir):\n",
        "    size = (224,224)\n",
        "    label = 0\n",
        "    x = []\n",
        "    y = []\n",
        "    for folder in kelas:\n",
        "        print(\"Loading {}\".format(data_dir+folder))\n",
        "        for pic in tqdm(glob.glob(data_dir + folder + '/*')):\n",
        "            im = cv2.imread(pic)\n",
        "            im = cv2.cvtColor(im, cv2.COLOR_BGR2RGB)\n",
        "            im = cv2.resize(im, (size))\n",
        "            x.append(im)\n",
        "            y.append(label)\n",
        "        label+=1\n",
        "    x = np.array(x, dtype = 'float32')\n",
        "    y = np.array(y, dtype = 'int32')\n",
        "    return x,y"
      ],
      "metadata": {
        "id": "gLcsrZzTkOQw"
      },
      "execution_count": null,
      "outputs": []
    },
    {
      "cell_type": "code",
      "source": [
        "x_train, y_train = get_data(path_benih + 'train/')\n",
        "x_test, y_test = get_data(path_benih + 'test/')"
      ],
      "metadata": {
        "colab": {
          "base_uri": "https://localhost:8080/"
        },
        "id": "xR7uv4TpkRK8",
        "outputId": "d7312425-aa77-4033-e4a5-fb27b69076cc"
      },
      "execution_count": null,
      "outputs": [
        {
          "output_type": "stream",
          "name": "stdout",
          "text": [
            "Loading /content/drive/My Drive/Penelitian/Dataset/train/haploid\n"
          ]
        },
        {
          "output_type": "stream",
          "name": "stderr",
          "text": [
            "100%|██████████| 984/984 [00:16<00:00, 60.36it/s] \n"
          ]
        },
        {
          "output_type": "stream",
          "name": "stdout",
          "text": [
            "Loading /content/drive/My Drive/Penelitian/Dataset/train/diploid\n"
          ]
        },
        {
          "output_type": "stream",
          "name": "stderr",
          "text": [
            "100%|██████████| 1416/1416 [00:22<00:00, 61.74it/s] \n"
          ]
        },
        {
          "output_type": "stream",
          "name": "stdout",
          "text": [
            "Loading /content/drive/My Drive/Penelitian/Dataset/test/haploid\n"
          ]
        },
        {
          "output_type": "stream",
          "name": "stderr",
          "text": [
            "100%|██████████| 246/246 [00:03<00:00, 76.71it/s] \n"
          ]
        },
        {
          "output_type": "stream",
          "name": "stdout",
          "text": [
            "Loading /content/drive/My Drive/Penelitian/Dataset/test/diploid\n"
          ]
        },
        {
          "output_type": "stream",
          "name": "stderr",
          "text": [
            "100%|██████████| 354/354 [00:04<00:00, 75.75it/s] \n"
          ]
        }
      ]
    },
    {
      "cell_type": "code",
      "source": [
        "x_train/=255.\n",
        "x_test/=255."
      ],
      "metadata": {
        "id": "a4l1AG6FkUjW"
      },
      "execution_count": null,
      "outputs": []
    },
    {
      "cell_type": "code",
      "source": [
        "len(x_train)+len(x_test)"
      ],
      "metadata": {
        "colab": {
          "base_uri": "https://localhost:8080/"
        },
        "id": "wqgjMVVKkon9",
        "outputId": "a2b0ef39-c84d-47c5-e7aa-0fe4c51ec62c"
      },
      "execution_count": null,
      "outputs": [
        {
          "output_type": "execute_result",
          "data": {
            "text/plain": [
              "3000"
            ]
          },
          "metadata": {},
          "execution_count": 8
        }
      ]
    },
    {
      "cell_type": "code",
      "source": [
        "x_train, y_train = shuffle(x_train, y_train, random_state=42)"
      ],
      "metadata": {
        "id": "5lMv41UUkrzo"
      },
      "execution_count": null,
      "outputs": []
    },
    {
      "cell_type": "code",
      "source": [
        "# Import Best Model dari Ujicoba_1\n",
        "best_dir = '/content/drive/My Drive/Penelitian/save_models/percobaan_1/'\n",
        "model = load_model(best_dir+\"model_4\")\n",
        "model.summary()"
      ],
      "metadata": {
        "colab": {
          "base_uri": "https://localhost:8080/"
        },
        "id": "CoMEtEC_JGFl",
        "outputId": "8895c41d-9fe9-4608-b809-d1c470b5e7fd"
      },
      "execution_count": null,
      "outputs": [
        {
          "output_type": "stream",
          "name": "stdout",
          "text": [
            "Model: \"model\"\n",
            "_________________________________________________________________\n",
            " Layer (type)                Output Shape              Param #   \n",
            "=================================================================\n",
            " input_1 (InputLayer)        [(None, 224, 224, 3)]     0         \n",
            "                                                                 \n",
            " block1_conv1 (Conv2D)       (None, 224, 224, 64)      1792      \n",
            "                                                                 \n",
            " block1_conv2 (Conv2D)       (None, 224, 224, 64)      36928     \n",
            "                                                                 \n",
            " block1_pool (MaxPooling2D)  (None, 112, 112, 64)      0         \n",
            "                                                                 \n",
            " block2_conv1 (Conv2D)       (None, 112, 112, 128)     73856     \n",
            "                                                                 \n",
            " block2_conv2 (Conv2D)       (None, 112, 112, 128)     147584    \n",
            "                                                                 \n",
            " block2_pool (MaxPooling2D)  (None, 56, 56, 128)       0         \n",
            "                                                                 \n",
            " block3_conv1 (Conv2D)       (None, 56, 56, 256)       295168    \n",
            "                                                                 \n",
            " block3_conv2 (Conv2D)       (None, 56, 56, 256)       590080    \n",
            "                                                                 \n",
            " block3_conv3 (Conv2D)       (None, 56, 56, 256)       590080    \n",
            "                                                                 \n",
            " block3_conv4 (Conv2D)       (None, 56, 56, 256)       590080    \n",
            "                                                                 \n",
            " block3_pool (MaxPooling2D)  (None, 28, 28, 256)       0         \n",
            "                                                                 \n",
            " block4_conv1 (Conv2D)       (None, 28, 28, 512)       1180160   \n",
            "                                                                 \n",
            " block4_conv2 (Conv2D)       (None, 28, 28, 512)       2359808   \n",
            "                                                                 \n",
            " block4_conv3 (Conv2D)       (None, 28, 28, 512)       2359808   \n",
            "                                                                 \n",
            " block4_conv4 (Conv2D)       (None, 28, 28, 512)       2359808   \n",
            "                                                                 \n",
            " block4_pool (MaxPooling2D)  (None, 14, 14, 512)       0         \n",
            "                                                                 \n",
            " block5_conv1 (Conv2D)       (None, 14, 14, 512)       2359808   \n",
            "                                                                 \n",
            " block5_conv2 (Conv2D)       (None, 14, 14, 512)       2359808   \n",
            "                                                                 \n",
            " block5_conv3 (Conv2D)       (None, 14, 14, 512)       2359808   \n",
            "                                                                 \n",
            " block5_conv4 (Conv2D)       (None, 14, 14, 512)       2359808   \n",
            "                                                                 \n",
            " block5_pool (MaxPooling2D)  (None, 7, 7, 512)         0         \n",
            "                                                                 \n",
            " flatten (Flatten)           (None, 25088)             0         \n",
            "                                                                 \n",
            " dense (Dense)               (None, 1024)              25691136  \n",
            "                                                                 \n",
            " dropout (Dropout)           (None, 1024)              0         \n",
            "                                                                 \n",
            " dense_1 (Dense)             (None, 1024)              1049600   \n",
            "                                                                 \n",
            " dropout_1 (Dropout)         (None, 1024)              0         \n",
            "                                                                 \n",
            " dense_2 (Dense)             (None, 2)                 2050      \n",
            "                                                                 \n",
            "=================================================================\n",
            "Total params: 46,767,170\n",
            "Trainable params: 26,742,786\n",
            "Non-trainable params: 20,024,384\n",
            "_________________________________________________________________\n"
          ]
        }
      ]
    },
    {
      "cell_type": "code",
      "source": [
        "def print_layer_trainable(models):\n",
        "  for layer in models.layers:\n",
        "    print('{}:\\t{}'.format(layer.trainable, layer.name))"
      ],
      "metadata": {
        "id": "sQqbX1qwJpNN"
      },
      "execution_count": null,
      "outputs": []
    },
    {
      "cell_type": "code",
      "source": [
        "print_layer_trainable(model)"
      ],
      "metadata": {
        "colab": {
          "base_uri": "https://localhost:8080/"
        },
        "id": "hqSmVGMHJp9P",
        "outputId": "40a47a04-098a-417f-fc63-8f270d63a2c9"
      },
      "execution_count": null,
      "outputs": [
        {
          "output_type": "stream",
          "name": "stdout",
          "text": [
            "True:\tinput_1\n",
            "False:\tblock1_conv1\n",
            "False:\tblock1_conv2\n",
            "False:\tblock1_pool\n",
            "False:\tblock2_conv1\n",
            "False:\tblock2_conv2\n",
            "False:\tblock2_pool\n",
            "False:\tblock3_conv1\n",
            "False:\tblock3_conv2\n",
            "False:\tblock3_conv3\n",
            "False:\tblock3_conv4\n",
            "False:\tblock3_pool\n",
            "False:\tblock4_conv1\n",
            "False:\tblock4_conv2\n",
            "False:\tblock4_conv3\n",
            "False:\tblock4_conv4\n",
            "False:\tblock4_pool\n",
            "False:\tblock5_conv1\n",
            "False:\tblock5_conv2\n",
            "False:\tblock5_conv3\n",
            "False:\tblock5_conv4\n",
            "False:\tblock5_pool\n",
            "True:\tflatten\n",
            "True:\tdense\n",
            "True:\tdropout\n",
            "True:\tdense_1\n",
            "True:\tdropout_1\n",
            "True:\tdense_2\n"
          ]
        }
      ]
    },
    {
      "cell_type": "code",
      "source": [
        "model.trainable = True\n",
        "print(\"Layer pada model: {}\".format(len(model.layers)))"
      ],
      "metadata": {
        "colab": {
          "base_uri": "https://localhost:8080/"
        },
        "id": "jGLUZJ5yqp6w",
        "outputId": "1319d972-3dcf-4b53-89aa-5c61bbad2e09"
      },
      "execution_count": null,
      "outputs": [
        {
          "output_type": "stream",
          "name": "stdout",
          "text": [
            "Layer pada model: 28\n"
          ]
        }
      ]
    },
    {
      "cell_type": "code",
      "source": [
        "fine_tune_at = 14\n",
        "for layer in model.layers[:fine_tune_at]:\n",
        "    layer.trainable = False"
      ],
      "metadata": {
        "id": "GAgHHADCq38A"
      },
      "execution_count": null,
      "outputs": []
    },
    {
      "cell_type": "code",
      "source": [
        "print_layer_trainable(model)"
      ],
      "metadata": {
        "colab": {
          "base_uri": "https://localhost:8080/"
        },
        "id": "gSK6eQnUNRht",
        "outputId": "161e4b8a-6cdd-449e-808d-4826f5f35ce5"
      },
      "execution_count": null,
      "outputs": [
        {
          "output_type": "stream",
          "name": "stdout",
          "text": [
            "False:\tinput_1\n",
            "False:\tblock1_conv1\n",
            "False:\tblock1_conv2\n",
            "False:\tblock1_pool\n",
            "False:\tblock2_conv1\n",
            "False:\tblock2_conv2\n",
            "False:\tblock2_pool\n",
            "False:\tblock3_conv1\n",
            "False:\tblock3_conv2\n",
            "False:\tblock3_conv3\n",
            "False:\tblock3_conv4\n",
            "False:\tblock3_pool\n",
            "False:\tblock4_conv1\n",
            "False:\tblock4_conv2\n",
            "True:\tblock4_conv3\n",
            "True:\tblock4_conv4\n",
            "True:\tblock4_pool\n",
            "True:\tblock5_conv1\n",
            "True:\tblock5_conv2\n",
            "True:\tblock5_conv3\n",
            "True:\tblock5_conv4\n",
            "True:\tblock5_pool\n",
            "True:\tflatten\n",
            "True:\tdense\n",
            "True:\tdropout\n",
            "True:\tdense_1\n",
            "True:\tdropout_1\n",
            "True:\tdense_2\n"
          ]
        }
      ]
    },
    {
      "cell_type": "code",
      "source": [
        "model.summary()"
      ],
      "metadata": {
        "colab": {
          "base_uri": "https://localhost:8080/"
        },
        "id": "Kjxo85bbPPmI",
        "outputId": "47bd5ea5-14d2-447f-d724-f8f5ef2184f4"
      },
      "execution_count": null,
      "outputs": [
        {
          "output_type": "stream",
          "name": "stdout",
          "text": [
            "Model: \"model\"\n",
            "_________________________________________________________________\n",
            " Layer (type)                Output Shape              Param #   \n",
            "=================================================================\n",
            " input_1 (InputLayer)        [(None, 224, 224, 3)]     0         \n",
            "                                                                 \n",
            " block1_conv1 (Conv2D)       (None, 224, 224, 64)      1792      \n",
            "                                                                 \n",
            " block1_conv2 (Conv2D)       (None, 224, 224, 64)      36928     \n",
            "                                                                 \n",
            " block1_pool (MaxPooling2D)  (None, 112, 112, 64)      0         \n",
            "                                                                 \n",
            " block2_conv1 (Conv2D)       (None, 112, 112, 128)     73856     \n",
            "                                                                 \n",
            " block2_conv2 (Conv2D)       (None, 112, 112, 128)     147584    \n",
            "                                                                 \n",
            " block2_pool (MaxPooling2D)  (None, 56, 56, 128)       0         \n",
            "                                                                 \n",
            " block3_conv1 (Conv2D)       (None, 56, 56, 256)       295168    \n",
            "                                                                 \n",
            " block3_conv2 (Conv2D)       (None, 56, 56, 256)       590080    \n",
            "                                                                 \n",
            " block3_conv3 (Conv2D)       (None, 56, 56, 256)       590080    \n",
            "                                                                 \n",
            " block3_conv4 (Conv2D)       (None, 56, 56, 256)       590080    \n",
            "                                                                 \n",
            " block3_pool (MaxPooling2D)  (None, 28, 28, 256)       0         \n",
            "                                                                 \n",
            " block4_conv1 (Conv2D)       (None, 28, 28, 512)       1180160   \n",
            "                                                                 \n",
            " block4_conv2 (Conv2D)       (None, 28, 28, 512)       2359808   \n",
            "                                                                 \n",
            " block4_conv3 (Conv2D)       (None, 28, 28, 512)       2359808   \n",
            "                                                                 \n",
            " block4_conv4 (Conv2D)       (None, 28, 28, 512)       2359808   \n",
            "                                                                 \n",
            " block4_pool (MaxPooling2D)  (None, 14, 14, 512)       0         \n",
            "                                                                 \n",
            " block5_conv1 (Conv2D)       (None, 14, 14, 512)       2359808   \n",
            "                                                                 \n",
            " block5_conv2 (Conv2D)       (None, 14, 14, 512)       2359808   \n",
            "                                                                 \n",
            " block5_conv3 (Conv2D)       (None, 14, 14, 512)       2359808   \n",
            "                                                                 \n",
            " block5_conv4 (Conv2D)       (None, 14, 14, 512)       2359808   \n",
            "                                                                 \n",
            " block5_pool (MaxPooling2D)  (None, 7, 7, 512)         0         \n",
            "                                                                 \n",
            " flatten (Flatten)           (None, 25088)             0         \n",
            "                                                                 \n",
            " dense (Dense)               (None, 1024)              25691136  \n",
            "                                                                 \n",
            " dropout (Dropout)           (None, 1024)              0         \n",
            "                                                                 \n",
            " dense_1 (Dense)             (None, 1024)              1049600   \n",
            "                                                                 \n",
            " dropout_1 (Dropout)         (None, 1024)              0         \n",
            "                                                                 \n",
            " dense_2 (Dense)             (None, 2)                 2050      \n",
            "                                                                 \n",
            "=================================================================\n",
            "Total params: 46,767,170\n",
            "Trainable params: 40,901,634\n",
            "Non-trainable params: 5,865,536\n",
            "_________________________________________________________________\n"
          ]
        }
      ]
    },
    {
      "cell_type": "code",
      "source": [
        "def get_model_name(k):\n",
        "  return 'model_'+str(k)"
      ],
      "metadata": {
        "id": "ig4_ifuC4P1G"
      },
      "execution_count": null,
      "outputs": []
    },
    {
      "cell_type": "code",
      "source": [
        "akurasi_val_data=[]\n",
        "AUC=[]\n",
        "CV=[]\n",
        "waktu=[]\n",
        "\n",
        "LOSS=[]\n",
        "VAL_LOSS=[]\n",
        "ACCURACY=[]\n",
        "VAL_ACCURACY=[]\n",
        "\n",
        "fold_var = 1\n",
        "max_epoch = 64\n",
        "mini_batch = 32\n",
        "lr = 0.0001\n",
        "\n",
        "save_dir = '/content/drive/My Drive/Penelitian/save_models/percobaan_2/'"
      ],
      "metadata": {
        "id": "btIJKPNAPads"
      },
      "execution_count": null,
      "outputs": []
    },
    {
      "cell_type": "code",
      "source": [
        "kf = StratifiedKFold(n_splits=5)\n",
        "for train_index, val_index in kf.split(x_train, y_train):\n",
        "  print(\"---------- FOLD KE- {} ----------\".format(fold_var))\n",
        "  x_training, y_training = x_train[train_index], y_train[train_index]\n",
        "  x_validasi, y_validasi = x_train[val_index], y_train[val_index]\n",
        "\n",
        "  y_training = to_categorical(y_training)   \n",
        "  y_validasi = to_categorical(y_validasi)\n",
        "  \n",
        "  model.compile(optimizer=Adam(learning_rate=lr), \n",
        "                loss='binary_crossentropy',\n",
        "                metrics=['accuracy'])\n",
        "\n",
        "  # min_delta (perubahan minimal), patience (jumlah epoch tanpa perbaikan)\n",
        "  early_stop = EarlyStopping(monitor='val_loss', min_delta=0.0001, patience=7, verbose=1, mode='auto')\n",
        "  checkpoint = ModelCheckpoint(save_dir+get_model_name(fold_var),\n",
        "                               monitor='val_accuracy', verbose=1,\n",
        "                               save_best_only=True, mode='max')\n",
        "  callback_list = [early_stop, checkpoint]\n",
        "\n",
        "  start = datetime.datetime.now()\n",
        "  hist = model.fit(x_training, y_training, \n",
        "                   epochs=max_epoch,\n",
        "                   batch_size=mini_batch,\n",
        "                   callbacks=callback_list,\n",
        "                   validation_data = (x_validasi, y_validasi))\n",
        "  end = datetime.datetime.now()\n",
        "  jam = end - start\n",
        "\n",
        "  model = load_model(save_dir+\"model_\"+str(fold_var))\n",
        "\n",
        "  predict = model.predict(x_validasi)\n",
        "  predict = np.argmax(predict, axis=1)\n",
        "  labels = np.argmax(y_validasi, axis=1)\n",
        "  print(classification_report(labels, predict, target_names = ['Haploid (Class 0)','Diploid (Class 1)']))\n",
        "  print('Waktu Pelatihan Data : ', jam, '\\n\\n')\n",
        "  acc = accuracy_score(labels, predict)\n",
        "  auc = roc_auc_score(labels, predict)\n",
        "\n",
        "  waktu.append(jam)\n",
        "  akurasi_val_data.append(acc)\n",
        "  AUC.append(auc)\n",
        "  LOSS.append(hist.history['loss'])\n",
        "  ACCURACY.append(hist.history['accuracy'])\n",
        "  VAL_LOSS.append(hist.history['val_loss'])\n",
        "  VAL_ACCURACY.append(hist.history['val_accuracy'])\n",
        "  CV.append('CV-'+str(fold_var))\n",
        "\n",
        "  clear_session()\n",
        "  fold_var+=1"
      ],
      "metadata": {
        "id": "YjsqPEDpupiy",
        "colab": {
          "base_uri": "https://localhost:8080/"
        },
        "outputId": "618b09cf-d9ed-490d-df93-a7d22bd907b3"
      },
      "execution_count": null,
      "outputs": [
        {
          "output_type": "stream",
          "name": "stdout",
          "text": [
            "---------- FOLD KE- 1 ----------\n",
            "Epoch 1/64\n",
            "60/60 [==============================] - ETA: 0s - loss: 0.9105 - accuracy: 0.5672\n",
            "Epoch 1: val_accuracy improved from -inf to 0.59167, saving model to /content/drive/My Drive/Penelitian/save_models/percobaan_2/model_1\n"
          ]
        },
        {
          "output_type": "stream",
          "name": "stderr",
          "text": [
            "WARNING:absl:Found untraced functions such as _jit_compiled_convolution_op, _jit_compiled_convolution_op, _jit_compiled_convolution_op, _jit_compiled_convolution_op, _jit_compiled_convolution_op while saving (showing 5 of 16). These functions will not be directly callable after loading.\n"
          ]
        },
        {
          "output_type": "stream",
          "name": "stdout",
          "text": [
            "\b\b\b\b\b\b\b\b\b\b\b\b\b\b\b\b\b\b\b\b\b\b\b\b\b\b\b\b\b\b\b\b\b\b\b\b\b\b\b\b\b\b\b\b\b\b\b\b\b\b\b\b\b\b\b\b\b\b\b\b\b\b\b\b\b\b\b\b\b\b\b\b\b\b\b\b\b\b\b\b\b\b\r60/60 [==============================] - 37s 415ms/step - loss: 0.9105 - accuracy: 0.5672 - val_loss: 0.6741 - val_accuracy: 0.5917\n",
            "Epoch 2/64\n",
            "60/60 [==============================] - ETA: 0s - loss: 0.6624 - accuracy: 0.5943\n",
            "Epoch 2: val_accuracy improved from 0.59167 to 0.68542, saving model to /content/drive/My Drive/Penelitian/save_models/percobaan_2/model_1\n"
          ]
        },
        {
          "output_type": "stream",
          "name": "stderr",
          "text": [
            "WARNING:absl:Found untraced functions such as _jit_compiled_convolution_op, _jit_compiled_convolution_op, _jit_compiled_convolution_op, _jit_compiled_convolution_op, _jit_compiled_convolution_op while saving (showing 5 of 16). These functions will not be directly callable after loading.\n"
          ]
        },
        {
          "output_type": "stream",
          "name": "stdout",
          "text": [
            "\b\b\b\b\b\b\b\b\b\b\b\b\b\b\b\b\b\b\b\b\b\b\b\b\b\b\b\b\b\b\b\b\b\b\b\b\b\b\b\b\b\b\b\b\b\b\b\b\b\b\b\b\b\b\b\b\b\b\b\b\b\b\b\b\b\b\b\b\b\b\b\b\b\b\b\b\b\b\b\b\b\b\r60/60 [==============================] - 24s 401ms/step - loss: 0.6624 - accuracy: 0.5943 - val_loss: 0.5874 - val_accuracy: 0.6854\n",
            "Epoch 3/64\n",
            "60/60 [==============================] - ETA: 0s - loss: 0.6383 - accuracy: 0.6115\n",
            "Epoch 3: val_accuracy did not improve from 0.68542\n",
            "60/60 [==============================] - 17s 285ms/step - loss: 0.6383 - accuracy: 0.6115 - val_loss: 0.6681 - val_accuracy: 0.5917\n",
            "Epoch 4/64\n",
            "60/60 [==============================] - ETA: 0s - loss: 0.6506 - accuracy: 0.6198\n",
            "Epoch 4: val_accuracy did not improve from 0.68542\n",
            "60/60 [==============================] - 17s 287ms/step - loss: 0.6506 - accuracy: 0.6198 - val_loss: 0.5899 - val_accuracy: 0.6417\n",
            "Epoch 5/64\n",
            "60/60 [==============================] - ETA: 0s - loss: 0.5444 - accuracy: 0.7135\n",
            "Epoch 5: val_accuracy improved from 0.68542 to 0.79583, saving model to /content/drive/My Drive/Penelitian/save_models/percobaan_2/model_1\n"
          ]
        },
        {
          "output_type": "stream",
          "name": "stderr",
          "text": [
            "WARNING:absl:Found untraced functions such as _jit_compiled_convolution_op, _jit_compiled_convolution_op, _jit_compiled_convolution_op, _jit_compiled_convolution_op, _jit_compiled_convolution_op while saving (showing 5 of 16). These functions will not be directly callable after loading.\n"
          ]
        },
        {
          "output_type": "stream",
          "name": "stdout",
          "text": [
            "\b\b\b\b\b\b\b\b\b\b\b\b\b\b\b\b\b\b\b\b\b\b\b\b\b\b\b\b\b\b\b\b\b\b\b\b\b\b\b\b\b\b\b\b\b\b\b\b\b\b\b\b\b\b\b\b\b\b\b\b\b\b\b\b\b\b\b\b\b\b\b\b\b\b\b\b\b\b\b\b\b\b\r60/60 [==============================] - 25s 415ms/step - loss: 0.5444 - accuracy: 0.7135 - val_loss: 0.4419 - val_accuracy: 0.7958\n",
            "Epoch 6/64\n",
            "60/60 [==============================] - ETA: 0s - loss: 0.4031 - accuracy: 0.8104\n",
            "Epoch 6: val_accuracy improved from 0.79583 to 0.82917, saving model to /content/drive/My Drive/Penelitian/save_models/percobaan_2/model_1\n"
          ]
        },
        {
          "output_type": "stream",
          "name": "stderr",
          "text": [
            "WARNING:absl:Found untraced functions such as _jit_compiled_convolution_op, _jit_compiled_convolution_op, _jit_compiled_convolution_op, _jit_compiled_convolution_op, _jit_compiled_convolution_op while saving (showing 5 of 16). These functions will not be directly callable after loading.\n"
          ]
        },
        {
          "output_type": "stream",
          "name": "stdout",
          "text": [
            "\b\b\b\b\b\b\b\b\b\b\b\b\b\b\b\b\b\b\b\b\b\b\b\b\b\b\b\b\b\b\b\b\b\b\b\b\b\b\b\b\b\b\b\b\b\b\b\b\b\b\b\b\b\b\b\b\b\b\b\b\b\b\b\b\b\b\b\b\b\b\b\b\b\b\b\b\b\b\b\b\b\b\r60/60 [==============================] - 24s 397ms/step - loss: 0.4031 - accuracy: 0.8104 - val_loss: 0.3780 - val_accuracy: 0.8292\n",
            "Epoch 7/64\n",
            "60/60 [==============================] - ETA: 0s - loss: 0.3027 - accuracy: 0.8818\n",
            "Epoch 7: val_accuracy did not improve from 0.82917\n",
            "60/60 [==============================] - 17s 290ms/step - loss: 0.3027 - accuracy: 0.8818 - val_loss: 0.4424 - val_accuracy: 0.7896\n",
            "Epoch 8/64\n",
            "60/60 [==============================] - ETA: 0s - loss: 0.2720 - accuracy: 0.8849\n",
            "Epoch 8: val_accuracy improved from 0.82917 to 0.88125, saving model to /content/drive/My Drive/Penelitian/save_models/percobaan_2/model_1\n"
          ]
        },
        {
          "output_type": "stream",
          "name": "stderr",
          "text": [
            "WARNING:absl:Found untraced functions such as _jit_compiled_convolution_op, _jit_compiled_convolution_op, _jit_compiled_convolution_op, _jit_compiled_convolution_op, _jit_compiled_convolution_op while saving (showing 5 of 16). These functions will not be directly callable after loading.\n"
          ]
        },
        {
          "output_type": "stream",
          "name": "stdout",
          "text": [
            "\b\b\b\b\b\b\b\b\b\b\b\b\b\b\b\b\b\b\b\b\b\b\b\b\b\b\b\b\b\b\b\b\b\b\b\b\b\b\b\b\b\b\b\b\b\b\b\b\b\b\b\b\b\b\b\b\b\b\b\b\b\b\b\b\b\b\b\b\b\b\b\b\b\b\b\b\b\b\b\b\b\b\r60/60 [==============================] - 25s 416ms/step - loss: 0.2720 - accuracy: 0.8849 - val_loss: 0.2853 - val_accuracy: 0.8813\n",
            "Epoch 9/64\n",
            "60/60 [==============================] - ETA: 0s - loss: 0.2732 - accuracy: 0.8922\n",
            "Epoch 9: val_accuracy did not improve from 0.88125\n",
            "60/60 [==============================] - 20s 330ms/step - loss: 0.2732 - accuracy: 0.8922 - val_loss: 0.2844 - val_accuracy: 0.8708\n",
            "Epoch 10/64\n",
            "60/60 [==============================] - ETA: 0s - loss: 0.2277 - accuracy: 0.9062\n",
            "Epoch 10: val_accuracy did not improve from 0.88125\n",
            "60/60 [==============================] - 17s 291ms/step - loss: 0.2277 - accuracy: 0.9062 - val_loss: 0.3289 - val_accuracy: 0.8604\n",
            "Epoch 11/64\n",
            "60/60 [==============================] - ETA: 0s - loss: 0.1907 - accuracy: 0.9234\n",
            "Epoch 11: val_accuracy improved from 0.88125 to 0.89792, saving model to /content/drive/My Drive/Penelitian/save_models/percobaan_2/model_1\n"
          ]
        },
        {
          "output_type": "stream",
          "name": "stderr",
          "text": [
            "WARNING:absl:Found untraced functions such as _jit_compiled_convolution_op, _jit_compiled_convolution_op, _jit_compiled_convolution_op, _jit_compiled_convolution_op, _jit_compiled_convolution_op while saving (showing 5 of 16). These functions will not be directly callable after loading.\n"
          ]
        },
        {
          "output_type": "stream",
          "name": "stdout",
          "text": [
            "\b\b\b\b\b\b\b\b\b\b\b\b\b\b\b\b\b\b\b\b\b\b\b\b\b\b\b\b\b\b\b\b\b\b\b\b\b\b\b\b\b\b\b\b\b\b\b\b\b\b\b\b\b\b\b\b\b\b\b\b\b\b\b\b\b\b\b\b\b\b\b\b\b\b\b\b\b\b\b\b\b\b\r60/60 [==============================] - 24s 411ms/step - loss: 0.1907 - accuracy: 0.9234 - val_loss: 0.2438 - val_accuracy: 0.8979\n",
            "Epoch 12/64\n",
            "60/60 [==============================] - ETA: 0s - loss: 0.1592 - accuracy: 0.9401\n",
            "Epoch 12: val_accuracy did not improve from 0.89792\n",
            "60/60 [==============================] - 17s 289ms/step - loss: 0.1592 - accuracy: 0.9401 - val_loss: 0.2582 - val_accuracy: 0.8938\n",
            "Epoch 13/64\n",
            "60/60 [==============================] - ETA: 0s - loss: 0.1648 - accuracy: 0.9385\n",
            "Epoch 13: val_accuracy did not improve from 0.89792\n",
            "60/60 [==============================] - 20s 332ms/step - loss: 0.1648 - accuracy: 0.9385 - val_loss: 0.2485 - val_accuracy: 0.8979\n",
            "Epoch 14/64\n",
            "60/60 [==============================] - ETA: 0s - loss: 0.1337 - accuracy: 0.9552\n",
            "Epoch 14: val_accuracy did not improve from 0.89792\n",
            "60/60 [==============================] - 17s 289ms/step - loss: 0.1337 - accuracy: 0.9552 - val_loss: 0.4198 - val_accuracy: 0.8562\n",
            "Epoch 15/64\n",
            "60/60 [==============================] - ETA: 0s - loss: 0.1269 - accuracy: 0.9536\n",
            "Epoch 15: val_accuracy did not improve from 0.89792\n",
            "60/60 [==============================] - 20s 330ms/step - loss: 0.1269 - accuracy: 0.9536 - val_loss: 0.3459 - val_accuracy: 0.8979\n",
            "Epoch 16/64\n",
            "60/60 [==============================] - ETA: 0s - loss: 0.1178 - accuracy: 0.9542\n",
            "Epoch 16: val_accuracy improved from 0.89792 to 0.90625, saving model to /content/drive/My Drive/Penelitian/save_models/percobaan_2/model_1\n"
          ]
        },
        {
          "output_type": "stream",
          "name": "stderr",
          "text": [
            "WARNING:absl:Found untraced functions such as _jit_compiled_convolution_op, _jit_compiled_convolution_op, _jit_compiled_convolution_op, _jit_compiled_convolution_op, _jit_compiled_convolution_op while saving (showing 5 of 16). These functions will not be directly callable after loading.\n"
          ]
        },
        {
          "output_type": "stream",
          "name": "stdout",
          "text": [
            "\b\b\b\b\b\b\b\b\b\b\b\b\b\b\b\b\b\b\b\b\b\b\b\b\b\b\b\b\b\b\b\b\b\b\b\b\b\b\b\b\b\b\b\b\b\b\b\b\b\b\b\b\b\b\b\b\b\b\b\b\b\b\b\b\b\b\b\b\b\b\b\b\b\b\b\b\b\b\b\b\b\b\r60/60 [==============================] - 25s 419ms/step - loss: 0.1178 - accuracy: 0.9542 - val_loss: 0.3407 - val_accuracy: 0.9062\n",
            "Epoch 17/64\n",
            "60/60 [==============================] - ETA: 0s - loss: 0.1339 - accuracy: 0.9443\n",
            "Epoch 17: val_accuracy did not improve from 0.90625\n",
            "60/60 [==============================] - 17s 290ms/step - loss: 0.1339 - accuracy: 0.9443 - val_loss: 0.3292 - val_accuracy: 0.8875\n",
            "Epoch 18/64\n",
            "60/60 [==============================] - ETA: 0s - loss: 0.1128 - accuracy: 0.9573\n",
            "Epoch 18: val_accuracy did not improve from 0.90625\n",
            "60/60 [==============================] - 20s 333ms/step - loss: 0.1128 - accuracy: 0.9573 - val_loss: 0.3991 - val_accuracy: 0.8750\n",
            "Epoch 18: early stopping\n",
            "15/15 [==============================] - 3s 181ms/step\n",
            "                   precision    recall  f1-score   support\n",
            "\n",
            "Haploid (Class 0)       0.90      0.87      0.88       196\n",
            "Diploid (Class 1)       0.91      0.93      0.92       284\n",
            "\n",
            "         accuracy                           0.91       480\n",
            "        macro avg       0.91      0.90      0.90       480\n",
            "     weighted avg       0.91      0.91      0.91       480\n",
            "\n",
            "Waktu Pelatihan Data :  0:06:25.124016 \n",
            "\n",
            "\n",
            "---------- FOLD KE- 2 ----------\n",
            "Epoch 1/64\n",
            "60/60 [==============================] - ETA: 0s - loss: 0.1876 - accuracy: 0.9281\n",
            "Epoch 1: val_accuracy improved from -inf to 0.94375, saving model to /content/drive/My Drive/Penelitian/save_models/percobaan_2/model_2\n"
          ]
        },
        {
          "output_type": "stream",
          "name": "stderr",
          "text": [
            "WARNING:absl:Found untraced functions such as _jit_compiled_convolution_op, _jit_compiled_convolution_op, _jit_compiled_convolution_op, _jit_compiled_convolution_op, _jit_compiled_convolution_op while saving (showing 5 of 16). These functions will not be directly callable after loading.\n"
          ]
        },
        {
          "output_type": "stream",
          "name": "stdout",
          "text": [
            "\b\b\b\b\b\b\b\b\b\b\b\b\b\b\b\b\b\b\b\b\b\b\b\b\b\b\b\b\b\b\b\b\b\b\b\b\b\b\b\b\b\b\b\b\b\b\b\b\b\b\b\b\b\b\b\b\b\b\b\b\b\b\b\b\b\b\b\b\b\b\b\b\b\b\b\b\b\b\b\b\b\b\r60/60 [==============================] - 26s 420ms/step - loss: 0.1876 - accuracy: 0.9281 - val_loss: 0.1440 - val_accuracy: 0.9438\n",
            "Epoch 2/64\n",
            "60/60 [==============================] - ETA: 0s - loss: 0.1393 - accuracy: 0.9490\n",
            "Epoch 2: val_accuracy improved from 0.94375 to 0.95000, saving model to /content/drive/My Drive/Penelitian/save_models/percobaan_2/model_2\n"
          ]
        },
        {
          "output_type": "stream",
          "name": "stderr",
          "text": [
            "WARNING:absl:Found untraced functions such as _jit_compiled_convolution_op, _jit_compiled_convolution_op, _jit_compiled_convolution_op, _jit_compiled_convolution_op, _jit_compiled_convolution_op while saving (showing 5 of 16). These functions will not be directly callable after loading.\n"
          ]
        },
        {
          "output_type": "stream",
          "name": "stdout",
          "text": [
            "\b\b\b\b\b\b\b\b\b\b\b\b\b\b\b\b\b\b\b\b\b\b\b\b\b\b\b\b\b\b\b\b\b\b\b\b\b\b\b\b\b\b\b\b\b\b\b\b\b\b\b\b\b\b\b\b\b\b\b\b\b\b\b\b\b\b\b\b\b\b\b\b\b\b\b\b\b\b\b\b\b\b\r60/60 [==============================] - 25s 412ms/step - loss: 0.1393 - accuracy: 0.9490 - val_loss: 0.1460 - val_accuracy: 0.9500\n",
            "Epoch 3/64\n",
            "60/60 [==============================] - ETA: 0s - loss: 0.1253 - accuracy: 0.9490\n",
            "Epoch 3: val_accuracy did not improve from 0.95000\n",
            "60/60 [==============================] - 20s 333ms/step - loss: 0.1253 - accuracy: 0.9490 - val_loss: 0.1213 - val_accuracy: 0.9458\n",
            "Epoch 4/64\n",
            "60/60 [==============================] - ETA: 0s - loss: 0.1254 - accuracy: 0.9521\n",
            "Epoch 4: val_accuracy improved from 0.95000 to 0.95208, saving model to /content/drive/My Drive/Penelitian/save_models/percobaan_2/model_2\n"
          ]
        },
        {
          "output_type": "stream",
          "name": "stderr",
          "text": [
            "WARNING:absl:Found untraced functions such as _jit_compiled_convolution_op, _jit_compiled_convolution_op, _jit_compiled_convolution_op, _jit_compiled_convolution_op, _jit_compiled_convolution_op while saving (showing 5 of 16). These functions will not be directly callable after loading.\n"
          ]
        },
        {
          "output_type": "stream",
          "name": "stdout",
          "text": [
            "\b\b\b\b\b\b\b\b\b\b\b\b\b\b\b\b\b\b\b\b\b\b\b\b\b\b\b\b\b\b\b\b\b\b\b\b\b\b\b\b\b\b\b\b\b\b\b\b\b\b\b\b\b\b\b\b\b\b\b\b\b\b\b\b\b\b\b\b\b\b\b\b\b\b\b\b\b\b\b\b\b\b\r60/60 [==============================] - 22s 373ms/step - loss: 0.1254 - accuracy: 0.9521 - val_loss: 0.1152 - val_accuracy: 0.9521\n",
            "Epoch 5/64\n",
            "60/60 [==============================] - ETA: 0s - loss: 0.0936 - accuracy: 0.9703\n",
            "Epoch 5: val_accuracy did not improve from 0.95208\n",
            "60/60 [==============================] - 17s 290ms/step - loss: 0.0936 - accuracy: 0.9703 - val_loss: 0.1485 - val_accuracy: 0.9438\n",
            "Epoch 6/64\n",
            "60/60 [==============================] - ETA: 0s - loss: 0.1174 - accuracy: 0.9557\n",
            "Epoch 6: val_accuracy did not improve from 0.95208\n",
            "60/60 [==============================] - 20s 331ms/step - loss: 0.1174 - accuracy: 0.9557 - val_loss: 0.1212 - val_accuracy: 0.9521\n",
            "Epoch 7/64\n",
            "60/60 [==============================] - ETA: 0s - loss: 0.0688 - accuracy: 0.9750\n",
            "Epoch 7: val_accuracy did not improve from 0.95208\n",
            "60/60 [==============================] - 17s 289ms/step - loss: 0.0688 - accuracy: 0.9750 - val_loss: 0.1544 - val_accuracy: 0.9354\n",
            "Epoch 8/64\n",
            "60/60 [==============================] - ETA: 0s - loss: 0.0577 - accuracy: 0.9771\n",
            "Epoch 8: val_accuracy improved from 0.95208 to 0.96667, saving model to /content/drive/My Drive/Penelitian/save_models/percobaan_2/model_2\n"
          ]
        },
        {
          "output_type": "stream",
          "name": "stderr",
          "text": [
            "WARNING:absl:Found untraced functions such as _jit_compiled_convolution_op, _jit_compiled_convolution_op, _jit_compiled_convolution_op, _jit_compiled_convolution_op, _jit_compiled_convolution_op while saving (showing 5 of 16). These functions will not be directly callable after loading.\n"
          ]
        },
        {
          "output_type": "stream",
          "name": "stdout",
          "text": [
            "\b\b\b\b\b\b\b\b\b\b\b\b\b\b\b\b\b\b\b\b\b\b\b\b\b\b\b\b\b\b\b\b\b\b\b\b\b\b\b\b\b\b\b\b\b\b\b\b\b\b\b\b\b\b\b\b\b\b\b\b\b\b\b\b\b\b\b\b\b\b\b\b\b\b\b\b\b\b\b\b\b\b\r60/60 [==============================] - 25s 412ms/step - loss: 0.0577 - accuracy: 0.9771 - val_loss: 0.1252 - val_accuracy: 0.9667\n",
            "Epoch 9/64\n",
            "60/60 [==============================] - ETA: 0s - loss: 0.0637 - accuracy: 0.9781\n",
            "Epoch 9: val_accuracy did not improve from 0.96667\n",
            "60/60 [==============================] - 17s 291ms/step - loss: 0.0637 - accuracy: 0.9781 - val_loss: 0.2542 - val_accuracy: 0.9333\n",
            "Epoch 10/64\n",
            "60/60 [==============================] - ETA: 0s - loss: 0.0989 - accuracy: 0.9661\n",
            "Epoch 10: val_accuracy did not improve from 0.96667\n",
            "60/60 [==============================] - 18s 293ms/step - loss: 0.0989 - accuracy: 0.9661 - val_loss: 0.1675 - val_accuracy: 0.9458\n",
            "Epoch 11/64\n",
            "60/60 [==============================] - ETA: 0s - loss: 0.0495 - accuracy: 0.9823\n",
            "Epoch 11: val_accuracy did not improve from 0.96667\n",
            "60/60 [==============================] - 20s 331ms/step - loss: 0.0495 - accuracy: 0.9823 - val_loss: 0.1874 - val_accuracy: 0.9458\n",
            "Epoch 11: early stopping\n",
            "15/15 [==============================] - 3s 177ms/step\n",
            "                   precision    recall  f1-score   support\n",
            "\n",
            "Haploid (Class 0)       0.94      0.98      0.96       197\n",
            "Diploid (Class 1)       0.99      0.95      0.97       283\n",
            "\n",
            "         accuracy                           0.97       480\n",
            "        macro avg       0.96      0.97      0.97       480\n",
            "     weighted avg       0.97      0.97      0.97       480\n",
            "\n",
            "Waktu Pelatihan Data :  0:03:47.439797 \n",
            "\n",
            "\n",
            "---------- FOLD KE- 3 ----------\n",
            "Epoch 1/64\n",
            "60/60 [==============================] - ETA: 0s - loss: 0.1072 - accuracy: 0.9620\n",
            "Epoch 1: val_accuracy improved from -inf to 0.97917, saving model to /content/drive/My Drive/Penelitian/save_models/percobaan_2/model_3\n"
          ]
        },
        {
          "output_type": "stream",
          "name": "stderr",
          "text": [
            "WARNING:absl:Found untraced functions such as _jit_compiled_convolution_op, _jit_compiled_convolution_op, _jit_compiled_convolution_op, _jit_compiled_convolution_op, _jit_compiled_convolution_op while saving (showing 5 of 16). These functions will not be directly callable after loading.\n"
          ]
        },
        {
          "output_type": "stream",
          "name": "stdout",
          "text": [
            "\b\b\b\b\b\b\b\b\b\b\b\b\b\b\b\b\b\b\b\b\b\b\b\b\b\b\b\b\b\b\b\b\b\b\b\b\b\b\b\b\b\b\b\b\b\b\b\b\b\b\b\b\b\b\b\b\b\b\b\b\b\b\b\b\b\b\b\b\b\b\b\b\b\b\b\b\b\b\b\b\b\b\r60/60 [==============================] - 23s 377ms/step - loss: 0.1072 - accuracy: 0.9620 - val_loss: 0.0558 - val_accuracy: 0.9792\n",
            "Epoch 2/64\n",
            "60/60 [==============================] - ETA: 0s - loss: 0.0867 - accuracy: 0.9625\n",
            "Epoch 2: val_accuracy improved from 0.97917 to 0.98125, saving model to /content/drive/My Drive/Penelitian/save_models/percobaan_2/model_3\n"
          ]
        },
        {
          "output_type": "stream",
          "name": "stderr",
          "text": [
            "WARNING:absl:Found untraced functions such as _jit_compiled_convolution_op, _jit_compiled_convolution_op, _jit_compiled_convolution_op, _jit_compiled_convolution_op, _jit_compiled_convolution_op while saving (showing 5 of 16). These functions will not be directly callable after loading.\n"
          ]
        },
        {
          "output_type": "stream",
          "name": "stdout",
          "text": [
            "\b\b\b\b\b\b\b\b\b\b\b\b\b\b\b\b\b\b\b\b\b\b\b\b\b\b\b\b\b\b\b\b\b\b\b\b\b\b\b\b\b\b\b\b\b\b\b\b\b\b\b\b\b\b\b\b\b\b\b\b\b\b\b\b\b\b\b\b\b\b\b\b\b\b\b\b\b\b\b\b\b\b\r60/60 [==============================] - 23s 378ms/step - loss: 0.0867 - accuracy: 0.9625 - val_loss: 0.0523 - val_accuracy: 0.9812\n",
            "Epoch 3/64\n",
            "60/60 [==============================] - ETA: 0s - loss: 0.0575 - accuracy: 0.9786\n",
            "Epoch 3: val_accuracy improved from 0.98125 to 0.98333, saving model to /content/drive/My Drive/Penelitian/save_models/percobaan_2/model_3\n"
          ]
        },
        {
          "output_type": "stream",
          "name": "stderr",
          "text": [
            "WARNING:absl:Found untraced functions such as _jit_compiled_convolution_op, _jit_compiled_convolution_op, _jit_compiled_convolution_op, _jit_compiled_convolution_op, _jit_compiled_convolution_op while saving (showing 5 of 16). These functions will not be directly callable after loading.\n"
          ]
        },
        {
          "output_type": "stream",
          "name": "stdout",
          "text": [
            "\b\b\b\b\b\b\b\b\b\b\b\b\b\b\b\b\b\b\b\b\b\b\b\b\b\b\b\b\b\b\b\b\b\b\b\b\b\b\b\b\b\b\b\b\b\b\b\b\b\b\b\b\b\b\b\b\b\b\b\b\b\b\b\b\b\b\b\b\b\b\b\b\b\b\b\b\b\b\b\b\b\b\r60/60 [==============================] - 22s 376ms/step - loss: 0.0575 - accuracy: 0.9786 - val_loss: 0.0556 - val_accuracy: 0.9833\n",
            "Epoch 4/64\n",
            "60/60 [==============================] - ETA: 0s - loss: 0.0586 - accuracy: 0.9797\n",
            "Epoch 4: val_accuracy did not improve from 0.98333\n",
            "60/60 [==============================] - 20s 330ms/step - loss: 0.0586 - accuracy: 0.9797 - val_loss: 0.0699 - val_accuracy: 0.9729\n",
            "Epoch 5/64\n",
            "60/60 [==============================] - ETA: 0s - loss: 0.0758 - accuracy: 0.9740\n",
            "Epoch 5: val_accuracy did not improve from 0.98333\n",
            "60/60 [==============================] - 20s 330ms/step - loss: 0.0758 - accuracy: 0.9740 - val_loss: 0.0958 - val_accuracy: 0.9583\n",
            "Epoch 6/64\n",
            "60/60 [==============================] - ETA: 0s - loss: 0.0712 - accuracy: 0.9719\n",
            "Epoch 6: val_accuracy did not improve from 0.98333\n",
            "60/60 [==============================] - 20s 331ms/step - loss: 0.0712 - accuracy: 0.9719 - val_loss: 0.1023 - val_accuracy: 0.9479\n",
            "Epoch 7/64\n",
            "60/60 [==============================] - ETA: 0s - loss: 0.0376 - accuracy: 0.9844\n",
            "Epoch 7: val_accuracy did not improve from 0.98333\n",
            "60/60 [==============================] - 17s 290ms/step - loss: 0.0376 - accuracy: 0.9844 - val_loss: 0.0856 - val_accuracy: 0.9625\n",
            "Epoch 8/64\n",
            "60/60 [==============================] - ETA: 0s - loss: 0.0355 - accuracy: 0.9854\n",
            "Epoch 8: val_accuracy did not improve from 0.98333\n",
            "60/60 [==============================] - 17s 291ms/step - loss: 0.0355 - accuracy: 0.9854 - val_loss: 0.1082 - val_accuracy: 0.9542\n",
            "Epoch 9/64\n",
            "60/60 [==============================] - ETA: 0s - loss: 0.0341 - accuracy: 0.9875\n",
            "Epoch 9: val_accuracy did not improve from 0.98333\n",
            "60/60 [==============================] - 20s 331ms/step - loss: 0.0341 - accuracy: 0.9875 - val_loss: 0.0981 - val_accuracy: 0.9625\n",
            "Epoch 9: early stopping\n",
            "15/15 [==============================] - 3s 178ms/step\n",
            "                   precision    recall  f1-score   support\n",
            "\n",
            "Haploid (Class 0)       0.97      0.99      0.98       197\n",
            "Diploid (Class 1)       1.00      0.98      0.99       283\n",
            "\n",
            "         accuracy                           0.98       480\n",
            "        macro avg       0.98      0.99      0.98       480\n",
            "     weighted avg       0.98      0.98      0.98       480\n",
            "\n",
            "Waktu Pelatihan Data :  0:03:03.201066 \n",
            "\n",
            "\n",
            "---------- FOLD KE- 4 ----------\n",
            "Epoch 1/64\n",
            "60/60 [==============================] - ETA: 0s - loss: 0.0755 - accuracy: 0.9734\n",
            "Epoch 1: val_accuracy improved from -inf to 0.98333, saving model to /content/drive/My Drive/Penelitian/save_models/percobaan_2/model_4\n"
          ]
        },
        {
          "output_type": "stream",
          "name": "stderr",
          "text": [
            "WARNING:absl:Found untraced functions such as _jit_compiled_convolution_op, _jit_compiled_convolution_op, _jit_compiled_convolution_op, _jit_compiled_convolution_op, _jit_compiled_convolution_op while saving (showing 5 of 16). These functions will not be directly callable after loading.\n"
          ]
        },
        {
          "output_type": "stream",
          "name": "stdout",
          "text": [
            "\b\b\b\b\b\b\b\b\b\b\b\b\b\b\b\b\b\b\b\b\b\b\b\b\b\b\b\b\b\b\b\b\b\b\b\b\b\b\b\b\b\b\b\b\b\b\b\b\b\b\b\b\b\b\b\b\b\b\b\b\b\b\b\b\b\b\b\b\b\b\b\b\b\b\b\b\b\b\b\b\b\b\r60/60 [==============================] - 24s 384ms/step - loss: 0.0755 - accuracy: 0.9734 - val_loss: 0.0508 - val_accuracy: 0.9833\n",
            "Epoch 2/64\n",
            "60/60 [==============================] - ETA: 0s - loss: 0.0601 - accuracy: 0.9771\n",
            "Epoch 2: val_accuracy did not improve from 0.98333\n",
            "60/60 [==============================] - 20s 332ms/step - loss: 0.0601 - accuracy: 0.9771 - val_loss: 0.0949 - val_accuracy: 0.9667\n",
            "Epoch 3/64\n",
            "60/60 [==============================] - ETA: 0s - loss: 0.0328 - accuracy: 0.9875\n",
            "Epoch 3: val_accuracy improved from 0.98333 to 0.98750, saving model to /content/drive/My Drive/Penelitian/save_models/percobaan_2/model_4\n"
          ]
        },
        {
          "output_type": "stream",
          "name": "stderr",
          "text": [
            "WARNING:absl:Found untraced functions such as _jit_compiled_convolution_op, _jit_compiled_convolution_op, _jit_compiled_convolution_op, _jit_compiled_convolution_op, _jit_compiled_convolution_op while saving (showing 5 of 16). These functions will not be directly callable after loading.\n"
          ]
        },
        {
          "output_type": "stream",
          "name": "stdout",
          "text": [
            "\b\b\b\b\b\b\b\b\b\b\b\b\b\b\b\b\b\b\b\b\b\b\b\b\b\b\b\b\b\b\b\b\b\b\b\b\b\b\b\b\b\b\b\b\b\b\b\b\b\b\b\b\b\b\b\b\b\b\b\b\b\b\b\b\b\b\b\b\b\b\b\b\b\b\b\b\b\b\b\b\b\b\r60/60 [==============================] - 25s 416ms/step - loss: 0.0328 - accuracy: 0.9875 - val_loss: 0.0205 - val_accuracy: 0.9875\n",
            "Epoch 4/64\n",
            "60/60 [==============================] - ETA: 0s - loss: 0.0532 - accuracy: 0.9802\n",
            "Epoch 4: val_accuracy did not improve from 0.98750\n",
            "60/60 [==============================] - 20s 331ms/step - loss: 0.0532 - accuracy: 0.9802 - val_loss: 0.1245 - val_accuracy: 0.9521\n",
            "Epoch 5/64\n",
            "60/60 [==============================] - ETA: 0s - loss: 0.0559 - accuracy: 0.9792\n",
            "Epoch 5: val_accuracy did not improve from 0.98750\n",
            "60/60 [==============================] - 17s 291ms/step - loss: 0.0559 - accuracy: 0.9792 - val_loss: 0.0862 - val_accuracy: 0.9688\n",
            "Epoch 6/64\n",
            "60/60 [==============================] - ETA: 0s - loss: 0.0411 - accuracy: 0.9849\n",
            "Epoch 6: val_accuracy did not improve from 0.98750\n",
            "60/60 [==============================] - 20s 332ms/step - loss: 0.0411 - accuracy: 0.9849 - val_loss: 0.0857 - val_accuracy: 0.9708\n",
            "Epoch 7/64\n",
            "60/60 [==============================] - ETA: 0s - loss: 0.0335 - accuracy: 0.9870\n",
            "Epoch 7: val_accuracy did not improve from 0.98750\n",
            "60/60 [==============================] - 20s 330ms/step - loss: 0.0335 - accuracy: 0.9870 - val_loss: 0.1315 - val_accuracy: 0.9667\n",
            "Epoch 8/64\n",
            "60/60 [==============================] - ETA: 0s - loss: 0.0267 - accuracy: 0.9948\n",
            "Epoch 8: val_accuracy did not improve from 0.98750\n",
            "60/60 [==============================] - 20s 331ms/step - loss: 0.0267 - accuracy: 0.9948 - val_loss: 0.0640 - val_accuracy: 0.9812\n",
            "Epoch 9/64\n",
            "60/60 [==============================] - ETA: 0s - loss: 0.0171 - accuracy: 0.9943\n",
            "Epoch 9: val_accuracy did not improve from 0.98750\n",
            "60/60 [==============================] - 20s 332ms/step - loss: 0.0171 - accuracy: 0.9943 - val_loss: 0.0942 - val_accuracy: 0.9563\n",
            "Epoch 10/64\n",
            "60/60 [==============================] - ETA: 0s - loss: 0.0544 - accuracy: 0.9812\n",
            "Epoch 10: val_accuracy did not improve from 0.98750\n",
            "60/60 [==============================] - 20s 331ms/step - loss: 0.0544 - accuracy: 0.9812 - val_loss: 0.0863 - val_accuracy: 0.9708\n",
            "Epoch 10: early stopping\n",
            "15/15 [==============================] - 3s 178ms/step\n",
            "                   precision    recall  f1-score   support\n",
            "\n",
            "Haploid (Class 0)       0.98      0.99      0.98       197\n",
            "Diploid (Class 1)       1.00      0.98      0.99       283\n",
            "\n",
            "         accuracy                           0.99       480\n",
            "        macro avg       0.99      0.99      0.99       480\n",
            "     weighted avg       0.99      0.99      0.99       480\n",
            "\n",
            "Waktu Pelatihan Data :  0:03:25.821326 \n",
            "\n",
            "\n",
            "---------- FOLD KE- 5 ----------\n",
            "Epoch 1/64\n",
            "60/60 [==============================] - ETA: 0s - loss: 0.0566 - accuracy: 0.9807\n",
            "Epoch 1: val_accuracy improved from -inf to 0.98750, saving model to /content/drive/My Drive/Penelitian/save_models/percobaan_2/model_5\n"
          ]
        },
        {
          "output_type": "stream",
          "name": "stderr",
          "text": [
            "WARNING:absl:Found untraced functions such as _jit_compiled_convolution_op, _jit_compiled_convolution_op, _jit_compiled_convolution_op, _jit_compiled_convolution_op, _jit_compiled_convolution_op while saving (showing 5 of 16). These functions will not be directly callable after loading.\n"
          ]
        },
        {
          "output_type": "stream",
          "name": "stdout",
          "text": [
            "\b\b\b\b\b\b\b\b\b\b\b\b\b\b\b\b\b\b\b\b\b\b\b\b\b\b\b\b\b\b\b\b\b\b\b\b\b\b\b\b\b\b\b\b\b\b\b\b\b\b\b\b\b\b\b\b\b\b\b\b\b\b\b\b\b\b\b\b\b\b\b\b\b\b\b\b\b\b\b\b\b\b\r60/60 [==============================] - 27s 427ms/step - loss: 0.0566 - accuracy: 0.9807 - val_loss: 0.0486 - val_accuracy: 0.9875\n",
            "Epoch 2/64\n",
            "60/60 [==============================] - ETA: 0s - loss: 0.0696 - accuracy: 0.9750\n",
            "Epoch 2: val_accuracy improved from 0.98750 to 0.98958, saving model to /content/drive/My Drive/Penelitian/save_models/percobaan_2/model_5\n"
          ]
        },
        {
          "output_type": "stream",
          "name": "stderr",
          "text": [
            "WARNING:absl:Found untraced functions such as _jit_compiled_convolution_op, _jit_compiled_convolution_op, _jit_compiled_convolution_op, _jit_compiled_convolution_op, _jit_compiled_convolution_op while saving (showing 5 of 16). These functions will not be directly callable after loading.\n"
          ]
        },
        {
          "output_type": "stream",
          "name": "stdout",
          "text": [
            "\b\b\b\b\b\b\b\b\b\b\b\b\b\b\b\b\b\b\b\b\b\b\b\b\b\b\b\b\b\b\b\b\b\b\b\b\b\b\b\b\b\b\b\b\b\b\b\b\b\b\b\b\b\b\b\b\b\b\b\b\b\b\b\b\b\b\b\b\b\b\b\b\b\b\b\b\b\b\b\b\b\b\r60/60 [==============================] - 23s 383ms/step - loss: 0.0696 - accuracy: 0.9750 - val_loss: 0.0299 - val_accuracy: 0.9896\n",
            "Epoch 3/64\n",
            "60/60 [==============================] - ETA: 0s - loss: 0.0216 - accuracy: 0.9932\n",
            "Epoch 3: val_accuracy did not improve from 0.98958\n",
            "60/60 [==============================] - 20s 332ms/step - loss: 0.0216 - accuracy: 0.9932 - val_loss: 0.0627 - val_accuracy: 0.9812\n",
            "Epoch 4/64\n",
            "60/60 [==============================] - ETA: 0s - loss: 0.0627 - accuracy: 0.9802\n",
            "Epoch 4: val_accuracy did not improve from 0.98958\n",
            "60/60 [==============================] - 20s 330ms/step - loss: 0.0627 - accuracy: 0.9802 - val_loss: 0.0796 - val_accuracy: 0.9625\n",
            "Epoch 5/64\n",
            "60/60 [==============================] - ETA: 0s - loss: 0.0380 - accuracy: 0.9859\n",
            "Epoch 5: val_accuracy did not improve from 0.98958\n",
            "60/60 [==============================] - 20s 331ms/step - loss: 0.0380 - accuracy: 0.9859 - val_loss: 0.0412 - val_accuracy: 0.9875\n",
            "Epoch 6/64\n",
            "60/60 [==============================] - ETA: 0s - loss: 0.0541 - accuracy: 0.9839\n",
            "Epoch 6: val_accuracy did not improve from 0.98958\n",
            "60/60 [==============================] - 17s 289ms/step - loss: 0.0541 - accuracy: 0.9839 - val_loss: 0.0387 - val_accuracy: 0.9833\n",
            "Epoch 7/64\n",
            "60/60 [==============================] - ETA: 0s - loss: 0.0135 - accuracy: 0.9964\n",
            "Epoch 7: val_accuracy improved from 0.98958 to 0.99167, saving model to /content/drive/My Drive/Penelitian/save_models/percobaan_2/model_5\n"
          ]
        },
        {
          "output_type": "stream",
          "name": "stderr",
          "text": [
            "WARNING:absl:Found untraced functions such as _jit_compiled_convolution_op, _jit_compiled_convolution_op, _jit_compiled_convolution_op, _jit_compiled_convolution_op, _jit_compiled_convolution_op while saving (showing 5 of 16). These functions will not be directly callable after loading.\n"
          ]
        },
        {
          "output_type": "stream",
          "name": "stdout",
          "text": [
            "\b\b\b\b\b\b\b\b\b\b\b\b\b\b\b\b\b\b\b\b\b\b\b\b\b\b\b\b\b\b\b\b\b\b\b\b\b\b\b\b\b\b\b\b\b\b\b\b\b\b\b\b\b\b\b\b\b\b\b\b\b\b\b\b\b\b\b\b\b\b\b\b\b\b\b\b\b\b\b\b\b\b\r60/60 [==============================] - 25s 414ms/step - loss: 0.0135 - accuracy: 0.9964 - val_loss: 0.0217 - val_accuracy: 0.9917\n",
            "Epoch 8/64\n",
            "60/60 [==============================] - ETA: 0s - loss: 0.0210 - accuracy: 0.9943\n",
            "Epoch 8: val_accuracy did not improve from 0.99167\n",
            "60/60 [==============================] - 20s 331ms/step - loss: 0.0210 - accuracy: 0.9943 - val_loss: 0.0748 - val_accuracy: 0.9708\n",
            "Epoch 9/64\n",
            "60/60 [==============================] - ETA: 0s - loss: 0.0401 - accuracy: 0.9844\n",
            "Epoch 9: val_accuracy did not improve from 0.99167\n",
            "60/60 [==============================] - 20s 333ms/step - loss: 0.0401 - accuracy: 0.9844 - val_loss: 0.0610 - val_accuracy: 0.9771\n",
            "Epoch 10/64\n",
            "60/60 [==============================] - ETA: 0s - loss: 0.0361 - accuracy: 0.9880\n",
            "Epoch 10: val_accuracy did not improve from 0.99167\n",
            "60/60 [==============================] - 20s 330ms/step - loss: 0.0361 - accuracy: 0.9880 - val_loss: 0.0543 - val_accuracy: 0.9812\n",
            "Epoch 11/64\n",
            "60/60 [==============================] - ETA: 0s - loss: 0.0285 - accuracy: 0.9922\n",
            "Epoch 11: val_accuracy did not improve from 0.99167\n",
            "60/60 [==============================] - 17s 290ms/step - loss: 0.0285 - accuracy: 0.9922 - val_loss: 0.0255 - val_accuracy: 0.9896\n",
            "Epoch 12/64\n",
            "60/60 [==============================] - ETA: 0s - loss: 0.0163 - accuracy: 0.9937\n",
            "Epoch 12: val_accuracy did not improve from 0.99167\n",
            "60/60 [==============================] - 17s 290ms/step - loss: 0.0163 - accuracy: 0.9937 - val_loss: 0.0270 - val_accuracy: 0.9875\n",
            "Epoch 13/64\n",
            "60/60 [==============================] - ETA: 0s - loss: 0.0240 - accuracy: 0.9932\n",
            "Epoch 13: val_accuracy did not improve from 0.99167\n",
            "60/60 [==============================] - 20s 331ms/step - loss: 0.0240 - accuracy: 0.9932 - val_loss: 0.0815 - val_accuracy: 0.9708\n",
            "Epoch 14/64\n",
            "60/60 [==============================] - ETA: 0s - loss: 0.0134 - accuracy: 0.9964\n",
            "Epoch 14: val_accuracy did not improve from 0.99167\n",
            "60/60 [==============================] - 20s 331ms/step - loss: 0.0134 - accuracy: 0.9964 - val_loss: 0.0454 - val_accuracy: 0.9812\n",
            "Epoch 14: early stopping\n",
            "15/15 [==============================] - 3s 177ms/step\n",
            "                   precision    recall  f1-score   support\n",
            "\n",
            "Haploid (Class 0)       0.98      1.00      0.99       197\n",
            "Diploid (Class 1)       1.00      0.99      0.99       283\n",
            "\n",
            "         accuracy                           0.99       480\n",
            "        macro avg       0.99      0.99      0.99       480\n",
            "     weighted avg       0.99      0.99      0.99       480\n",
            "\n",
            "Waktu Pelatihan Data :  0:04:45.941894 \n",
            "\n",
            "\n"
          ]
        }
      ]
    },
    {
      "cell_type": "code",
      "source": [
        "print(akurasi_val_data)\n",
        "print(AUC)\n",
        "print(CV)\n",
        "print(waktu)\n",
        "\n",
        "print(LOSS)\n",
        "print(VAL_LOSS)\n",
        "print(ACCURACY)\n",
        "print(VAL_ACCURACY)"
      ],
      "metadata": {
        "id": "S8AlzSeTIW38",
        "colab": {
          "base_uri": "https://localhost:8080/"
        },
        "outputId": "5ca912ac-218b-4f7a-ceb2-6edca76b65fc"
      },
      "execution_count": null,
      "outputs": [
        {
          "output_type": "stream",
          "name": "stdout",
          "text": [
            "[0.90625, 0.9666666666666667, 0.9833333333333333, 0.9875, 0.9916666666666667]\n",
            "[0.9002227651624028, 0.9694175889221718, 0.9850944377679325, 0.9886280066725259, 0.9929328621908127]\n",
            "['CV-1', 'CV-2', 'CV-3', 'CV-4', 'CV-5']\n",
            "[datetime.timedelta(seconds=385, microseconds=124016), datetime.timedelta(seconds=227, microseconds=439797), datetime.timedelta(seconds=183, microseconds=201066), datetime.timedelta(seconds=205, microseconds=821326), datetime.timedelta(seconds=285, microseconds=941894)]\n",
            "[[0.9105017185211182, 0.6623889207839966, 0.6383435130119324, 0.6505926847457886, 0.544442355632782, 0.40314537286758423, 0.3026668131351471, 0.2719614803791046, 0.2732120156288147, 0.22770076990127563, 0.19067390263080597, 0.15919868648052216, 0.16483473777770996, 0.1336885541677475, 0.12686721980571747, 0.11781131476163864, 0.1338508129119873, 0.11279132217168808], [0.18763452768325806, 0.13934941589832306, 0.12529867887496948, 0.12535522878170013, 0.09357793629169464, 0.11742504686117172, 0.06877817213535309, 0.057683300226926804, 0.06369323283433914, 0.09885653108358383, 0.04953370243310928], [0.10716409981250763, 0.08672241866588593, 0.05752706527709961, 0.0585603266954422, 0.07576155662536621, 0.07123395800590515, 0.03764637932181358, 0.03545607626438141, 0.034062016755342484], [0.07554832100868225, 0.060086436569690704, 0.03283289074897766, 0.053159333765506744, 0.05589739978313446, 0.041076287627220154, 0.03353481739759445, 0.026724286377429962, 0.017122356221079826, 0.05437925085425377], [0.05661427974700928, 0.0696180909872055, 0.021649139001965523, 0.0627339705824852, 0.03795711323618889, 0.054133497178554535, 0.013519872911274433, 0.021044660359621048, 0.040110837668180466, 0.03612113371491432, 0.02853797934949398, 0.0162802767008543, 0.024033237248659134, 0.013388070277869701]]\n",
            "[[0.6740762591362, 0.587401270866394, 0.6681251525878906, 0.5899146795272827, 0.44191789627075195, 0.3779853582382202, 0.4424440264701843, 0.2852707505226135, 0.28444531559944153, 0.3289496600627899, 0.24382464587688446, 0.2581736445426941, 0.24851879477500916, 0.41979706287384033, 0.34592774510383606, 0.3406573534011841, 0.3292212188243866, 0.39910414814949036], [0.14397075772285461, 0.14596933126449585, 0.12132982164621353, 0.11521409451961517, 0.14846105873584747, 0.12122933566570282, 0.15439845621585846, 0.12516680359840393, 0.2541883885860443, 0.1675264835357666, 0.18739503622055054], [0.05579884350299835, 0.052306417375802994, 0.0555625818669796, 0.06989403814077377, 0.09580472856760025, 0.1023169606924057, 0.08555608242750168, 0.10815886408090591, 0.09814456850290298], [0.050784625113010406, 0.09487323462963104, 0.02045520581305027, 0.1245427280664444, 0.08616680651903152, 0.08570036292076111, 0.1314736157655716, 0.06397134065628052, 0.09416854381561279, 0.08626417070627213], [0.04856034740805626, 0.02988417074084282, 0.06273411959409714, 0.0796145424246788, 0.041220035403966904, 0.03873565420508385, 0.021691305562853813, 0.07482852786779404, 0.06098506227135658, 0.05427214875817299, 0.025529367849230766, 0.026978861540555954, 0.08148205280303955, 0.045435428619384766]]\n",
            "[[0.567187488079071, 0.5942708253860474, 0.6114583611488342, 0.6197916865348816, 0.7135416865348816, 0.8104166388511658, 0.8817708492279053, 0.8848958611488342, 0.8921874761581421, 0.90625, 0.9234374761581421, 0.9401041865348816, 0.9385416507720947, 0.9552083611488342, 0.9536458253860474, 0.9541666507720947, 0.9442708492279053, 0.9572916626930237], [0.9281250238418579, 0.9489583373069763, 0.9489583373069763, 0.9520833492279053, 0.9703124761581421, 0.9557291865348816, 0.9750000238418579, 0.9770833253860474, 0.9781249761581421, 0.9661458134651184, 0.9822916388511658], [0.9619791507720947, 0.9624999761581421, 0.9786458611488342, 0.979687511920929, 0.9739583134651184, 0.971875011920929, 0.984375, 0.9854166507720947, 0.987500011920929], [0.973437488079071, 0.9770833253860474, 0.987500011920929, 0.9802083373069763, 0.9791666865348816, 0.9848958253860474, 0.9869791865348816, 0.9947916865348816, 0.9942708611488342, 0.981249988079071], [0.9807291626930237, 0.9750000238418579, 0.9932291507720947, 0.9802083373069763, 0.9859374761581421, 0.9838541746139526, 0.9963541626930237, 0.9942708611488342, 0.984375, 0.9880208373069763, 0.9921875, 0.9937499761581421, 0.9932291507720947, 0.9963541626930237]]\n",
            "[[0.5916666388511658, 0.6854166388511658, 0.5916666388511658, 0.6416666507720947, 0.7958333492279053, 0.8291666507720947, 0.7895833253860474, 0.8812500238418579, 0.8708333373069763, 0.8604166507720947, 0.8979166746139526, 0.893750011920929, 0.8979166746139526, 0.856249988079071, 0.8979166746139526, 0.90625, 0.887499988079071, 0.875], [0.9437500238418579, 0.949999988079071, 0.9458333253860474, 0.9520833492279053, 0.9437500238418579, 0.9520833492279053, 0.9354166388511658, 0.9666666388511658, 0.9333333373069763, 0.9458333253860474, 0.9458333253860474], [0.9791666865348816, 0.981249988079071, 0.9833333492279053, 0.9729166626930237, 0.9583333134651184, 0.9479166865348816, 0.9624999761581421, 0.9541666507720947, 0.9624999761581421], [0.9833333492279053, 0.9666666388511658, 0.987500011920929, 0.9520833492279053, 0.96875, 0.9708333611488342, 0.9666666388511658, 0.981249988079071, 0.956250011920929, 0.9708333611488342], [0.987500011920929, 0.9895833134651184, 0.981249988079071, 0.9624999761581421, 0.987500011920929, 0.9833333492279053, 0.9916666746139526, 0.9708333611488342, 0.9770833253860474, 0.981249988079071, 0.9895833134651184, 0.987500011920929, 0.9708333611488342, 0.981249988079071]]\n"
          ]
        }
      ]
    },
    {
      "cell_type": "code",
      "source": [
        "fig = plt.figure(figsize=(12,8))\n",
        "plt.plot(CV, akurasi_val_data, marker='o')\n",
        "plt.title('Akurasi setiap Fold')\n",
        "plt.xlabel('Fold Ke')\n",
        "plt.ylabel('Akurasi')\n",
        "plt.ylim((0., 1))\n",
        "plt.grid()\n",
        "plt.show()"
      ],
      "metadata": {
        "id": "80Xyh5ZkVDQ4",
        "colab": {
          "base_uri": "https://localhost:8080/",
          "height": 513
        },
        "outputId": "57f1a572-274c-401e-ad6a-89857e7d25e3"
      },
      "execution_count": null,
      "outputs": [
        {
          "output_type": "display_data",
          "data": {
            "text/plain": [
              "<Figure size 864x576 with 1 Axes>"
            ],
            "image/png": "[encoded data removed]"
          },
          "metadata": {
            "needs_background": "light"
          }
        }
      ]
    },
    {
      "cell_type": "code",
      "source": [
        "def visualisasi_fit(judul, n_train, n_val):\n",
        "  fig, ax = plt.subplots(3,2,constrained_layout=True, figsize=(15,10))\n",
        "  index=0\n",
        "  for i in range(3):\n",
        "    for j in range(2):\n",
        "      if j==0:\n",
        "        ax[i,j].set_title('CV' + str(index+1) + judul)\n",
        "        ax[i,j].plot(n_train[index], '--', label=judul)\n",
        "        ax[i,j].plot(n_val[index], label='Val_'+judul)\n",
        "        ax[i,j].set_xlabel('x-axis')\n",
        "        ax[i,j].set_ylabel('y-axis')\n",
        "      else:\n",
        "        if index==5:\n",
        "          break\n",
        "        ax[i,j].set_title('CV' + str(index+1) + judul)\n",
        "        ax[i,j].set_xlabel('x-axis')\n",
        "        ax[i,j].set_ylabel('y-axis')\n",
        "        ax[i,j].plot(n_train[index], '--', label=judul)\n",
        "        ax[i,j].plot(n_val[index], label='Val_'+judul)\n",
        "      ax[i,j].grid()\n",
        "      ax[i,j].set_ylim((0., 1))\n",
        "      ax[i,j].legend()\n",
        "      index+=1"
      ],
      "metadata": {
        "id": "JRV1LJmNuCba"
      },
      "execution_count": null,
      "outputs": []
    },
    {
      "cell_type": "code",
      "source": [
        "vis_akurasi = visualisasi_fit('Accuracy', ACCURACY, VAL_ACCURACY)\n",
        "vis_akurasi"
      ],
      "metadata": {
        "id": "h1xgx9LOS8Pj",
        "colab": {
          "base_uri": "https://localhost:8080/",
          "height": 745
        },
        "outputId": "fbb6d635-f40e-4fc2-a962-b8a95b898ab5"
      },
      "execution_count": null,
      "outputs": [
        {
          "output_type": "display_data",
          "data": {
            "text/plain": [
              "<Figure size 1080x720 with 6 Axes>"
            ],
            "image/png": "[encoded data removed]"
          },
          "metadata": {
            "needs_background": "light"
          }
        }
      ]
    },
    {
      "cell_type": "code",
      "source": [
        "vis_loss = visualisasi_fit('Loss', LOSS, VAL_LOSS)\n",
        "vis_loss"
      ],
      "metadata": {
        "id": "7EhBtyPTVcDT",
        "colab": {
          "base_uri": "https://localhost:8080/",
          "height": 745
        },
        "outputId": "98c81540-03aa-463c-8380-bd2c88067a0d"
      },
      "execution_count": null,
      "outputs": [
        {
          "output_type": "display_data",
          "data": {
            "text/plain": [
              "<Figure size 1080x720 with 6 Axes>"
            ],
            "image/png": "[encoded data removed]"
          },
          "metadata": {
            "needs_background": "light"
          }
        }
      ]
    },
    {
      "cell_type": "code",
      "source": [
        "terbaik=[]\n",
        "for i in range(5):\n",
        "  nilai = (akurasi_val_data[i]+AUC[i])/2\n",
        "  terbaik.append(nilai)"
      ],
      "metadata": {
        "id": "mmIzZmFlfj81"
      },
      "execution_count": null,
      "outputs": []
    },
    {
      "cell_type": "code",
      "source": [
        "terbaik"
      ],
      "metadata": {
        "colab": {
          "base_uri": "https://localhost:8080/"
        },
        "id": "_6Xy_59UkJ4e",
        "outputId": "df6ec4ab-4643-4ac5-ace5-b22bf1a0b858"
      },
      "execution_count": null,
      "outputs": [
        {
          "output_type": "execute_result",
          "data": {
            "text/plain": [
              "[0.9032363825812014,\n",
              " 0.9680421277944192,\n",
              " 0.9842138855506328,\n",
              " 0.988064003336263,\n",
              " 0.9922997644287397]"
            ]
          },
          "metadata": {},
          "execution_count": 27
        }
      ]
    },
    {
      "cell_type": "code",
      "source": [
        "s=0\n",
        "baik=1\n",
        "for i, v in enumerate(terbaik):\n",
        "  if v>s:\n",
        "    s=v\n",
        "    baik=i+1\n",
        "  else:\n",
        "    continue\n",
        "print(baik, s)"
      ],
      "metadata": {
        "id": "EyiYgUnfVl0P",
        "colab": {
          "base_uri": "https://localhost:8080/"
        },
        "outputId": "7644037b-810d-4a18-929d-c52926d1d4e5"
      },
      "execution_count": null,
      "outputs": [
        {
          "output_type": "stream",
          "name": "stdout",
          "text": [
            "5 0.9922997644287397\n"
          ]
        }
      ]
    },
    {
      "cell_type": "code",
      "source": [
        "model = load_model(save_dir+\"model_\"+str(baik))\n",
        "y_pred = model.predict(x_test)\n",
        "y_pred = np.argmax(y_pred, axis=1)"
      ],
      "metadata": {
        "colab": {
          "base_uri": "https://localhost:8080/"
        },
        "id": "DKL6ZumEWeJJ",
        "outputId": "bf91dabc-a7ce-4e55-9ff3-8faa70b4d696"
      },
      "execution_count": null,
      "outputs": [
        {
          "output_type": "stream",
          "name": "stdout",
          "text": [
            "19/19 [==============================] - 6s 307ms/step\n"
          ]
        }
      ]
    },
    {
      "cell_type": "code",
      "source": [
        "acc_test = accuracy_score(y_test, y_pred)\n",
        "prec_test = precision_score(y_test, y_pred)\n",
        "rec_test = recall_score(y_test, y_pred)\n",
        "f1score_test = f1_score(y_test, y_pred)"
      ],
      "metadata": {
        "id": "buOO7aqwXBRD"
      },
      "execution_count": null,
      "outputs": []
    },
    {
      "cell_type": "code",
      "source": [
        "print('Acc Test : ', acc_test)\n",
        "print('Prec Test : ', prec_test)\n",
        "print('Rec Test : ', rec_test)\n",
        "print('F1-Score Test : ', f1score_test)"
      ],
      "metadata": {
        "colab": {
          "base_uri": "https://localhost:8080/"
        },
        "id": "zv5gLs72XR3s",
        "outputId": "9f9be923-1c79-442c-ebd9-d9cdda618762"
      },
      "execution_count": null,
      "outputs": [
        {
          "output_type": "stream",
          "name": "stdout",
          "text": [
            "Acc Test :  0.9516666666666667\n",
            "Prec Test :  0.9310344827586207\n",
            "Rec Test :  0.9915254237288136\n",
            "F1-Score Test :  0.9603283173734611\n"
          ]
        }
      ]
    },
    {
      "cell_type": "code",
      "source": [
        "print(classification_report(y_test, y_pred, target_names = ['Haploid (Class 0)','Diploid (Class 1)']))"
      ],
      "metadata": {
        "colab": {
          "base_uri": "https://localhost:8080/"
        },
        "id": "TQzf0RFJXSs9",
        "outputId": "168baf93-70ce-4902-82a3-472042202732"
      },
      "execution_count": null,
      "outputs": [
        {
          "output_type": "stream",
          "name": "stdout",
          "text": [
            "                   precision    recall  f1-score   support\n",
            "\n",
            "Haploid (Class 0)       0.99      0.89      0.94       246\n",
            "Diploid (Class 1)       0.93      0.99      0.96       354\n",
            "\n",
            "         accuracy                           0.95       600\n",
            "        macro avg       0.96      0.94      0.95       600\n",
            "     weighted avg       0.95      0.95      0.95       600\n",
            "\n"
          ]
        }
      ]
    },
    {
      "cell_type": "code",
      "source": [
        "cm = confusion_matrix(y_test, y_pred)\n",
        "cm"
      ],
      "metadata": {
        "colab": {
          "base_uri": "https://localhost:8080/"
        },
        "id": "zMQr2ENrXXpx",
        "outputId": "036ab466-9c8b-4254-f12b-1f03b07419d4"
      },
      "execution_count": null,
      "outputs": [
        {
          "output_type": "execute_result",
          "data": {
            "text/plain": [
              "array([[220,  26],\n",
              "       [  3, 351]])"
            ]
          },
          "metadata": {},
          "execution_count": 34
        }
      ]
    },
    {
      "cell_type": "code",
      "source": [
        "sns.heatmap(cm, annot=True, xticklabels=['Haploid', 'Diploid'], yticklabels=['Haploid', 'Diploid'])"
      ],
      "metadata": {
        "colab": {
          "base_uri": "https://localhost:8080/",
          "height": 286
        },
        "id": "MkhZnw7QXwWw",
        "outputId": "b95a506b-863c-4396-d40b-ab4c637e6810"
      },
      "execution_count": null,
      "outputs": [
        {
          "output_type": "execute_result",
          "data": {
            "text/plain": [
              "<matplotlib.axes._subplots.AxesSubplot at 0x7f44e7a56d90>"
            ]
          },
          "metadata": {},
          "execution_count": 35
        },
        {
          "output_type": "display_data",
          "data": {
            "text/plain": [
              "<Figure size 432x288 with 2 Axes>"
            ],
            "image/png": "[encoded data removed]"
          },
          "metadata": {
            "needs_background": "light"
          }
        }
      ]
    },
    {
      "cell_type": "code",
      "source": [
        "def plot_roc_curve(true_y, y_prob): \n",
        "    fpr, tpr, thresholds = roc_curve(true_y, y_prob)\n",
        "    plt.plot(fpr, tpr)\n",
        "    plt.xlabel('False Positive Rate')\n",
        "    plt.ylabel('True Positive Rate')"
      ],
      "metadata": {
        "id": "3EQiDa_kYBnZ"
      },
      "execution_count": null,
      "outputs": []
    },
    {
      "cell_type": "code",
      "source": [
        "plot_roc_curve(y_test, y_pred)\n",
        "auc = roc_auc_score(y_test, y_pred)\n",
        "print('Model AUC score : {}'.format(auc))"
      ],
      "metadata": {
        "colab": {
          "base_uri": "https://localhost:8080/",
          "height": 296
        },
        "id": "gYRuQOdAYc1r",
        "outputId": "cbbab5b0-79ff-4cac-fcc2-094d05c9859e"
      },
      "execution_count": null,
      "outputs": [
        {
          "output_type": "stream",
          "name": "stdout",
          "text": [
            "Model AUC score : 0.9429171834091221\n"
          ]
        },
        {
          "output_type": "display_data",
          "data": {
            "text/plain": [
              "<Figure size 432x288 with 1 Axes>"
            ],
            "image/png": "[encoded data removed]"
          },
          "metadata": {
            "needs_background": "light"
          }
        }
      ]
    }
  ]
}