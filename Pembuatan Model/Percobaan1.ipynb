{
  "nbformat": 4,
  "nbformat_minor": 0,
  "metadata": {
    "colab": {
      "provenance": []
    },
    "kernelspec": {
      "name": "python3",
      "display_name": "Python 3"
    },
    "language_info": {
      "name": "python"
    },
    "gpuClass": "standard"
  },
  "cells": [
    {
      "cell_type": "markdown",
      "source": [
        "# Data tidak seimbang dan tanpa fine-tuning"
      ],
      "metadata": {
        "id": "Z-x61298btg1"
      }
    },
    {
      "cell_type": "code",
      "execution_count": null,
      "metadata": {
        "id": "qqKqTNAYbiu9"
      },
      "outputs": [],
      "source": [
        "import os\n",
        "import cv2\n",
        "import glob\n",
        "import numpy as np\n",
        "import pandas as pd\n",
        "import seaborn as sns\n",
        "import matplotlib.pyplot as plt\n",
        "from tqdm import tqdm\n",
        "import datetime\n",
        "\n",
        "import tensorflow\n",
        "from tensorflow import keras\n",
        "from keras.models import load_model\n",
        "from tensorflow.keras.applications.vgg19 import VGG19\n",
        "from tensorflow.keras.preprocessing import image\n",
        "from tensorflow.keras.applications.vgg19 import preprocess_input\n",
        "from tensorflow.keras.models import Model\n",
        "from tensorflow.keras.callbacks import ModelCheckpoint, EarlyStopping\n",
        "from tensorflow.keras.backend import clear_session\n",
        "from tensorflow.keras.layers import Input, Dense, Flatten, Dropout, Activation\n",
        "from tensorflow.keras.optimizers import Adam\n",
        "from tensorflow.keras.utils import to_categorical\n",
        "\n",
        "from sklearn.utils import shuffle \n",
        "from sklearn.model_selection import StratifiedKFold\n",
        "from sklearn.metrics import accuracy_score, f1_score, precision_score, recall_score, classification_report, confusion_matrix, roc_auc_score, roc_curve"
      ]
    },
    {
      "cell_type": "code",
      "source": [
        "from google.colab import drive\n",
        "drive.mount(\"/content/drive\")"
      ],
      "metadata": {
        "colab": {
          "base_uri": "https://localhost:8080/"
        },
        "id": "owfxaWyZjmfE",
        "outputId": "40f046f7-c65f-4496-9d69-902182f3dfa0"
      },
      "execution_count": null,
      "outputs": [
        {
          "output_type": "stream",
          "name": "stdout",
          "text": [
            "Mounted at /content/drive\n"
          ]
        }
      ]
    },
    {
      "cell_type": "code",
      "source": [
        "path_benih = '/content/drive/My Drive/Penelitian/Dataset/'"
      ],
      "metadata": {
        "id": "MGmTY506jxTm"
      },
      "execution_count": null,
      "outputs": []
    },
    {
      "cell_type": "code",
      "source": [
        "kelas = ['haploid', 'diploid']\n",
        "kelas"
      ],
      "metadata": {
        "colab": {
          "base_uri": "https://localhost:8080/"
        },
        "id": "oXUZMxWkkMwI",
        "outputId": "0f89f622-1685-45cd-f47b-80a9e003e9c2"
      },
      "execution_count": null,
      "outputs": [
        {
          "output_type": "execute_result",
          "data": {
            "text/plain": [
              "['haploid', 'diploid']"
            ]
          },
          "metadata": {},
          "execution_count": 4
        }
      ]
    },
    {
      "cell_type": "code",
      "source": [
        "def get_data(data_dir):\n",
        "    size = (224,224)\n",
        "    label = 0\n",
        "    x = []\n",
        "    y = []\n",
        "    for folder in kelas:\n",
        "        print(\"Loading {}\".format(data_dir+folder))\n",
        "        for pic in tqdm(glob.glob(data_dir + folder + '/*')):\n",
        "            im = cv2.imread(pic)\n",
        "            im = cv2.cvtColor(im, cv2.COLOR_BGR2RGB)\n",
        "            im = cv2.resize(im, (size))\n",
        "            im = np.array(im)\n",
        "            x.append(im)\n",
        "            y.append(label)\n",
        "        label+=1\n",
        "    x = np.array(x, dtype = 'float32')\n",
        "    y = np.array(y, dtype = 'int32')\n",
        "    return x,y"
      ],
      "metadata": {
        "id": "gLcsrZzTkOQw"
      },
      "execution_count": null,
      "outputs": []
    },
    {
      "cell_type": "code",
      "source": [
        "x_train, y_train = get_data(path_benih + 'train/')\n",
        "x_test, y_test = get_data(path_benih + 'test/')"
      ],
      "metadata": {
        "colab": {
          "base_uri": "https://localhost:8080/"
        },
        "id": "xR7uv4TpkRK8",
        "outputId": "7466472f-838e-4d69-a764-21df629a6992"
      },
      "execution_count": null,
      "outputs": [
        {
          "output_type": "stream",
          "name": "stdout",
          "text": [
            "Loading /content/drive/My Drive/Penelitian/Dataset/train/haploid\n"
          ]
        },
        {
          "output_type": "stream",
          "name": "stderr",
          "text": [
            "100%|██████████| 984/984 [00:15<00:00, 65.51it/s] \n"
          ]
        },
        {
          "output_type": "stream",
          "name": "stdout",
          "text": [
            "Loading /content/drive/My Drive/Penelitian/Dataset/train/diploid\n"
          ]
        },
        {
          "output_type": "stream",
          "name": "stderr",
          "text": [
            "100%|██████████| 1416/1416 [00:23<00:00, 60.19it/s] \n"
          ]
        },
        {
          "output_type": "stream",
          "name": "stdout",
          "text": [
            "Loading /content/drive/My Drive/Penelitian/Dataset/test/haploid\n"
          ]
        },
        {
          "output_type": "stream",
          "name": "stderr",
          "text": [
            "100%|██████████| 246/246 [00:03<00:00, 77.22it/s] \n"
          ]
        },
        {
          "output_type": "stream",
          "name": "stdout",
          "text": [
            "Loading /content/drive/My Drive/Penelitian/Dataset/test/diploid\n"
          ]
        },
        {
          "output_type": "stream",
          "name": "stderr",
          "text": [
            "100%|██████████| 354/354 [00:04<00:00, 71.01it/s] \n"
          ]
        }
      ]
    },
    {
      "cell_type": "code",
      "source": [
        "x_train/=255.\n",
        "x_test/=255."
      ],
      "metadata": {
        "id": "a4l1AG6FkUjW"
      },
      "execution_count": null,
      "outputs": []
    },
    {
      "cell_type": "code",
      "source": [
        "len(x_train)+len(x_test)"
      ],
      "metadata": {
        "colab": {
          "base_uri": "https://localhost:8080/"
        },
        "id": "wqgjMVVKkon9",
        "outputId": "6e305168-b15f-4819-dfd6-46eb176a396a"
      },
      "execution_count": null,
      "outputs": [
        {
          "output_type": "execute_result",
          "data": {
            "text/plain": [
              "3000"
            ]
          },
          "metadata": {},
          "execution_count": 8
        }
      ]
    },
    {
      "cell_type": "code",
      "source": [
        "x_train, y_train = shuffle(x_train, y_train, random_state=42)"
      ],
      "metadata": {
        "id": "5lMv41UUkrzo"
      },
      "execution_count": null,
      "outputs": []
    },
    {
      "cell_type": "code",
      "source": [
        "vgg = VGG19(input_shape = (224, 224, 3), include_top=False, weights=\"imagenet\")\n",
        "vgg.trainable = False\n",
        "vgg.summary()"
      ],
      "metadata": {
        "colab": {
          "base_uri": "https://localhost:8080/"
        },
        "id": "otZAflyVlS_h",
        "outputId": "36d9c298-5e32-4ac0-cc0b-dc43b2f344fb"
      },
      "execution_count": null,
      "outputs": [
        {
          "output_type": "stream",
          "name": "stdout",
          "text": [
            "Downloading data from https://storage.googleapis.com/tensorflow/keras-applications/vgg19/vgg19_weights_tf_dim_ordering_tf_kernels_notop.h5\n",
            "80134624/80134624 [==============================] - 3s 0us/step\n",
            "Model: \"vgg19\"\n",
            "_________________________________________________________________\n",
            " Layer (type)                Output Shape              Param #   \n",
            "=================================================================\n",
            " input_1 (InputLayer)        [(None, 224, 224, 3)]     0         \n",
            "                                                                 \n",
            " block1_conv1 (Conv2D)       (None, 224, 224, 64)      1792      \n",
            "                                                                 \n",
            " block1_conv2 (Conv2D)       (None, 224, 224, 64)      36928     \n",
            "                                                                 \n",
            " block1_pool (MaxPooling2D)  (None, 112, 112, 64)      0         \n",
            "                                                                 \n",
            " block2_conv1 (Conv2D)       (None, 112, 112, 128)     73856     \n",
            "                                                                 \n",
            " block2_conv2 (Conv2D)       (None, 112, 112, 128)     147584    \n",
            "                                                                 \n",
            " block2_pool (MaxPooling2D)  (None, 56, 56, 128)       0         \n",
            "                                                                 \n",
            " block3_conv1 (Conv2D)       (None, 56, 56, 256)       295168    \n",
            "                                                                 \n",
            " block3_conv2 (Conv2D)       (None, 56, 56, 256)       590080    \n",
            "                                                                 \n",
            " block3_conv3 (Conv2D)       (None, 56, 56, 256)       590080    \n",
            "                                                                 \n",
            " block3_conv4 (Conv2D)       (None, 56, 56, 256)       590080    \n",
            "                                                                 \n",
            " block3_pool (MaxPooling2D)  (None, 28, 28, 256)       0         \n",
            "                                                                 \n",
            " block4_conv1 (Conv2D)       (None, 28, 28, 512)       1180160   \n",
            "                                                                 \n",
            " block4_conv2 (Conv2D)       (None, 28, 28, 512)       2359808   \n",
            "                                                                 \n",
            " block4_conv3 (Conv2D)       (None, 28, 28, 512)       2359808   \n",
            "                                                                 \n",
            " block4_conv4 (Conv2D)       (None, 28, 28, 512)       2359808   \n",
            "                                                                 \n",
            " block4_pool (MaxPooling2D)  (None, 14, 14, 512)       0         \n",
            "                                                                 \n",
            " block5_conv1 (Conv2D)       (None, 14, 14, 512)       2359808   \n",
            "                                                                 \n",
            " block5_conv2 (Conv2D)       (None, 14, 14, 512)       2359808   \n",
            "                                                                 \n",
            " block5_conv3 (Conv2D)       (None, 14, 14, 512)       2359808   \n",
            "                                                                 \n",
            " block5_conv4 (Conv2D)       (None, 14, 14, 512)       2359808   \n",
            "                                                                 \n",
            " block5_pool (MaxPooling2D)  (None, 7, 7, 512)         0         \n",
            "                                                                 \n",
            "=================================================================\n",
            "Total params: 20,024,384\n",
            "Trainable params: 0\n",
            "Non-trainable params: 20,024,384\n",
            "_________________________________________________________________\n"
          ]
        }
      ]
    },
    {
      "cell_type": "code",
      "source": [
        "vgg.output"
      ],
      "metadata": {
        "colab": {
          "base_uri": "https://localhost:8080/"
        },
        "id": "jGLUZJ5yqp6w",
        "outputId": "4442c0a8-06bf-48a6-c12b-39614e0d9ae4"
      },
      "execution_count": null,
      "outputs": [
        {
          "output_type": "execute_result",
          "data": {
            "text/plain": [
              "<KerasTensor: shape=(None, 7, 7, 512) dtype=float32 (created by layer 'block5_pool')>"
            ]
          },
          "metadata": {},
          "execution_count": 11
        }
      ]
    },
    {
      "cell_type": "code",
      "source": [
        "def arsitektur():\n",
        "  x=Flatten()(vgg.output)\n",
        "  x=Dense(1024, activation='relu')(x)\n",
        "  x=Dropout(0.5)(x)\n",
        "  x=Dense(1024, activation='relu')(x)\n",
        "  x=Dropout(0.5)(x)\n",
        "  prediksi=Dense(len(kelas), activation='softmax')(x)\n",
        "  model=Model(inputs=vgg.input, outputs=prediksi)\n",
        "  \n",
        "  return model"
      ],
      "metadata": {
        "id": "GAgHHADCq38A"
      },
      "execution_count": null,
      "outputs": []
    },
    {
      "cell_type": "code",
      "source": [
        "model = arsitektur()\n",
        "model.summary()"
      ],
      "metadata": {
        "colab": {
          "base_uri": "https://localhost:8080/"
        },
        "id": "Kjxo85bbPPmI",
        "outputId": "cca9d15e-1037-4bad-c939-ad5d40d3b6dc"
      },
      "execution_count": null,
      "outputs": [
        {
          "output_type": "stream",
          "name": "stdout",
          "text": [
            "Model: \"model\"\n",
            "_________________________________________________________________\n",
            " Layer (type)                Output Shape              Param #   \n",
            "=================================================================\n",
            " input_1 (InputLayer)        [(None, 224, 224, 3)]     0         \n",
            "                                                                 \n",
            " block1_conv1 (Conv2D)       (None, 224, 224, 64)      1792      \n",
            "                                                                 \n",
            " block1_conv2 (Conv2D)       (None, 224, 224, 64)      36928     \n",
            "                                                                 \n",
            " block1_pool (MaxPooling2D)  (None, 112, 112, 64)      0         \n",
            "                                                                 \n",
            " block2_conv1 (Conv2D)       (None, 112, 112, 128)     73856     \n",
            "                                                                 \n",
            " block2_conv2 (Conv2D)       (None, 112, 112, 128)     147584    \n",
            "                                                                 \n",
            " block2_pool (MaxPooling2D)  (None, 56, 56, 128)       0         \n",
            "                                                                 \n",
            " block3_conv1 (Conv2D)       (None, 56, 56, 256)       295168    \n",
            "                                                                 \n",
            " block3_conv2 (Conv2D)       (None, 56, 56, 256)       590080    \n",
            "                                                                 \n",
            " block3_conv3 (Conv2D)       (None, 56, 56, 256)       590080    \n",
            "                                                                 \n",
            " block3_conv4 (Conv2D)       (None, 56, 56, 256)       590080    \n",
            "                                                                 \n",
            " block3_pool (MaxPooling2D)  (None, 28, 28, 256)       0         \n",
            "                                                                 \n",
            " block4_conv1 (Conv2D)       (None, 28, 28, 512)       1180160   \n",
            "                                                                 \n",
            " block4_conv2 (Conv2D)       (None, 28, 28, 512)       2359808   \n",
            "                                                                 \n",
            " block4_conv3 (Conv2D)       (None, 28, 28, 512)       2359808   \n",
            "                                                                 \n",
            " block4_conv4 (Conv2D)       (None, 28, 28, 512)       2359808   \n",
            "                                                                 \n",
            " block4_pool (MaxPooling2D)  (None, 14, 14, 512)       0         \n",
            "                                                                 \n",
            " block5_conv1 (Conv2D)       (None, 14, 14, 512)       2359808   \n",
            "                                                                 \n",
            " block5_conv2 (Conv2D)       (None, 14, 14, 512)       2359808   \n",
            "                                                                 \n",
            " block5_conv3 (Conv2D)       (None, 14, 14, 512)       2359808   \n",
            "                                                                 \n",
            " block5_conv4 (Conv2D)       (None, 14, 14, 512)       2359808   \n",
            "                                                                 \n",
            " block5_pool (MaxPooling2D)  (None, 7, 7, 512)         0         \n",
            "                                                                 \n",
            " flatten (Flatten)           (None, 25088)             0         \n",
            "                                                                 \n",
            " dense (Dense)               (None, 1024)              25691136  \n",
            "                                                                 \n",
            " dropout (Dropout)           (None, 1024)              0         \n",
            "                                                                 \n",
            " dense_1 (Dense)             (None, 1024)              1049600   \n",
            "                                                                 \n",
            " dropout_1 (Dropout)         (None, 1024)              0         \n",
            "                                                                 \n",
            " dense_2 (Dense)             (None, 2)                 2050      \n",
            "                                                                 \n",
            "=================================================================\n",
            "Total params: 46,767,170\n",
            "Trainable params: 26,742,786\n",
            "Non-trainable params: 20,024,384\n",
            "_________________________________________________________________\n"
          ]
        }
      ]
    },
    {
      "cell_type": "code",
      "source": [
        "def get_model_name(k):\n",
        "  return 'model_'+str(k)"
      ],
      "metadata": {
        "id": "ig4_ifuC4P1G"
      },
      "execution_count": null,
      "outputs": []
    },
    {
      "cell_type": "code",
      "source": [
        "akurasi_val_data=[]\n",
        "AUC=[]\n",
        "CV=[]\n",
        "waktu=[]\n",
        "\n",
        "LOSS=[]\n",
        "VAL_LOSS=[]\n",
        "ACCURACY=[]\n",
        "VAL_ACCURACY=[]\n",
        "\n",
        "fold_var = 1\n",
        "max_epoch = 64\n",
        "mini_batch = 32\n",
        "lr = 0.0001\n",
        "\n",
        "save_dir = '/content/drive/My Drive/Penelitian/save_models/percobaan_1/'"
      ],
      "metadata": {
        "id": "btIJKPNAPads"
      },
      "execution_count": null,
      "outputs": []
    },
    {
      "cell_type": "code",
      "source": [
        "kf = StratifiedKFold(n_splits=5)\n",
        "for train_index, val_index in kf.split(x_train, y_train):\n",
        "  print(\"---------- FOLD KE- {} ----------\".format(fold_var))\n",
        "  x_training, y_training = x_train[train_index], y_train[train_index]\n",
        "  x_validasi, y_validasi = x_train[val_index], y_train[val_index]\n",
        "\n",
        "  y_training = to_categorical(y_training)   \n",
        "  y_validasi = to_categorical(y_validasi)\n",
        "\n",
        "  model = arsitektur()\n",
        "  model.compile(optimizer=Adam(learning_rate=lr), \n",
        "                loss='binary_crossentropy',\n",
        "                metrics=['accuracy'])\n",
        "\n",
        "  # min_delta (perubahan minimal), patience (jumlah epoch tanpa perbaikan)\n",
        "  early_stop = EarlyStopping(monitor='val_loss', min_delta=0.0001, patience=7, verbose=1, mode='auto')\n",
        "  checkpoint = ModelCheckpoint(save_dir+get_model_name(fold_var),\n",
        "                               monitor='val_accuracy', verbose=1,\n",
        "                               save_best_only=True, mode='max')\n",
        "  callback_list = [early_stop, checkpoint]\n",
        "\n",
        "  start = datetime.datetime.now()\n",
        "  hist = model.fit(x_training, y_training, \n",
        "                   epochs=max_epoch,\n",
        "                   batch_size=mini_batch,\n",
        "                   callbacks=callback_list,\n",
        "                   validation_data = (x_validasi, y_validasi))\n",
        "  end = datetime.datetime.now()\n",
        "  jam = end - start\n",
        "\n",
        "  model = load_model(save_dir+\"model_\"+str(fold_var))\n",
        "\n",
        "  predict = model.predict(x_validasi)\n",
        "  predict = np.argmax(predict, axis=1)\n",
        "  labels = np.argmax(y_validasi, axis=1)\n",
        "  print(classification_report(labels, predict, target_names = ['Haploid (Class 0)','Diploid (Class 1)']))\n",
        "  print('Waktu Pelatihan Data : ', jam, '\\n\\n')\n",
        "  acc = accuracy_score(labels, predict)\n",
        "  auc = roc_auc_score(labels, predict)\n",
        "\n",
        "  waktu.append(jam)\n",
        "  akurasi_val_data.append(acc)\n",
        "  AUC.append(auc)\n",
        "  LOSS.append(hist.history['loss'])\n",
        "  ACCURACY.append(hist.history['accuracy'])\n",
        "  VAL_LOSS.append(hist.history['val_loss'])\n",
        "  VAL_ACCURACY.append(hist.history['val_accuracy'])\n",
        "  CV.append('CV-'+str(fold_var))\n",
        "\n",
        "  clear_session()\n",
        "  fold_var+=1"
      ],
      "metadata": {
        "id": "YjsqPEDpupiy",
        "colab": {
          "base_uri": "https://localhost:8080/"
        },
        "outputId": "b5061d8c-79d0-42d3-ee6f-85afed8947f9"
      },
      "execution_count": null,
      "outputs": [
        {
          "output_type": "stream",
          "name": "stdout",
          "text": [
            "---------- FOLD KE- 1 ----------\n",
            "Epoch 1/64\n",
            "60/60 [==============================] - ETA: 0s - loss: 0.7482 - accuracy: 0.6057\n",
            "Epoch 1: val_accuracy improved from -inf to 0.75625, saving model to /content/drive/My Drive/Penelitian/save/ujicoba_11/model_1\n"
          ]
        },
        {
          "output_type": "stream",
          "name": "stderr",
          "text": [
            "WARNING:absl:Found untraced functions such as _jit_compiled_convolution_op, _jit_compiled_convolution_op, _jit_compiled_convolution_op, _jit_compiled_convolution_op, _jit_compiled_convolution_op while saving (showing 5 of 16). These functions will not be directly callable after loading.\n"
          ]
        },
        {
          "output_type": "stream",
          "name": "stdout",
          "text": [
            "\b\b\b\b\b\b\b\b\b\b\b\b\b\b\b\b\b\b\b\b\b\b\b\b\b\b\b\b\b\b\b\b\b\b\b\b\b\b\b\b\b\b\b\b\b\b\b\b\b\b\b\b\b\b\b\b\b\b\b\b\b\b\b\b\b\b\b\b\b\b\b\b\b\b\b\b\b\b\b\b\b\b\r60/60 [==============================] - 29s 306ms/step - loss: 0.7482 - accuracy: 0.6057 - val_loss: 0.5620 - val_accuracy: 0.7563\n",
            "Epoch 2/64\n",
            "60/60 [==============================] - ETA: 0s - loss: 0.5699 - accuracy: 0.7089\n",
            "Epoch 2: val_accuracy did not improve from 0.75625\n",
            "60/60 [==============================] - 13s 218ms/step - loss: 0.5699 - accuracy: 0.7089 - val_loss: 0.5433 - val_accuracy: 0.6875\n",
            "Epoch 3/64\n",
            "60/60 [==============================] - ETA: 0s - loss: 0.5274 - accuracy: 0.7510\n",
            "Epoch 3: val_accuracy improved from 0.75625 to 0.78542, saving model to /content/drive/My Drive/Penelitian/save/ujicoba_11/model_1\n"
          ]
        },
        {
          "output_type": "stream",
          "name": "stderr",
          "text": [
            "WARNING:absl:Found untraced functions such as _jit_compiled_convolution_op, _jit_compiled_convolution_op, _jit_compiled_convolution_op, _jit_compiled_convolution_op, _jit_compiled_convolution_op while saving (showing 5 of 16). These functions will not be directly callable after loading.\n"
          ]
        },
        {
          "output_type": "stream",
          "name": "stdout",
          "text": [
            "\b\b\b\b\b\b\b\b\b\b\b\b\b\b\b\b\b\b\b\b\b\b\b\b\b\b\b\b\b\b\b\b\b\b\b\b\b\b\b\b\b\b\b\b\b\b\b\b\b\b\b\b\b\b\b\b\b\b\b\b\b\b\b\b\b\b\b\b\b\b\b\b\b\b\b\b\b\b\b\b\b\b\r60/60 [==============================] - 17s 292ms/step - loss: 0.5274 - accuracy: 0.7510 - val_loss: 0.4990 - val_accuracy: 0.7854\n",
            "Epoch 4/64\n",
            "60/60 [==============================] - ETA: 0s - loss: 0.4732 - accuracy: 0.7844\n",
            "Epoch 4: val_accuracy improved from 0.78542 to 0.80208, saving model to /content/drive/My Drive/Penelitian/save/ujicoba_11/model_1\n"
          ]
        },
        {
          "output_type": "stream",
          "name": "stderr",
          "text": [
            "WARNING:absl:Found untraced functions such as _jit_compiled_convolution_op, _jit_compiled_convolution_op, _jit_compiled_convolution_op, _jit_compiled_convolution_op, _jit_compiled_convolution_op while saving (showing 5 of 16). These functions will not be directly callable after loading.\n"
          ]
        },
        {
          "output_type": "stream",
          "name": "stdout",
          "text": [
            "\b\b\b\b\b\b\b\b\b\b\b\b\b\b\b\b\b\b\b\b\b\b\b\b\b\b\b\b\b\b\b\b\b\b\b\b\b\b\b\b\b\b\b\b\b\b\b\b\b\b\b\b\b\b\b\b\b\b\b\b\b\b\b\b\b\b\b\b\b\b\b\b\b\b\b\b\b\b\b\b\b\b\r60/60 [==============================] - 18s 309ms/step - loss: 0.4732 - accuracy: 0.7844 - val_loss: 0.4479 - val_accuracy: 0.8021\n",
            "Epoch 5/64\n",
            "60/60 [==============================] - ETA: 0s - loss: 0.4396 - accuracy: 0.8057\n",
            "Epoch 5: val_accuracy improved from 0.80208 to 0.81250, saving model to /content/drive/My Drive/Penelitian/save/ujicoba_11/model_1\n"
          ]
        },
        {
          "output_type": "stream",
          "name": "stderr",
          "text": [
            "WARNING:absl:Found untraced functions such as _jit_compiled_convolution_op, _jit_compiled_convolution_op, _jit_compiled_convolution_op, _jit_compiled_convolution_op, _jit_compiled_convolution_op while saving (showing 5 of 16). These functions will not be directly callable after loading.\n"
          ]
        },
        {
          "output_type": "stream",
          "name": "stdout",
          "text": [
            "\b\b\b\b\b\b\b\b\b\b\b\b\b\b\b\b\b\b\b\b\b\b\b\b\b\b\b\b\b\b\b\b\b\b\b\b\b\b\b\b\b\b\b\b\b\b\b\b\b\b\b\b\b\b\b\b\b\b\b\b\b\b\b\b\b\b\b\b\b\b\b\b\b\b\b\b\b\b\b\b\b\b\r60/60 [==============================] - 20s 339ms/step - loss: 0.4396 - accuracy: 0.8057 - val_loss: 0.4255 - val_accuracy: 0.8125\n",
            "Epoch 6/64\n",
            "60/60 [==============================] - ETA: 0s - loss: 0.4324 - accuracy: 0.7990\n",
            "Epoch 6: val_accuracy did not improve from 0.81250\n",
            "60/60 [==============================] - 13s 223ms/step - loss: 0.4324 - accuracy: 0.7990 - val_loss: 0.4134 - val_accuracy: 0.8125\n",
            "Epoch 7/64\n",
            "60/60 [==============================] - ETA: 0s - loss: 0.3927 - accuracy: 0.8219\n",
            "Epoch 7: val_accuracy did not improve from 0.81250\n",
            "60/60 [==============================] - 16s 266ms/step - loss: 0.3927 - accuracy: 0.8219 - val_loss: 0.3965 - val_accuracy: 0.8042\n",
            "Epoch 8/64\n",
            "60/60 [==============================] - ETA: 0s - loss: 0.3853 - accuracy: 0.8359\n",
            "Epoch 8: val_accuracy improved from 0.81250 to 0.82500, saving model to /content/drive/My Drive/Penelitian/save/ujicoba_11/model_1\n"
          ]
        },
        {
          "output_type": "stream",
          "name": "stderr",
          "text": [
            "WARNING:absl:Found untraced functions such as _jit_compiled_convolution_op, _jit_compiled_convolution_op, _jit_compiled_convolution_op, _jit_compiled_convolution_op, _jit_compiled_convolution_op while saving (showing 5 of 16). These functions will not be directly callable after loading.\n"
          ]
        },
        {
          "output_type": "stream",
          "name": "stdout",
          "text": [
            "\b\b\b\b\b\b\b\b\b\b\b\b\b\b\b\b\b\b\b\b\b\b\b\b\b\b\b\b\b\b\b\b\b\b\b\b\b\b\b\b\b\b\b\b\b\b\b\b\b\b\b\b\b\b\b\b\b\b\b\b\b\b\b\b\b\b\b\b\b\b\b\b\b\b\b\b\b\b\b\b\b\b\r60/60 [==============================] - 20s 339ms/step - loss: 0.3853 - accuracy: 0.8359 - val_loss: 0.3781 - val_accuracy: 0.8250\n",
            "Epoch 9/64\n",
            "60/60 [==============================] - ETA: 0s - loss: 0.3605 - accuracy: 0.8417\n",
            "Epoch 9: val_accuracy improved from 0.82500 to 0.82917, saving model to /content/drive/My Drive/Penelitian/save/ujicoba_11/model_1\n"
          ]
        },
        {
          "output_type": "stream",
          "name": "stderr",
          "text": [
            "WARNING:absl:Found untraced functions such as _jit_compiled_convolution_op, _jit_compiled_convolution_op, _jit_compiled_convolution_op, _jit_compiled_convolution_op, _jit_compiled_convolution_op while saving (showing 5 of 16). These functions will not be directly callable after loading.\n"
          ]
        },
        {
          "output_type": "stream",
          "name": "stdout",
          "text": [
            "\b\b\b\b\b\b\b\b\b\b\b\b\b\b\b\b\b\b\b\b\b\b\b\b\b\b\b\b\b\b\b\b\b\b\b\b\b\b\b\b\b\b\b\b\b\b\b\b\b\b\b\b\b\b\b\b\b\b\b\b\b\b\b\b\b\b\b\b\b\b\b\b\b\b\b\b\b\b\b\b\b\b\r60/60 [==============================] - 20s 338ms/step - loss: 0.3605 - accuracy: 0.8417 - val_loss: 0.3790 - val_accuracy: 0.8292\n",
            "Epoch 10/64\n",
            "60/60 [==============================] - ETA: 0s - loss: 0.3315 - accuracy: 0.8599\n",
            "Epoch 10: val_accuracy did not improve from 0.82917\n",
            "60/60 [==============================] - 14s 228ms/step - loss: 0.3315 - accuracy: 0.8599 - val_loss: 0.4348 - val_accuracy: 0.7854\n",
            "Epoch 11/64\n",
            "60/60 [==============================] - ETA: 0s - loss: 0.3321 - accuracy: 0.8573\n",
            "Epoch 11: val_accuracy did not improve from 0.82917\n",
            "60/60 [==============================] - 14s 228ms/step - loss: 0.3321 - accuracy: 0.8573 - val_loss: 0.3749 - val_accuracy: 0.8208\n",
            "Epoch 12/64\n",
            "60/60 [==============================] - ETA: 0s - loss: 0.3192 - accuracy: 0.8687\n",
            "Epoch 12: val_accuracy did not improve from 0.82917\n",
            "60/60 [==============================] - 14s 230ms/step - loss: 0.3192 - accuracy: 0.8687 - val_loss: 0.3790 - val_accuracy: 0.8104\n",
            "Epoch 13/64\n",
            "60/60 [==============================] - ETA: 0s - loss: 0.3117 - accuracy: 0.8698\n",
            "Epoch 13: val_accuracy did not improve from 0.82917\n",
            "60/60 [==============================] - 14s 229ms/step - loss: 0.3117 - accuracy: 0.8698 - val_loss: 0.4215 - val_accuracy: 0.8062\n",
            "Epoch 14/64\n",
            "60/60 [==============================] - ETA: 0s - loss: 0.2887 - accuracy: 0.8823\n",
            "Epoch 14: val_accuracy improved from 0.82917 to 0.83333, saving model to /content/drive/My Drive/Penelitian/save/ujicoba_11/model_1\n"
          ]
        },
        {
          "output_type": "stream",
          "name": "stderr",
          "text": [
            "WARNING:absl:Found untraced functions such as _jit_compiled_convolution_op, _jit_compiled_convolution_op, _jit_compiled_convolution_op, _jit_compiled_convolution_op, _jit_compiled_convolution_op while saving (showing 5 of 16). These functions will not be directly callable after loading.\n"
          ]
        },
        {
          "output_type": "stream",
          "name": "stdout",
          "text": [
            "\b\b\b\b\b\b\b\b\b\b\b\b\b\b\b\b\b\b\b\b\b\b\b\b\b\b\b\b\b\b\b\b\b\b\b\b\b\b\b\b\b\b\b\b\b\b\b\b\b\b\b\b\b\b\b\b\b\b\b\b\b\b\b\b\b\b\b\b\b\b\b\b\b\b\b\b\b\b\b\b\b\b\r60/60 [==============================] - 20s 344ms/step - loss: 0.2887 - accuracy: 0.8823 - val_loss: 0.3437 - val_accuracy: 0.8333\n",
            "Epoch 15/64\n",
            "60/60 [==============================] - ETA: 0s - loss: 0.3042 - accuracy: 0.8693\n",
            "Epoch 15: val_accuracy improved from 0.83333 to 0.83750, saving model to /content/drive/My Drive/Penelitian/save/ujicoba_11/model_1\n"
          ]
        },
        {
          "output_type": "stream",
          "name": "stderr",
          "text": [
            "WARNING:absl:Found untraced functions such as _jit_compiled_convolution_op, _jit_compiled_convolution_op, _jit_compiled_convolution_op, _jit_compiled_convolution_op, _jit_compiled_convolution_op while saving (showing 5 of 16). These functions will not be directly callable after loading.\n"
          ]
        },
        {
          "output_type": "stream",
          "name": "stdout",
          "text": [
            "\b\b\b\b\b\b\b\b\b\b\b\b\b\b\b\b\b\b\b\b\b\b\b\b\b\b\b\b\b\b\b\b\b\b\b\b\b\b\b\b\b\b\b\b\b\b\b\b\b\b\b\b\b\b\b\b\b\b\b\b\b\b\b\b\b\b\b\b\b\b\b\b\b\b\b\b\b\b\b\b\b\b\r60/60 [==============================] - 20s 339ms/step - loss: 0.3042 - accuracy: 0.8693 - val_loss: 0.3498 - val_accuracy: 0.8375\n",
            "Epoch 16/64\n",
            "60/60 [==============================] - ETA: 0s - loss: 0.2761 - accuracy: 0.8823\n",
            "Epoch 16: val_accuracy did not improve from 0.83750\n",
            "60/60 [==============================] - 14s 232ms/step - loss: 0.2761 - accuracy: 0.8823 - val_loss: 0.3511 - val_accuracy: 0.8250\n",
            "Epoch 17/64\n",
            "60/60 [==============================] - ETA: 0s - loss: 0.2723 - accuracy: 0.8833\n",
            "Epoch 17: val_accuracy improved from 0.83750 to 0.84792, saving model to /content/drive/My Drive/Penelitian/save/ujicoba_11/model_1\n"
          ]
        },
        {
          "output_type": "stream",
          "name": "stderr",
          "text": [
            "WARNING:absl:Found untraced functions such as _jit_compiled_convolution_op, _jit_compiled_convolution_op, _jit_compiled_convolution_op, _jit_compiled_convolution_op, _jit_compiled_convolution_op while saving (showing 5 of 16). These functions will not be directly callable after loading.\n"
          ]
        },
        {
          "output_type": "stream",
          "name": "stdout",
          "text": [
            "\b\b\b\b\b\b\b\b\b\b\b\b\b\b\b\b\b\b\b\b\b\b\b\b\b\b\b\b\b\b\b\b\b\b\b\b\b\b\b\b\b\b\b\b\b\b\b\b\b\b\b\b\b\b\b\b\b\b\b\b\b\b\b\b\b\b\b\b\b\b\b\b\b\b\b\b\b\b\b\b\b\b\r60/60 [==============================] - 21s 345ms/step - loss: 0.2723 - accuracy: 0.8833 - val_loss: 0.3465 - val_accuracy: 0.8479\n",
            "Epoch 18/64\n",
            "60/60 [==============================] - ETA: 0s - loss: 0.2398 - accuracy: 0.9057\n",
            "Epoch 18: val_accuracy did not improve from 0.84792\n",
            "60/60 [==============================] - 16s 270ms/step - loss: 0.2398 - accuracy: 0.9057 - val_loss: 0.3617 - val_accuracy: 0.8479\n",
            "Epoch 19/64\n",
            "60/60 [==============================] - ETA: 0s - loss: 0.2637 - accuracy: 0.8948\n",
            "Epoch 19: val_accuracy did not improve from 0.84792\n",
            "60/60 [==============================] - 16s 271ms/step - loss: 0.2637 - accuracy: 0.8948 - val_loss: 0.3485 - val_accuracy: 0.8479\n",
            "Epoch 20/64\n",
            "60/60 [==============================] - ETA: 0s - loss: 0.2595 - accuracy: 0.8911\n",
            "Epoch 20: val_accuracy did not improve from 0.84792\n",
            "60/60 [==============================] - 16s 272ms/step - loss: 0.2595 - accuracy: 0.8911 - val_loss: 0.3446 - val_accuracy: 0.8354\n",
            "Epoch 21/64\n",
            "60/60 [==============================] - ETA: 0s - loss: 0.2456 - accuracy: 0.9083\n",
            "Epoch 21: val_accuracy did not improve from 0.84792\n",
            "60/60 [==============================] - 16s 271ms/step - loss: 0.2456 - accuracy: 0.9083 - val_loss: 0.3564 - val_accuracy: 0.8354\n",
            "Epoch 21: early stopping\n",
            "15/15 [==============================] - 3s 179ms/step\n",
            "                   precision    recall  f1-score   support\n",
            "\n",
            "Haploid (Class 0)       0.80      0.84      0.82       196\n",
            "Diploid (Class 1)       0.88      0.86      0.87       284\n",
            "\n",
            "         accuracy                           0.85       480\n",
            "        macro avg       0.84      0.85      0.84       480\n",
            "     weighted avg       0.85      0.85      0.85       480\n",
            "\n",
            "Waktu Pelatihan Data :  0:06:03.811817 \n",
            "\n",
            "\n",
            "---------- FOLD KE- 2 ----------\n",
            "Epoch 1/64\n",
            "60/60 [==============================] - ETA: 0s - loss: 0.7522 - accuracy: 0.6005\n",
            "Epoch 1: val_accuracy improved from -inf to 0.75000, saving model to /content/drive/My Drive/Penelitian/save/ujicoba_11/model_2\n"
          ]
        },
        {
          "output_type": "stream",
          "name": "stderr",
          "text": [
            "WARNING:absl:Found untraced functions such as _jit_compiled_convolution_op, _jit_compiled_convolution_op, _jit_compiled_convolution_op, _jit_compiled_convolution_op, _jit_compiled_convolution_op while saving (showing 5 of 16). These functions will not be directly callable after loading.\n"
          ]
        },
        {
          "output_type": "stream",
          "name": "stdout",
          "text": [
            "\b\b\b\b\b\b\b\b\b\b\b\b\b\b\b\b\b\b\b\b\b\b\b\b\b\b\b\b\b\b\b\b\b\b\b\b\b\b\b\b\b\b\b\b\b\b\b\b\b\b\b\b\b\b\b\b\b\b\b\b\b\b\b\b\b\b\b\b\b\b\b\b\b\b\b\b\b\b\b\b\b\b\r60/60 [==============================] - 22s 353ms/step - loss: 0.7522 - accuracy: 0.6005 - val_loss: 0.5470 - val_accuracy: 0.7500\n",
            "Epoch 2/64\n",
            "60/60 [==============================] - ETA: 0s - loss: 0.5684 - accuracy: 0.7141\n",
            "Epoch 2: val_accuracy did not improve from 0.75000\n",
            "60/60 [==============================] - 16s 272ms/step - loss: 0.5684 - accuracy: 0.7141 - val_loss: 0.5151 - val_accuracy: 0.7500\n",
            "Epoch 3/64\n",
            "60/60 [==============================] - ETA: 0s - loss: 0.5196 - accuracy: 0.7552\n",
            "Epoch 3: val_accuracy improved from 0.75000 to 0.81875, saving model to /content/drive/My Drive/Penelitian/save/ujicoba_11/model_2\n"
          ]
        },
        {
          "output_type": "stream",
          "name": "stderr",
          "text": [
            "WARNING:absl:Found untraced functions such as _jit_compiled_convolution_op, _jit_compiled_convolution_op, _jit_compiled_convolution_op, _jit_compiled_convolution_op, _jit_compiled_convolution_op while saving (showing 5 of 16). These functions will not be directly callable after loading.\n"
          ]
        },
        {
          "output_type": "stream",
          "name": "stdout",
          "text": [
            "\b\b\b\b\b\b\b\b\b\b\b\b\b\b\b\b\b\b\b\b\b\b\b\b\b\b\b\b\b\b\b\b\b\b\b\b\b\b\b\b\b\b\b\b\b\b\b\b\b\b\b\b\b\b\b\b\b\b\b\b\b\b\b\b\b\b\b\b\b\b\b\b\b\b\b\b\b\b\b\b\b\b\r60/60 [==============================] - 21s 351ms/step - loss: 0.5196 - accuracy: 0.7552 - val_loss: 0.4363 - val_accuracy: 0.8188\n",
            "Epoch 4/64\n",
            "60/60 [==============================] - ETA: 0s - loss: 0.4722 - accuracy: 0.7870\n",
            "Epoch 4: val_accuracy did not improve from 0.81875\n",
            "60/60 [==============================] - 16s 270ms/step - loss: 0.4722 - accuracy: 0.7870 - val_loss: 0.4113 - val_accuracy: 0.8146\n",
            "Epoch 5/64\n",
            "60/60 [==============================] - ETA: 0s - loss: 0.4383 - accuracy: 0.8083\n",
            "Epoch 5: val_accuracy did not improve from 0.81875\n",
            "60/60 [==============================] - 14s 230ms/step - loss: 0.4383 - accuracy: 0.8083 - val_loss: 0.4655 - val_accuracy: 0.7896\n",
            "Epoch 6/64\n",
            "60/60 [==============================] - ETA: 0s - loss: 0.4160 - accuracy: 0.8130\n",
            "Epoch 6: val_accuracy did not improve from 0.81875\n",
            "60/60 [==============================] - 16s 271ms/step - loss: 0.4160 - accuracy: 0.8130 - val_loss: 0.3997 - val_accuracy: 0.8083\n",
            "Epoch 7/64\n",
            "60/60 [==============================] - ETA: 0s - loss: 0.3946 - accuracy: 0.8271\n",
            "Epoch 7: val_accuracy improved from 0.81875 to 0.83125, saving model to /content/drive/My Drive/Penelitian/save/ujicoba_11/model_2\n"
          ]
        },
        {
          "output_type": "stream",
          "name": "stderr",
          "text": [
            "WARNING:absl:Found untraced functions such as _jit_compiled_convolution_op, _jit_compiled_convolution_op, _jit_compiled_convolution_op, _jit_compiled_convolution_op, _jit_compiled_convolution_op while saving (showing 5 of 16). These functions will not be directly callable after loading.\n"
          ]
        },
        {
          "output_type": "stream",
          "name": "stdout",
          "text": [
            "\b\b\b\b\b\b\b\b\b\b\b\b\b\b\b\b\b\b\b\b\b\b\b\b\b\b\b\b\b\b\b\b\b\b\b\b\b\b\b\b\b\b\b\b\b\b\b\b\b\b\b\b\b\b\b\b\b\b\b\b\b\b\b\b\b\b\b\b\b\b\b\b\b\b\b\b\b\b\b\b\b\b\r60/60 [==============================] - 21s 346ms/step - loss: 0.3946 - accuracy: 0.8271 - val_loss: 0.3939 - val_accuracy: 0.8313\n",
            "Epoch 8/64\n",
            "60/60 [==============================] - ETA: 0s - loss: 0.3818 - accuracy: 0.8224\n",
            "Epoch 8: val_accuracy did not improve from 0.83125\n",
            "60/60 [==============================] - 14s 229ms/step - loss: 0.3818 - accuracy: 0.8224 - val_loss: 0.4301 - val_accuracy: 0.8062\n",
            "Epoch 9/64\n",
            "60/60 [==============================] - ETA: 0s - loss: 0.3693 - accuracy: 0.8339\n",
            "Epoch 9: val_accuracy improved from 0.83125 to 0.83958, saving model to /content/drive/My Drive/Penelitian/save/ujicoba_11/model_2\n"
          ]
        },
        {
          "output_type": "stream",
          "name": "stderr",
          "text": [
            "WARNING:absl:Found untraced functions such as _jit_compiled_convolution_op, _jit_compiled_convolution_op, _jit_compiled_convolution_op, _jit_compiled_convolution_op, _jit_compiled_convolution_op while saving (showing 5 of 16). These functions will not be directly callable after loading.\n"
          ]
        },
        {
          "output_type": "stream",
          "name": "stdout",
          "text": [
            "\b\b\b\b\b\b\b\b\b\b\b\b\b\b\b\b\b\b\b\b\b\b\b\b\b\b\b\b\b\b\b\b\b\b\b\b\b\b\b\b\b\b\b\b\b\b\b\b\b\b\b\b\b\b\b\b\b\b\b\b\b\b\b\b\b\b\b\b\b\b\b\b\b\b\b\b\b\b\b\b\b\b\r60/60 [==============================] - 18s 304ms/step - loss: 0.3693 - accuracy: 0.8339 - val_loss: 0.3472 - val_accuracy: 0.8396\n",
            "Epoch 10/64\n",
            "60/60 [==============================] - ETA: 0s - loss: 0.3563 - accuracy: 0.8448\n",
            "Epoch 10: val_accuracy improved from 0.83958 to 0.85417, saving model to /content/drive/My Drive/Penelitian/save/ujicoba_11/model_2\n"
          ]
        },
        {
          "output_type": "stream",
          "name": "stderr",
          "text": [
            "WARNING:absl:Found untraced functions such as _jit_compiled_convolution_op, _jit_compiled_convolution_op, _jit_compiled_convolution_op, _jit_compiled_convolution_op, _jit_compiled_convolution_op while saving (showing 5 of 16). These functions will not be directly callable after loading.\n"
          ]
        },
        {
          "output_type": "stream",
          "name": "stdout",
          "text": [
            "\b\b\b\b\b\b\b\b\b\b\b\b\b\b\b\b\b\b\b\b\b\b\b\b\b\b\b\b\b\b\b\b\b\b\b\b\b\b\b\b\b\b\b\b\b\b\b\b\b\b\b\b\b\b\b\b\b\b\b\b\b\b\b\b\b\b\b\b\b\b\b\b\b\b\b\b\b\b\b\b\b\b\r60/60 [==============================] - 21s 346ms/step - loss: 0.3563 - accuracy: 0.8448 - val_loss: 0.3406 - val_accuracy: 0.8542\n",
            "Epoch 11/64\n",
            "60/60 [==============================] - ETA: 0s - loss: 0.3351 - accuracy: 0.8516\n",
            "Epoch 11: val_accuracy did not improve from 0.85417\n",
            "60/60 [==============================] - 16s 270ms/step - loss: 0.3351 - accuracy: 0.8516 - val_loss: 0.3558 - val_accuracy: 0.8375\n",
            "Epoch 12/64\n",
            "60/60 [==============================] - ETA: 0s - loss: 0.3067 - accuracy: 0.8703\n",
            "Epoch 12: val_accuracy did not improve from 0.85417\n",
            "60/60 [==============================] - 14s 230ms/step - loss: 0.3067 - accuracy: 0.8703 - val_loss: 0.3461 - val_accuracy: 0.8438\n",
            "Epoch 13/64\n",
            "60/60 [==============================] - ETA: 0s - loss: 0.3189 - accuracy: 0.8562\n",
            "Epoch 13: val_accuracy did not improve from 0.85417\n",
            "60/60 [==============================] - 16s 273ms/step - loss: 0.3189 - accuracy: 0.8562 - val_loss: 0.3391 - val_accuracy: 0.8458\n",
            "Epoch 14/64\n",
            "60/60 [==============================] - ETA: 0s - loss: 0.3025 - accuracy: 0.8693\n",
            "Epoch 14: val_accuracy did not improve from 0.85417\n",
            "60/60 [==============================] - 14s 228ms/step - loss: 0.3025 - accuracy: 0.8693 - val_loss: 0.3987 - val_accuracy: 0.8292\n",
            "Epoch 15/64\n",
            "60/60 [==============================] - ETA: 0s - loss: 0.3069 - accuracy: 0.8698\n",
            "Epoch 15: val_accuracy improved from 0.85417 to 0.85833, saving model to /content/drive/My Drive/Penelitian/save/ujicoba_11/model_2\n"
          ]
        },
        {
          "output_type": "stream",
          "name": "stderr",
          "text": [
            "WARNING:absl:Found untraced functions such as _jit_compiled_convolution_op, _jit_compiled_convolution_op, _jit_compiled_convolution_op, _jit_compiled_convolution_op, _jit_compiled_convolution_op while saving (showing 5 of 16). These functions will not be directly callable after loading.\n"
          ]
        },
        {
          "output_type": "stream",
          "name": "stdout",
          "text": [
            "\b\b\b\b\b\b\b\b\b\b\b\b\b\b\b\b\b\b\b\b\b\b\b\b\b\b\b\b\b\b\b\b\b\b\b\b\b\b\b\b\b\b\b\b\b\b\b\b\b\b\b\b\b\b\b\b\b\b\b\b\b\b\b\b\b\b\b\b\b\b\b\b\b\b\b\b\b\b\b\b\b\b\r60/60 [==============================] - 20s 341ms/step - loss: 0.3069 - accuracy: 0.8698 - val_loss: 0.3363 - val_accuracy: 0.8583\n",
            "Epoch 16/64\n",
            "60/60 [==============================] - ETA: 0s - loss: 0.2950 - accuracy: 0.8656\n",
            "Epoch 16: val_accuracy did not improve from 0.85833\n",
            "60/60 [==============================] - 16s 270ms/step - loss: 0.2950 - accuracy: 0.8656 - val_loss: 0.3591 - val_accuracy: 0.8313\n",
            "Epoch 17/64\n",
            "60/60 [==============================] - ETA: 0s - loss: 0.2907 - accuracy: 0.8823\n",
            "Epoch 17: val_accuracy did not improve from 0.85833\n",
            "60/60 [==============================] - 14s 232ms/step - loss: 0.2907 - accuracy: 0.8823 - val_loss: 0.3503 - val_accuracy: 0.8458\n",
            "Epoch 18/64\n",
            "60/60 [==============================] - ETA: 0s - loss: 0.2684 - accuracy: 0.8917\n",
            "Epoch 18: val_accuracy did not improve from 0.85833\n",
            "60/60 [==============================] - 16s 274ms/step - loss: 0.2684 - accuracy: 0.8917 - val_loss: 0.3692 - val_accuracy: 0.8292\n",
            "Epoch 19/64\n",
            "60/60 [==============================] - ETA: 0s - loss: 0.2691 - accuracy: 0.8859\n",
            "Epoch 19: val_accuracy did not improve from 0.85833\n",
            "60/60 [==============================] - 16s 271ms/step - loss: 0.2691 - accuracy: 0.8859 - val_loss: 0.4851 - val_accuracy: 0.8000\n",
            "Epoch 20/64\n",
            "60/60 [==============================] - ETA: 0s - loss: 0.2985 - accuracy: 0.8677\n",
            "Epoch 20: val_accuracy did not improve from 0.85833\n",
            "60/60 [==============================] - 16s 270ms/step - loss: 0.2985 - accuracy: 0.8677 - val_loss: 0.3653 - val_accuracy: 0.8479\n",
            "Epoch 21/64\n",
            "60/60 [==============================] - ETA: 0s - loss: 0.2466 - accuracy: 0.8958\n",
            "Epoch 21: val_accuracy did not improve from 0.85833\n",
            "60/60 [==============================] - 16s 269ms/step - loss: 0.2466 - accuracy: 0.8958 - val_loss: 0.3423 - val_accuracy: 0.8521\n",
            "Epoch 22/64\n",
            "60/60 [==============================] - ETA: 0s - loss: 0.2364 - accuracy: 0.9042\n",
            "Epoch 22: val_accuracy did not improve from 0.85833\n",
            "60/60 [==============================] - 16s 271ms/step - loss: 0.2364 - accuracy: 0.9042 - val_loss: 0.3399 - val_accuracy: 0.8500\n",
            "Epoch 22: early stopping\n",
            "15/15 [==============================] - 3s 181ms/step\n",
            "                   precision    recall  f1-score   support\n",
            "\n",
            "Haploid (Class 0)       0.83      0.83      0.83       197\n",
            "Diploid (Class 1)       0.88      0.88      0.88       283\n",
            "\n",
            "         accuracy                           0.86       480\n",
            "        macro avg       0.85      0.85      0.85       480\n",
            "     weighted avg       0.86      0.86      0.86       480\n",
            "\n",
            "Waktu Pelatihan Data :  0:06:10.554714 \n",
            "\n",
            "\n",
            "---------- FOLD KE- 3 ----------\n",
            "Epoch 1/64\n",
            "60/60 [==============================] - ETA: 0s - loss: 0.7479 - accuracy: 0.5906\n",
            "Epoch 1: val_accuracy improved from -inf to 0.64792, saving model to /content/drive/My Drive/Penelitian/save/ujicoba_11/model_3\n"
          ]
        },
        {
          "output_type": "stream",
          "name": "stderr",
          "text": [
            "WARNING:absl:Found untraced functions such as _jit_compiled_convolution_op, _jit_compiled_convolution_op, _jit_compiled_convolution_op, _jit_compiled_convolution_op, _jit_compiled_convolution_op while saving (showing 5 of 16). These functions will not be directly callable after loading.\n"
          ]
        },
        {
          "output_type": "stream",
          "name": "stdout",
          "text": [
            "\b\b\b\b\b\b\b\b\b\b\b\b\b\b\b\b\b\b\b\b\b\b\b\b\b\b\b\b\b\b\b\b\b\b\b\b\b\b\b\b\b\b\b\b\b\b\b\b\b\b\b\b\b\b\b\b\b\b\b\b\b\b\b\b\b\b\b\b\b\b\b\b\b\b\b\b\b\b\b\b\b\b\r60/60 [==============================] - 22s 352ms/step - loss: 0.7479 - accuracy: 0.5906 - val_loss: 0.5769 - val_accuracy: 0.6479\n",
            "Epoch 2/64\n",
            "60/60 [==============================] - ETA: 0s - loss: 0.5733 - accuracy: 0.7073\n",
            "Epoch 2: val_accuracy improved from 0.64792 to 0.75208, saving model to /content/drive/My Drive/Penelitian/save/ujicoba_11/model_3\n"
          ]
        },
        {
          "output_type": "stream",
          "name": "stderr",
          "text": [
            "WARNING:absl:Found untraced functions such as _jit_compiled_convolution_op, _jit_compiled_convolution_op, _jit_compiled_convolution_op, _jit_compiled_convolution_op, _jit_compiled_convolution_op while saving (showing 5 of 16). These functions will not be directly callable after loading.\n"
          ]
        },
        {
          "output_type": "stream",
          "name": "stdout",
          "text": [
            "\b\b\b\b\b\b\b\b\b\b\b\b\b\b\b\b\b\b\b\b\b\b\b\b\b\b\b\b\b\b\b\b\b\b\b\b\b\b\b\b\b\b\b\b\b\b\b\b\b\b\b\b\b\b\b\b\b\b\b\b\b\b\b\b\b\b\b\b\b\b\b\b\b\b\b\b\b\b\b\b\b\b\r60/60 [==============================] - 21s 358ms/step - loss: 0.5733 - accuracy: 0.7073 - val_loss: 0.5084 - val_accuracy: 0.7521\n",
            "Epoch 3/64\n",
            "60/60 [==============================] - ETA: 0s - loss: 0.5084 - accuracy: 0.7635\n",
            "Epoch 3: val_accuracy improved from 0.75208 to 0.76250, saving model to /content/drive/My Drive/Penelitian/save/ujicoba_11/model_3\n"
          ]
        },
        {
          "output_type": "stream",
          "name": "stderr",
          "text": [
            "WARNING:absl:Found untraced functions such as _jit_compiled_convolution_op, _jit_compiled_convolution_op, _jit_compiled_convolution_op, _jit_compiled_convolution_op, _jit_compiled_convolution_op while saving (showing 5 of 16). These functions will not be directly callable after loading.\n"
          ]
        },
        {
          "output_type": "stream",
          "name": "stdout",
          "text": [
            "\b\b\b\b\b\b\b\b\b\b\b\b\b\b\b\b\b\b\b\b\b\b\b\b\b\b\b\b\b\b\b\b\b\b\b\b\b\b\b\b\b\b\b\b\b\b\b\b\b\b\b\b\b\b\b\b\b\b\b\b\b\b\b\b\b\b\b\b\b\b\b\b\b\b\b\b\b\b\b\b\b\b\r60/60 [==============================] - 18s 307ms/step - loss: 0.5084 - accuracy: 0.7635 - val_loss: 0.4816 - val_accuracy: 0.7625\n",
            "Epoch 4/64\n",
            "60/60 [==============================] - ETA: 0s - loss: 0.4604 - accuracy: 0.7948\n",
            "Epoch 4: val_accuracy did not improve from 0.76250\n",
            "60/60 [==============================] - 14s 232ms/step - loss: 0.4604 - accuracy: 0.7948 - val_loss: 0.5012 - val_accuracy: 0.7354\n",
            "Epoch 5/64\n",
            "60/60 [==============================] - ETA: 0s - loss: 0.4316 - accuracy: 0.8078\n",
            "Epoch 5: val_accuracy improved from 0.76250 to 0.78542, saving model to /content/drive/My Drive/Penelitian/save/ujicoba_11/model_3\n"
          ]
        },
        {
          "output_type": "stream",
          "name": "stderr",
          "text": [
            "WARNING:absl:Found untraced functions such as _jit_compiled_convolution_op, _jit_compiled_convolution_op, _jit_compiled_convolution_op, _jit_compiled_convolution_op, _jit_compiled_convolution_op while saving (showing 5 of 16). These functions will not be directly callable after loading.\n"
          ]
        },
        {
          "output_type": "stream",
          "name": "stdout",
          "text": [
            "\b\b\b\b\b\b\b\b\b\b\b\b\b\b\b\b\b\b\b\b\b\b\b\b\b\b\b\b\b\b\b\b\b\b\b\b\b\b\b\b\b\b\b\b\b\b\b\b\b\b\b\b\b\b\b\b\b\b\b\b\b\b\b\b\b\b\b\b\b\b\b\b\b\b\b\b\b\b\b\b\b\b\r60/60 [==============================] - 18s 306ms/step - loss: 0.4316 - accuracy: 0.8078 - val_loss: 0.4562 - val_accuracy: 0.7854\n",
            "Epoch 6/64\n",
            "60/60 [==============================] - ETA: 0s - loss: 0.4131 - accuracy: 0.8078\n",
            "Epoch 6: val_accuracy improved from 0.78542 to 0.79375, saving model to /content/drive/My Drive/Penelitian/save/ujicoba_11/model_3\n"
          ]
        },
        {
          "output_type": "stream",
          "name": "stderr",
          "text": [
            "WARNING:absl:Found untraced functions such as _jit_compiled_convolution_op, _jit_compiled_convolution_op, _jit_compiled_convolution_op, _jit_compiled_convolution_op, _jit_compiled_convolution_op while saving (showing 5 of 16). These functions will not be directly callable after loading.\n"
          ]
        },
        {
          "output_type": "stream",
          "name": "stdout",
          "text": [
            "\b\b\b\b\b\b\b\b\b\b\b\b\b\b\b\b\b\b\b\b\b\b\b\b\b\b\b\b\b\b\b\b\b\b\b\b\b\b\b\b\b\b\b\b\b\b\b\b\b\b\b\b\b\b\b\b\b\b\b\b\b\b\b\b\b\b\b\b\b\b\b\b\b\b\b\b\b\b\b\b\b\b\r60/60 [==============================] - 19s 313ms/step - loss: 0.4131 - accuracy: 0.8078 - val_loss: 0.4508 - val_accuracy: 0.7937\n",
            "Epoch 7/64\n",
            "60/60 [==============================] - ETA: 0s - loss: 0.3915 - accuracy: 0.8255\n",
            "Epoch 7: val_accuracy did not improve from 0.79375\n",
            "60/60 [==============================] - 14s 239ms/step - loss: 0.3915 - accuracy: 0.8255 - val_loss: 0.4474 - val_accuracy: 0.7917\n",
            "Epoch 8/64\n",
            "60/60 [==============================] - ETA: 0s - loss: 0.3537 - accuracy: 0.8458\n",
            "Epoch 8: val_accuracy did not improve from 0.79375\n",
            "60/60 [==============================] - 16s 274ms/step - loss: 0.3537 - accuracy: 0.8458 - val_loss: 0.4622 - val_accuracy: 0.7771\n",
            "Epoch 9/64\n",
            "60/60 [==============================] - ETA: 0s - loss: 0.3401 - accuracy: 0.8562\n",
            "Epoch 9: val_accuracy improved from 0.79375 to 0.82083, saving model to /content/drive/My Drive/Penelitian/save/ujicoba_11/model_3\n"
          ]
        },
        {
          "output_type": "stream",
          "name": "stderr",
          "text": [
            "WARNING:absl:Found untraced functions such as _jit_compiled_convolution_op, _jit_compiled_convolution_op, _jit_compiled_convolution_op, _jit_compiled_convolution_op, _jit_compiled_convolution_op while saving (showing 5 of 16). These functions will not be directly callable after loading.\n"
          ]
        },
        {
          "output_type": "stream",
          "name": "stdout",
          "text": [
            "\b\b\b\b\b\b\b\b\b\b\b\b\b\b\b\b\b\b\b\b\b\b\b\b\b\b\b\b\b\b\b\b\b\b\b\b\b\b\b\b\b\b\b\b\b\b\b\b\b\b\b\b\b\b\b\b\b\b\b\b\b\b\b\b\b\b\b\b\b\b\b\b\b\b\b\b\b\b\b\b\b\b\r60/60 [==============================] - 21s 346ms/step - loss: 0.3401 - accuracy: 0.8562 - val_loss: 0.4251 - val_accuracy: 0.8208\n",
            "Epoch 10/64\n",
            "60/60 [==============================] - ETA: 0s - loss: 0.3380 - accuracy: 0.8521\n",
            "Epoch 10: val_accuracy did not improve from 0.82083\n",
            "60/60 [==============================] - 16s 271ms/step - loss: 0.3380 - accuracy: 0.8521 - val_loss: 0.4420 - val_accuracy: 0.7896\n",
            "Epoch 11/64\n",
            "60/60 [==============================] - ETA: 0s - loss: 0.3185 - accuracy: 0.8604\n",
            "Epoch 11: val_accuracy did not improve from 0.82083\n",
            "60/60 [==============================] - 16s 271ms/step - loss: 0.3185 - accuracy: 0.8604 - val_loss: 0.4124 - val_accuracy: 0.8000\n",
            "Epoch 12/64\n",
            "60/60 [==============================] - ETA: 0s - loss: 0.3042 - accuracy: 0.8734\n",
            "Epoch 12: val_accuracy did not improve from 0.82083\n",
            "60/60 [==============================] - 16s 273ms/step - loss: 0.3042 - accuracy: 0.8734 - val_loss: 0.4536 - val_accuracy: 0.8021\n",
            "Epoch 13/64\n",
            "60/60 [==============================] - ETA: 0s - loss: 0.2947 - accuracy: 0.8797\n",
            "Epoch 13: val_accuracy did not improve from 0.82083\n",
            "60/60 [==============================] - 16s 271ms/step - loss: 0.2947 - accuracy: 0.8797 - val_loss: 0.4184 - val_accuracy: 0.8208\n",
            "Epoch 14/64\n",
            "60/60 [==============================] - ETA: 0s - loss: 0.2776 - accuracy: 0.8859\n",
            "Epoch 14: val_accuracy did not improve from 0.82083\n",
            "60/60 [==============================] - 16s 271ms/step - loss: 0.2776 - accuracy: 0.8859 - val_loss: 0.4157 - val_accuracy: 0.8208\n",
            "Epoch 15/64\n",
            "60/60 [==============================] - ETA: 0s - loss: 0.2652 - accuracy: 0.8979\n",
            "Epoch 15: val_accuracy did not improve from 0.82083\n",
            "60/60 [==============================] - 14s 229ms/step - loss: 0.2652 - accuracy: 0.8979 - val_loss: 0.4108 - val_accuracy: 0.8208\n",
            "Epoch 16/64\n",
            "60/60 [==============================] - ETA: 0s - loss: 0.2627 - accuracy: 0.8880\n",
            "Epoch 16: val_accuracy did not improve from 0.82083\n",
            "60/60 [==============================] - 16s 272ms/step - loss: 0.2627 - accuracy: 0.8880 - val_loss: 0.4347 - val_accuracy: 0.8167\n",
            "Epoch 17/64\n",
            "60/60 [==============================] - ETA: 0s - loss: 0.2498 - accuracy: 0.8964\n",
            "Epoch 17: val_accuracy did not improve from 0.82083\n",
            "60/60 [==============================] - 16s 271ms/step - loss: 0.2498 - accuracy: 0.8964 - val_loss: 0.5171 - val_accuracy: 0.7896\n",
            "Epoch 18/64\n",
            "60/60 [==============================] - ETA: 0s - loss: 0.2630 - accuracy: 0.8927\n",
            "Epoch 18: val_accuracy improved from 0.82083 to 0.83542, saving model to /content/drive/My Drive/Penelitian/save/ujicoba_11/model_3\n"
          ]
        },
        {
          "output_type": "stream",
          "name": "stderr",
          "text": [
            "WARNING:absl:Found untraced functions such as _jit_compiled_convolution_op, _jit_compiled_convolution_op, _jit_compiled_convolution_op, _jit_compiled_convolution_op, _jit_compiled_convolution_op while saving (showing 5 of 16). These functions will not be directly callable after loading.\n"
          ]
        },
        {
          "output_type": "stream",
          "name": "stdout",
          "text": [
            "\b\b\b\b\b\b\b\b\b\b\b\b\b\b\b\b\b\b\b\b\b\b\b\b\b\b\b\b\b\b\b\b\b\b\b\b\b\b\b\b\b\b\b\b\b\b\b\b\b\b\b\b\b\b\b\b\b\b\b\b\b\b\b\b\b\b\b\b\b\b\b\b\b\b\b\b\b\b\b\b\b\b\r60/60 [==============================] - 20s 342ms/step - loss: 0.2630 - accuracy: 0.8927 - val_loss: 0.4131 - val_accuracy: 0.8354\n",
            "Epoch 19/64\n",
            "60/60 [==============================] - ETA: 0s - loss: 0.2362 - accuracy: 0.9047\n",
            "Epoch 19: val_accuracy did not improve from 0.83542\n",
            "60/60 [==============================] - 16s 270ms/step - loss: 0.2362 - accuracy: 0.9047 - val_loss: 0.4054 - val_accuracy: 0.8125\n",
            "Epoch 20/64\n",
            "60/60 [==============================] - ETA: 0s - loss: 0.2385 - accuracy: 0.9052\n",
            "Epoch 20: val_accuracy did not improve from 0.83542\n",
            "60/60 [==============================] - 14s 232ms/step - loss: 0.2385 - accuracy: 0.9052 - val_loss: 0.4592 - val_accuracy: 0.7875\n",
            "Epoch 21/64\n",
            "60/60 [==============================] - ETA: 0s - loss: 0.2112 - accuracy: 0.9151\n",
            "Epoch 21: val_accuracy did not improve from 0.83542\n",
            "60/60 [==============================] - 14s 232ms/step - loss: 0.2112 - accuracy: 0.9151 - val_loss: 0.4171 - val_accuracy: 0.8125\n",
            "Epoch 22/64\n",
            "60/60 [==============================] - ETA: 0s - loss: 0.2049 - accuracy: 0.9219\n",
            "Epoch 22: val_accuracy did not improve from 0.83542\n",
            "60/60 [==============================] - 14s 230ms/step - loss: 0.2049 - accuracy: 0.9219 - val_loss: 0.4424 - val_accuracy: 0.8250\n",
            "Epoch 23/64\n",
            "60/60 [==============================] - ETA: 0s - loss: 0.2289 - accuracy: 0.9042\n",
            "Epoch 23: val_accuracy did not improve from 0.83542\n",
            "60/60 [==============================] - 17s 282ms/step - loss: 0.2289 - accuracy: 0.9042 - val_loss: 0.6740 - val_accuracy: 0.6792\n",
            "Epoch 24/64\n",
            "60/60 [==============================] - ETA: 0s - loss: 0.2307 - accuracy: 0.9021\n",
            "Epoch 24: val_accuracy did not improve from 0.83542\n",
            "60/60 [==============================] - 16s 274ms/step - loss: 0.2307 - accuracy: 0.9021 - val_loss: 0.3952 - val_accuracy: 0.8354\n",
            "Epoch 25/64\n",
            "60/60 [==============================] - ETA: 0s - loss: 0.2082 - accuracy: 0.9182\n",
            "Epoch 25: val_accuracy did not improve from 0.83542\n",
            "60/60 [==============================] - 14s 236ms/step - loss: 0.2082 - accuracy: 0.9182 - val_loss: 0.4380 - val_accuracy: 0.7937\n",
            "Epoch 26/64\n",
            "60/60 [==============================] - ETA: 0s - loss: 0.1969 - accuracy: 0.9167\n",
            "Epoch 26: val_accuracy did not improve from 0.83542\n",
            "60/60 [==============================] - 17s 278ms/step - loss: 0.1969 - accuracy: 0.9167 - val_loss: 0.4549 - val_accuracy: 0.8271\n",
            "Epoch 27/64\n",
            "60/60 [==============================] - ETA: 0s - loss: 0.2033 - accuracy: 0.9141\n",
            "Epoch 27: val_accuracy did not improve from 0.83542\n",
            "60/60 [==============================] - 17s 278ms/step - loss: 0.2033 - accuracy: 0.9141 - val_loss: 0.4261 - val_accuracy: 0.8062\n",
            "Epoch 28/64\n",
            "60/60 [==============================] - ETA: 0s - loss: 0.1803 - accuracy: 0.9292\n",
            "Epoch 28: val_accuracy did not improve from 0.83542\n",
            "60/60 [==============================] - 16s 273ms/step - loss: 0.1803 - accuracy: 0.9292 - val_loss: 0.4263 - val_accuracy: 0.8104\n",
            "Epoch 29/64\n",
            "60/60 [==============================] - ETA: 0s - loss: 0.1699 - accuracy: 0.9339\n",
            "Epoch 29: val_accuracy did not improve from 0.83542\n",
            "60/60 [==============================] - 16s 271ms/step - loss: 0.1699 - accuracy: 0.9339 - val_loss: 0.4176 - val_accuracy: 0.8083\n",
            "Epoch 30/64\n",
            "60/60 [==============================] - ETA: 0s - loss: 0.1725 - accuracy: 0.9385\n",
            "Epoch 30: val_accuracy did not improve from 0.83542\n",
            "60/60 [==============================] - 16s 271ms/step - loss: 0.1725 - accuracy: 0.9385 - val_loss: 0.4364 - val_accuracy: 0.8167\n",
            "Epoch 31/64\n",
            "60/60 [==============================] - ETA: 0s - loss: 0.1715 - accuracy: 0.9349\n",
            "Epoch 31: val_accuracy did not improve from 0.83542\n",
            "60/60 [==============================] - 14s 236ms/step - loss: 0.1715 - accuracy: 0.9349 - val_loss: 0.4687 - val_accuracy: 0.8292\n",
            "Epoch 31: early stopping\n",
            "15/15 [==============================] - 3s 181ms/step\n",
            "                   precision    recall  f1-score   support\n",
            "\n",
            "Haploid (Class 0)       0.78      0.84      0.81       197\n",
            "Diploid (Class 1)       0.88      0.83      0.86       283\n",
            "\n",
            "         accuracy                           0.84       480\n",
            "        macro avg       0.83      0.84      0.83       480\n",
            "     weighted avg       0.84      0.84      0.84       480\n",
            "\n",
            "Waktu Pelatihan Data :  0:08:33.639116 \n",
            "\n",
            "\n",
            "---------- FOLD KE- 4 ----------\n",
            "Epoch 1/64\n",
            "60/60 [==============================] - ETA: 0s - loss: 0.7396 - accuracy: 0.6344\n",
            "Epoch 1: val_accuracy improved from -inf to 0.74583, saving model to /content/drive/My Drive/Penelitian/save/ujicoba_11/model_4\n"
          ]
        },
        {
          "output_type": "stream",
          "name": "stderr",
          "text": [
            "WARNING:absl:Found untraced functions such as _jit_compiled_convolution_op, _jit_compiled_convolution_op, _jit_compiled_convolution_op, _jit_compiled_convolution_op, _jit_compiled_convolution_op while saving (showing 5 of 16). These functions will not be directly callable after loading.\n"
          ]
        },
        {
          "output_type": "stream",
          "name": "stdout",
          "text": [
            "\b\b\b\b\b\b\b\b\b\b\b\b\b\b\b\b\b\b\b\b\b\b\b\b\b\b\b\b\b\b\b\b\b\b\b\b\b\b\b\b\b\b\b\b\b\b\b\b\b\b\b\b\b\b\b\b\b\b\b\b\b\b\b\b\b\b\b\b\b\b\b\b\b\b\b\b\b\b\b\b\b\b\r60/60 [==============================] - 22s 354ms/step - loss: 0.7396 - accuracy: 0.6344 - val_loss: 0.5320 - val_accuracy: 0.7458\n",
            "Epoch 2/64\n",
            "60/60 [==============================] - ETA: 0s - loss: 0.5658 - accuracy: 0.7203\n",
            "Epoch 2: val_accuracy did not improve from 0.74583\n",
            "60/60 [==============================] - 14s 232ms/step - loss: 0.5658 - accuracy: 0.7203 - val_loss: 0.4889 - val_accuracy: 0.7458\n",
            "Epoch 3/64\n",
            "60/60 [==============================] - ETA: 0s - loss: 0.5004 - accuracy: 0.7568\n",
            "Epoch 3: val_accuracy improved from 0.74583 to 0.80000, saving model to /content/drive/My Drive/Penelitian/save/ujicoba_11/model_4\n"
          ]
        },
        {
          "output_type": "stream",
          "name": "stderr",
          "text": [
            "WARNING:absl:Found untraced functions such as _jit_compiled_convolution_op, _jit_compiled_convolution_op, _jit_compiled_convolution_op, _jit_compiled_convolution_op, _jit_compiled_convolution_op while saving (showing 5 of 16). These functions will not be directly callable after loading.\n"
          ]
        },
        {
          "output_type": "stream",
          "name": "stdout",
          "text": [
            "\b\b\b\b\b\b\b\b\b\b\b\b\b\b\b\b\b\b\b\b\b\b\b\b\b\b\b\b\b\b\b\b\b\b\b\b\b\b\b\b\b\b\b\b\b\b\b\b\b\b\b\b\b\b\b\b\b\b\b\b\b\b\b\b\b\b\b\b\b\b\b\b\b\b\b\b\b\b\b\b\b\b\r60/60 [==============================] - 19s 322ms/step - loss: 0.5004 - accuracy: 0.7568 - val_loss: 0.4368 - val_accuracy: 0.8000\n",
            "Epoch 4/64\n",
            "60/60 [==============================] - ETA: 0s - loss: 0.4542 - accuracy: 0.7948\n",
            "Epoch 4: val_accuracy did not improve from 0.80000\n",
            "60/60 [==============================] - 14s 230ms/step - loss: 0.4542 - accuracy: 0.7948 - val_loss: 0.4161 - val_accuracy: 0.7979\n",
            "Epoch 5/64\n",
            "60/60 [==============================] - ETA: 0s - loss: 0.4266 - accuracy: 0.8078\n",
            "Epoch 5: val_accuracy improved from 0.80000 to 0.80208, saving model to /content/drive/My Drive/Penelitian/save/ujicoba_11/model_4\n"
          ]
        },
        {
          "output_type": "stream",
          "name": "stderr",
          "text": [
            "WARNING:absl:Found untraced functions such as _jit_compiled_convolution_op, _jit_compiled_convolution_op, _jit_compiled_convolution_op, _jit_compiled_convolution_op, _jit_compiled_convolution_op while saving (showing 5 of 16). These functions will not be directly callable after loading.\n"
          ]
        },
        {
          "output_type": "stream",
          "name": "stdout",
          "text": [
            "\b\b\b\b\b\b\b\b\b\b\b\b\b\b\b\b\b\b\b\b\b\b\b\b\b\b\b\b\b\b\b\b\b\b\b\b\b\b\b\b\b\b\b\b\b\b\b\b\b\b\b\b\b\b\b\b\b\b\b\b\b\b\b\b\b\b\b\b\b\b\b\b\b\b\b\b\b\b\b\b\b\b\r60/60 [==============================] - 20s 343ms/step - loss: 0.4266 - accuracy: 0.8078 - val_loss: 0.4445 - val_accuracy: 0.8021\n",
            "Epoch 6/64\n",
            "60/60 [==============================] - ETA: 0s - loss: 0.4270 - accuracy: 0.8021\n",
            "Epoch 6: val_accuracy improved from 0.80208 to 0.82083, saving model to /content/drive/My Drive/Penelitian/save/ujicoba_11/model_4\n"
          ]
        },
        {
          "output_type": "stream",
          "name": "stderr",
          "text": [
            "WARNING:absl:Found untraced functions such as _jit_compiled_convolution_op, _jit_compiled_convolution_op, _jit_compiled_convolution_op, _jit_compiled_convolution_op, _jit_compiled_convolution_op while saving (showing 5 of 16). These functions will not be directly callable after loading.\n"
          ]
        },
        {
          "output_type": "stream",
          "name": "stdout",
          "text": [
            "\b\b\b\b\b\b\b\b\b\b\b\b\b\b\b\b\b\b\b\b\b\b\b\b\b\b\b\b\b\b\b\b\b\b\b\b\b\b\b\b\b\b\b\b\b\b\b\b\b\b\b\b\b\b\b\b\b\b\b\b\b\b\b\b\b\b\b\b\b\b\b\b\b\b\b\b\b\b\b\b\b\b\r60/60 [==============================] - 19s 318ms/step - loss: 0.4270 - accuracy: 0.8021 - val_loss: 0.3950 - val_accuracy: 0.8208\n",
            "Epoch 7/64\n",
            "60/60 [==============================] - ETA: 0s - loss: 0.3897 - accuracy: 0.8203\n",
            "Epoch 7: val_accuracy did not improve from 0.82083\n",
            "60/60 [==============================] - 14s 234ms/step - loss: 0.3897 - accuracy: 0.8203 - val_loss: 0.3937 - val_accuracy: 0.8188\n",
            "Epoch 8/64\n",
            "60/60 [==============================] - ETA: 0s - loss: 0.3858 - accuracy: 0.8385\n",
            "Epoch 8: val_accuracy improved from 0.82083 to 0.84167, saving model to /content/drive/My Drive/Penelitian/save/ujicoba_11/model_4\n"
          ]
        },
        {
          "output_type": "stream",
          "name": "stderr",
          "text": [
            "WARNING:absl:Found untraced functions such as _jit_compiled_convolution_op, _jit_compiled_convolution_op, _jit_compiled_convolution_op, _jit_compiled_convolution_op, _jit_compiled_convolution_op while saving (showing 5 of 16). These functions will not be directly callable after loading.\n"
          ]
        },
        {
          "output_type": "stream",
          "name": "stdout",
          "text": [
            "\b\b\b\b\b\b\b\b\b\b\b\b\b\b\b\b\b\b\b\b\b\b\b\b\b\b\b\b\b\b\b\b\b\b\b\b\b\b\b\b\b\b\b\b\b\b\b\b\b\b\b\b\b\b\b\b\b\b\b\b\b\b\b\b\b\b\b\b\b\b\b\b\b\b\b\b\b\b\b\b\b\b\r60/60 [==============================] - 21s 346ms/step - loss: 0.3858 - accuracy: 0.8385 - val_loss: 0.3613 - val_accuracy: 0.8417\n",
            "Epoch 9/64\n",
            "60/60 [==============================] - ETA: 0s - loss: 0.3467 - accuracy: 0.8453\n",
            "Epoch 9: val_accuracy improved from 0.84167 to 0.84375, saving model to /content/drive/My Drive/Penelitian/save/ujicoba_11/model_4\n"
          ]
        },
        {
          "output_type": "stream",
          "name": "stderr",
          "text": [
            "WARNING:absl:Found untraced functions such as _jit_compiled_convolution_op, _jit_compiled_convolution_op, _jit_compiled_convolution_op, _jit_compiled_convolution_op, _jit_compiled_convolution_op while saving (showing 5 of 16). These functions will not be directly callable after loading.\n"
          ]
        },
        {
          "output_type": "stream",
          "name": "stdout",
          "text": [
            "\b\b\b\b\b\b\b\b\b\b\b\b\b\b\b\b\b\b\b\b\b\b\b\b\b\b\b\b\b\b\b\b\b\b\b\b\b\b\b\b\b\b\b\b\b\b\b\b\b\b\b\b\b\b\b\b\b\b\b\b\b\b\b\b\b\b\b\b\b\b\b\b\b\b\b\b\b\b\b\b\b\b\r60/60 [==============================] - 19s 312ms/step - loss: 0.3467 - accuracy: 0.8453 - val_loss: 0.3667 - val_accuracy: 0.8438\n",
            "Epoch 10/64\n",
            "60/60 [==============================] - ETA: 0s - loss: 0.3438 - accuracy: 0.8547\n",
            "Epoch 10: val_accuracy did not improve from 0.84375\n",
            "60/60 [==============================] - 16s 271ms/step - loss: 0.3438 - accuracy: 0.8547 - val_loss: 0.3414 - val_accuracy: 0.8417\n",
            "Epoch 11/64\n",
            "60/60 [==============================] - ETA: 0s - loss: 0.3253 - accuracy: 0.8630\n",
            "Epoch 11: val_accuracy improved from 0.84375 to 0.85208, saving model to /content/drive/My Drive/Penelitian/save/ujicoba_11/model_4\n"
          ]
        },
        {
          "output_type": "stream",
          "name": "stderr",
          "text": [
            "WARNING:absl:Found untraced functions such as _jit_compiled_convolution_op, _jit_compiled_convolution_op, _jit_compiled_convolution_op, _jit_compiled_convolution_op, _jit_compiled_convolution_op while saving (showing 5 of 16). These functions will not be directly callable after loading.\n"
          ]
        },
        {
          "output_type": "stream",
          "name": "stdout",
          "text": [
            "\b\b\b\b\b\b\b\b\b\b\b\b\b\b\b\b\b\b\b\b\b\b\b\b\b\b\b\b\b\b\b\b\b\b\b\b\b\b\b\b\b\b\b\b\b\b\b\b\b\b\b\b\b\b\b\b\b\b\b\b\b\b\b\b\b\b\b\b\b\b\b\b\b\b\b\b\b\b\b\b\b\b\r60/60 [==============================] - 20s 342ms/step - loss: 0.3253 - accuracy: 0.8630 - val_loss: 0.3402 - val_accuracy: 0.8521\n",
            "Epoch 12/64\n",
            "60/60 [==============================] - ETA: 0s - loss: 0.3157 - accuracy: 0.8635\n",
            "Epoch 12: val_accuracy did not improve from 0.85208\n",
            "60/60 [==============================] - 14s 229ms/step - loss: 0.3157 - accuracy: 0.8635 - val_loss: 0.3481 - val_accuracy: 0.8521\n",
            "Epoch 13/64\n",
            "60/60 [==============================] - ETA: 0s - loss: 0.3214 - accuracy: 0.8661\n",
            "Epoch 13: val_accuracy improved from 0.85208 to 0.85625, saving model to /content/drive/My Drive/Penelitian/save/ujicoba_11/model_4\n"
          ]
        },
        {
          "output_type": "stream",
          "name": "stderr",
          "text": [
            "WARNING:absl:Found untraced functions such as _jit_compiled_convolution_op, _jit_compiled_convolution_op, _jit_compiled_convolution_op, _jit_compiled_convolution_op, _jit_compiled_convolution_op while saving (showing 5 of 16). These functions will not be directly callable after loading.\n"
          ]
        },
        {
          "output_type": "stream",
          "name": "stdout",
          "text": [
            "\b\b\b\b\b\b\b\b\b\b\b\b\b\b\b\b\b\b\b\b\b\b\b\b\b\b\b\b\b\b\b\b\b\b\b\b\b\b\b\b\b\b\b\b\b\b\b\b\b\b\b\b\b\b\b\b\b\b\b\b\b\b\b\b\b\b\b\b\b\b\b\b\b\b\b\b\b\b\b\b\b\b\r60/60 [==============================] - 20s 341ms/step - loss: 0.3214 - accuracy: 0.8661 - val_loss: 0.3349 - val_accuracy: 0.8562\n",
            "Epoch 14/64\n",
            "60/60 [==============================] - ETA: 0s - loss: 0.2937 - accuracy: 0.8760\n",
            "Epoch 14: val_accuracy did not improve from 0.85625\n",
            "60/60 [==============================] - 14s 229ms/step - loss: 0.2937 - accuracy: 0.8760 - val_loss: 0.3895 - val_accuracy: 0.8375\n",
            "Epoch 15/64\n",
            "60/60 [==============================] - ETA: 0s - loss: 0.3078 - accuracy: 0.8672\n",
            "Epoch 15: val_accuracy did not improve from 0.85625\n",
            "60/60 [==============================] - 14s 232ms/step - loss: 0.3078 - accuracy: 0.8672 - val_loss: 0.3733 - val_accuracy: 0.8417\n",
            "Epoch 16/64\n",
            "60/60 [==============================] - ETA: 0s - loss: 0.2951 - accuracy: 0.8729\n",
            "Epoch 16: val_accuracy did not improve from 0.85625\n",
            "60/60 [==============================] - 16s 272ms/step - loss: 0.2951 - accuracy: 0.8729 - val_loss: 0.3732 - val_accuracy: 0.8104\n",
            "Epoch 17/64\n",
            "60/60 [==============================] - ETA: 0s - loss: 0.2986 - accuracy: 0.8755\n",
            "Epoch 17: val_accuracy did not improve from 0.85625\n",
            "60/60 [==============================] - 16s 271ms/step - loss: 0.2986 - accuracy: 0.8755 - val_loss: 0.3780 - val_accuracy: 0.8021\n",
            "Epoch 18/64\n",
            "60/60 [==============================] - ETA: 0s - loss: 0.2673 - accuracy: 0.8875\n",
            "Epoch 18: val_accuracy improved from 0.85625 to 0.86458, saving model to /content/drive/My Drive/Penelitian/save/ujicoba_11/model_4\n"
          ]
        },
        {
          "output_type": "stream",
          "name": "stderr",
          "text": [
            "WARNING:absl:Found untraced functions such as _jit_compiled_convolution_op, _jit_compiled_convolution_op, _jit_compiled_convolution_op, _jit_compiled_convolution_op, _jit_compiled_convolution_op while saving (showing 5 of 16). These functions will not be directly callable after loading.\n"
          ]
        },
        {
          "output_type": "stream",
          "name": "stdout",
          "text": [
            "\b\b\b\b\b\b\b\b\b\b\b\b\b\b\b\b\b\b\b\b\b\b\b\b\b\b\b\b\b\b\b\b\b\b\b\b\b\b\b\b\b\b\b\b\b\b\b\b\b\b\b\b\b\b\b\b\b\b\b\b\b\b\b\b\b\b\b\b\b\b\b\b\b\b\b\b\b\b\b\b\b\b\r60/60 [==============================] - 21s 344ms/step - loss: 0.2673 - accuracy: 0.8875 - val_loss: 0.3317 - val_accuracy: 0.8646\n",
            "Epoch 19/64\n",
            "60/60 [==============================] - ETA: 0s - loss: 0.2686 - accuracy: 0.8958\n",
            "Epoch 19: val_accuracy did not improve from 0.86458\n",
            "60/60 [==============================] - 14s 230ms/step - loss: 0.2686 - accuracy: 0.8958 - val_loss: 0.3426 - val_accuracy: 0.8438\n",
            "Epoch 20/64\n",
            "60/60 [==============================] - ETA: 0s - loss: 0.2616 - accuracy: 0.8896\n",
            "Epoch 20: val_accuracy improved from 0.86458 to 0.87917, saving model to /content/drive/My Drive/Penelitian/save/ujicoba_11/model_4\n"
          ]
        },
        {
          "output_type": "stream",
          "name": "stderr",
          "text": [
            "WARNING:absl:Found untraced functions such as _jit_compiled_convolution_op, _jit_compiled_convolution_op, _jit_compiled_convolution_op, _jit_compiled_convolution_op, _jit_compiled_convolution_op while saving (showing 5 of 16). These functions will not be directly callable after loading.\n"
          ]
        },
        {
          "output_type": "stream",
          "name": "stdout",
          "text": [
            "\b\b\b\b\b\b\b\b\b\b\b\b\b\b\b\b\b\b\b\b\b\b\b\b\b\b\b\b\b\b\b\b\b\b\b\b\b\b\b\b\b\b\b\b\b\b\b\b\b\b\b\b\b\b\b\b\b\b\b\b\b\b\b\b\b\b\b\b\b\b\b\b\b\b\b\b\b\b\b\b\b\b\r60/60 [==============================] - 21s 350ms/step - loss: 0.2616 - accuracy: 0.8896 - val_loss: 0.3363 - val_accuracy: 0.8792\n",
            "Epoch 21/64\n",
            "60/60 [==============================] - ETA: 0s - loss: 0.2501 - accuracy: 0.8854\n",
            "Epoch 21: val_accuracy did not improve from 0.87917\n",
            "60/60 [==============================] - 14s 229ms/step - loss: 0.2501 - accuracy: 0.8854 - val_loss: 0.3366 - val_accuracy: 0.8583\n",
            "Epoch 22/64\n",
            "60/60 [==============================] - ETA: 0s - loss: 0.2389 - accuracy: 0.9052\n",
            "Epoch 22: val_accuracy did not improve from 0.87917\n",
            "60/60 [==============================] - 16s 272ms/step - loss: 0.2389 - accuracy: 0.9052 - val_loss: 0.3367 - val_accuracy: 0.8687\n",
            "Epoch 23/64\n",
            "60/60 [==============================] - ETA: 0s - loss: 0.2174 - accuracy: 0.9125\n",
            "Epoch 23: val_accuracy did not improve from 0.87917\n",
            "60/60 [==============================] - 16s 273ms/step - loss: 0.2174 - accuracy: 0.9125 - val_loss: 0.3645 - val_accuracy: 0.8354\n",
            "Epoch 24/64\n",
            "60/60 [==============================] - ETA: 0s - loss: 0.2475 - accuracy: 0.9026\n",
            "Epoch 24: val_accuracy did not improve from 0.87917\n",
            "60/60 [==============================] - 16s 271ms/step - loss: 0.2475 - accuracy: 0.9026 - val_loss: 0.3439 - val_accuracy: 0.8625\n",
            "Epoch 25/64\n",
            "60/60 [==============================] - ETA: 0s - loss: 0.2299 - accuracy: 0.9073\n",
            "Epoch 25: val_accuracy did not improve from 0.87917\n",
            "60/60 [==============================] - 16s 273ms/step - loss: 0.2299 - accuracy: 0.9073 - val_loss: 0.3498 - val_accuracy: 0.8583\n",
            "Epoch 25: early stopping\n",
            "15/15 [==============================] - 3s 179ms/step\n",
            "                   precision    recall  f1-score   support\n",
            "\n",
            "Haploid (Class 0)       0.83      0.88      0.86       197\n",
            "Diploid (Class 1)       0.92      0.88      0.90       283\n",
            "\n",
            "         accuracy                           0.88       480\n",
            "        macro avg       0.87      0.88      0.88       480\n",
            "     weighted avg       0.88      0.88      0.88       480\n",
            "\n",
            "Waktu Pelatihan Data :  0:07:07.233859 \n",
            "\n",
            "\n",
            "---------- FOLD KE- 5 ----------\n",
            "Epoch 1/64\n",
            "60/60 [==============================] - ETA: 0s - loss: 0.7226 - accuracy: 0.6016\n",
            "Epoch 1: val_accuracy improved from -inf to 0.62708, saving model to /content/drive/My Drive/Penelitian/save/ujicoba_11/model_5\n"
          ]
        },
        {
          "output_type": "stream",
          "name": "stderr",
          "text": [
            "WARNING:absl:Found untraced functions such as _jit_compiled_convolution_op, _jit_compiled_convolution_op, _jit_compiled_convolution_op, _jit_compiled_convolution_op, _jit_compiled_convolution_op while saving (showing 5 of 16). These functions will not be directly callable after loading.\n"
          ]
        },
        {
          "output_type": "stream",
          "name": "stdout",
          "text": [
            "\b\b\b\b\b\b\b\b\b\b\b\b\b\b\b\b\b\b\b\b\b\b\b\b\b\b\b\b\b\b\b\b\b\b\b\b\b\b\b\b\b\b\b\b\b\b\b\b\b\b\b\b\b\b\b\b\b\b\b\b\b\b\b\b\b\b\b\b\b\b\b\b\b\b\b\b\b\b\b\b\b\b\r60/60 [==============================] - 21s 347ms/step - loss: 0.7226 - accuracy: 0.6016 - val_loss: 0.5812 - val_accuracy: 0.6271\n",
            "Epoch 2/64\n",
            "60/60 [==============================] - ETA: 0s - loss: 0.5623 - accuracy: 0.7271\n",
            "Epoch 2: val_accuracy improved from 0.62708 to 0.78333, saving model to /content/drive/My Drive/Penelitian/save/ujicoba_11/model_5\n"
          ]
        },
        {
          "output_type": "stream",
          "name": "stderr",
          "text": [
            "WARNING:absl:Found untraced functions such as _jit_compiled_convolution_op, _jit_compiled_convolution_op, _jit_compiled_convolution_op, _jit_compiled_convolution_op, _jit_compiled_convolution_op while saving (showing 5 of 16). These functions will not be directly callable after loading.\n"
          ]
        },
        {
          "output_type": "stream",
          "name": "stdout",
          "text": [
            "\b\b\b\b\b\b\b\b\b\b\b\b\b\b\b\b\b\b\b\b\b\b\b\b\b\b\b\b\b\b\b\b\b\b\b\b\b\b\b\b\b\b\b\b\b\b\b\b\b\b\b\b\b\b\b\b\b\b\b\b\b\b\b\b\b\b\b\b\b\b\b\b\b\b\b\b\b\b\b\b\b\b\r60/60 [==============================] - 19s 317ms/step - loss: 0.5623 - accuracy: 0.7271 - val_loss: 0.4817 - val_accuracy: 0.7833\n",
            "Epoch 3/64\n",
            "60/60 [==============================] - ETA: 0s - loss: 0.5051 - accuracy: 0.7552\n",
            "Epoch 3: val_accuracy improved from 0.78333 to 0.79167, saving model to /content/drive/My Drive/Penelitian/save/ujicoba_11/model_5\n"
          ]
        },
        {
          "output_type": "stream",
          "name": "stderr",
          "text": [
            "WARNING:absl:Found untraced functions such as _jit_compiled_convolution_op, _jit_compiled_convolution_op, _jit_compiled_convolution_op, _jit_compiled_convolution_op, _jit_compiled_convolution_op while saving (showing 5 of 16). These functions will not be directly callable after loading.\n"
          ]
        },
        {
          "output_type": "stream",
          "name": "stdout",
          "text": [
            "\b\b\b\b\b\b\b\b\b\b\b\b\b\b\b\b\b\b\b\b\b\b\b\b\b\b\b\b\b\b\b\b\b\b\b\b\b\b\b\b\b\b\b\b\b\b\b\b\b\b\b\b\b\b\b\b\b\b\b\b\b\b\b\b\b\b\b\b\b\b\b\b\b\b\b\b\b\b\b\b\b\b\r60/60 [==============================] - 21s 347ms/step - loss: 0.5051 - accuracy: 0.7552 - val_loss: 0.4474 - val_accuracy: 0.7917\n",
            "Epoch 4/64\n",
            "60/60 [==============================] - ETA: 0s - loss: 0.4764 - accuracy: 0.7786\n",
            "Epoch 4: val_accuracy improved from 0.79167 to 0.80208, saving model to /content/drive/My Drive/Penelitian/save/ujicoba_11/model_5\n"
          ]
        },
        {
          "output_type": "stream",
          "name": "stderr",
          "text": [
            "WARNING:absl:Found untraced functions such as _jit_compiled_convolution_op, _jit_compiled_convolution_op, _jit_compiled_convolution_op, _jit_compiled_convolution_op, _jit_compiled_convolution_op while saving (showing 5 of 16). These functions will not be directly callable after loading.\n"
          ]
        },
        {
          "output_type": "stream",
          "name": "stdout",
          "text": [
            "\b\b\b\b\b\b\b\b\b\b\b\b\b\b\b\b\b\b\b\b\b\b\b\b\b\b\b\b\b\b\b\b\b\b\b\b\b\b\b\b\b\b\b\b\b\b\b\b\b\b\b\b\b\b\b\b\b\b\b\b\b\b\b\b\b\b\b\b\b\b\b\b\b\b\b\b\b\b\b\b\b\b\r60/60 [==============================] - 20s 343ms/step - loss: 0.4764 - accuracy: 0.7786 - val_loss: 0.4405 - val_accuracy: 0.8021\n",
            "Epoch 5/64\n",
            "60/60 [==============================] - ETA: 0s - loss: 0.4428 - accuracy: 0.7958\n",
            "Epoch 5: val_accuracy improved from 0.80208 to 0.81042, saving model to /content/drive/My Drive/Penelitian/save/ujicoba_11/model_5\n"
          ]
        },
        {
          "output_type": "stream",
          "name": "stderr",
          "text": [
            "WARNING:absl:Found untraced functions such as _jit_compiled_convolution_op, _jit_compiled_convolution_op, _jit_compiled_convolution_op, _jit_compiled_convolution_op, _jit_compiled_convolution_op while saving (showing 5 of 16). These functions will not be directly callable after loading.\n"
          ]
        },
        {
          "output_type": "stream",
          "name": "stdout",
          "text": [
            "\b\b\b\b\b\b\b\b\b\b\b\b\b\b\b\b\b\b\b\b\b\b\b\b\b\b\b\b\b\b\b\b\b\b\b\b\b\b\b\b\b\b\b\b\b\b\b\b\b\b\b\b\b\b\b\b\b\b\b\b\b\b\b\b\b\b\b\b\b\b\b\b\b\b\b\b\b\b\b\b\b\b\r60/60 [==============================] - 21s 347ms/step - loss: 0.4428 - accuracy: 0.7958 - val_loss: 0.4132 - val_accuracy: 0.8104\n",
            "Epoch 6/64\n",
            "60/60 [==============================] - ETA: 0s - loss: 0.4153 - accuracy: 0.8167\n",
            "Epoch 6: val_accuracy did not improve from 0.81042\n",
            "60/60 [==============================] - 14s 232ms/step - loss: 0.4153 - accuracy: 0.8167 - val_loss: 0.4047 - val_accuracy: 0.8062\n",
            "Epoch 7/64\n",
            "60/60 [==============================] - ETA: 0s - loss: 0.4017 - accuracy: 0.8167\n",
            "Epoch 7: val_accuracy did not improve from 0.81042\n",
            "60/60 [==============================] - 14s 234ms/step - loss: 0.4017 - accuracy: 0.8167 - val_loss: 0.4718 - val_accuracy: 0.7750\n",
            "Epoch 8/64\n",
            "60/60 [==============================] - ETA: 0s - loss: 0.3781 - accuracy: 0.8359\n",
            "Epoch 8: val_accuracy improved from 0.81042 to 0.83125, saving model to /content/drive/My Drive/Penelitian/save/ujicoba_11/model_5\n"
          ]
        },
        {
          "output_type": "stream",
          "name": "stderr",
          "text": [
            "WARNING:absl:Found untraced functions such as _jit_compiled_convolution_op, _jit_compiled_convolution_op, _jit_compiled_convolution_op, _jit_compiled_convolution_op, _jit_compiled_convolution_op while saving (showing 5 of 16). These functions will not be directly callable after loading.\n"
          ]
        },
        {
          "output_type": "stream",
          "name": "stdout",
          "text": [
            "\b\b\b\b\b\b\b\b\b\b\b\b\b\b\b\b\b\b\b\b\b\b\b\b\b\b\b\b\b\b\b\b\b\b\b\b\b\b\b\b\b\b\b\b\b\b\b\b\b\b\b\b\b\b\b\b\b\b\b\b\b\b\b\b\b\b\b\b\b\b\b\b\b\b\b\b\b\b\b\b\b\b\r60/60 [==============================] - 18s 302ms/step - loss: 0.3781 - accuracy: 0.8359 - val_loss: 0.3696 - val_accuracy: 0.8313\n",
            "Epoch 9/64\n",
            "60/60 [==============================] - ETA: 0s - loss: 0.3439 - accuracy: 0.8557\n",
            "Epoch 9: val_accuracy did not improve from 0.83125\n",
            "60/60 [==============================] - 16s 270ms/step - loss: 0.3439 - accuracy: 0.8557 - val_loss: 0.4033 - val_accuracy: 0.8229\n",
            "Epoch 10/64\n",
            "60/60 [==============================] - ETA: 0s - loss: 0.3536 - accuracy: 0.8448\n",
            "Epoch 10: val_accuracy improved from 0.83125 to 0.83750, saving model to /content/drive/My Drive/Penelitian/save/ujicoba_11/model_5\n"
          ]
        },
        {
          "output_type": "stream",
          "name": "stderr",
          "text": [
            "WARNING:absl:Found untraced functions such as _jit_compiled_convolution_op, _jit_compiled_convolution_op, _jit_compiled_convolution_op, _jit_compiled_convolution_op, _jit_compiled_convolution_op while saving (showing 5 of 16). These functions will not be directly callable after loading.\n"
          ]
        },
        {
          "output_type": "stream",
          "name": "stdout",
          "text": [
            "\b\b\b\b\b\b\b\b\b\b\b\b\b\b\b\b\b\b\b\b\b\b\b\b\b\b\b\b\b\b\b\b\b\b\b\b\b\b\b\b\b\b\b\b\b\b\b\b\b\b\b\b\b\b\b\b\b\b\b\b\b\b\b\b\b\b\b\b\b\b\b\b\b\b\b\b\b\b\b\b\b\b\r60/60 [==============================] - 18s 301ms/step - loss: 0.3536 - accuracy: 0.8448 - val_loss: 0.3648 - val_accuracy: 0.8375\n",
            "Epoch 11/64\n",
            "60/60 [==============================] - ETA: 0s - loss: 0.3194 - accuracy: 0.8693\n",
            "Epoch 11: val_accuracy did not improve from 0.83750\n",
            "60/60 [==============================] - 16s 273ms/step - loss: 0.3194 - accuracy: 0.8693 - val_loss: 0.3558 - val_accuracy: 0.8354\n",
            "Epoch 12/64\n",
            "60/60 [==============================] - ETA: 0s - loss: 0.3236 - accuracy: 0.8521\n",
            "Epoch 12: val_accuracy did not improve from 0.83750\n",
            "60/60 [==============================] - 14s 232ms/step - loss: 0.3236 - accuracy: 0.8521 - val_loss: 0.3969 - val_accuracy: 0.8146\n",
            "Epoch 13/64\n",
            "60/60 [==============================] - ETA: 0s - loss: 0.3241 - accuracy: 0.8552\n",
            "Epoch 13: val_accuracy did not improve from 0.83750\n",
            "60/60 [==============================] - 16s 273ms/step - loss: 0.3241 - accuracy: 0.8552 - val_loss: 0.3591 - val_accuracy: 0.8354\n",
            "Epoch 14/64\n",
            "60/60 [==============================] - ETA: 0s - loss: 0.2881 - accuracy: 0.8802\n",
            "Epoch 14: val_accuracy improved from 0.83750 to 0.84167, saving model to /content/drive/My Drive/Penelitian/save/ujicoba_11/model_5\n"
          ]
        },
        {
          "output_type": "stream",
          "name": "stderr",
          "text": [
            "WARNING:absl:Found untraced functions such as _jit_compiled_convolution_op, _jit_compiled_convolution_op, _jit_compiled_convolution_op, _jit_compiled_convolution_op, _jit_compiled_convolution_op while saving (showing 5 of 16). These functions will not be directly callable after loading.\n"
          ]
        },
        {
          "output_type": "stream",
          "name": "stdout",
          "text": [
            "\b\b\b\b\b\b\b\b\b\b\b\b\b\b\b\b\b\b\b\b\b\b\b\b\b\b\b\b\b\b\b\b\b\b\b\b\b\b\b\b\b\b\b\b\b\b\b\b\b\b\b\b\b\b\b\b\b\b\b\b\b\b\b\b\b\b\b\b\b\b\b\b\b\b\b\b\b\b\b\b\b\b\r60/60 [==============================] - 21s 350ms/step - loss: 0.2881 - accuracy: 0.8802 - val_loss: 0.3579 - val_accuracy: 0.8417\n",
            "Epoch 15/64\n",
            "60/60 [==============================] - ETA: 0s - loss: 0.2812 - accuracy: 0.8823\n",
            "Epoch 15: val_accuracy improved from 0.84167 to 0.84792, saving model to /content/drive/My Drive/Penelitian/save/ujicoba_11/model_5\n"
          ]
        },
        {
          "output_type": "stream",
          "name": "stderr",
          "text": [
            "WARNING:absl:Found untraced functions such as _jit_compiled_convolution_op, _jit_compiled_convolution_op, _jit_compiled_convolution_op, _jit_compiled_convolution_op, _jit_compiled_convolution_op while saving (showing 5 of 16). These functions will not be directly callable after loading.\n"
          ]
        },
        {
          "output_type": "stream",
          "name": "stdout",
          "text": [
            "\b\b\b\b\b\b\b\b\b\b\b\b\b\b\b\b\b\b\b\b\b\b\b\b\b\b\b\b\b\b\b\b\b\b\b\b\b\b\b\b\b\b\b\b\b\b\b\b\b\b\b\b\b\b\b\b\b\b\b\b\b\b\b\b\b\b\b\b\b\b\b\b\b\b\b\b\b\b\b\b\b\b\r60/60 [==============================] - 20s 343ms/step - loss: 0.2812 - accuracy: 0.8823 - val_loss: 0.3506 - val_accuracy: 0.8479\n",
            "Epoch 16/64\n",
            "60/60 [==============================] - ETA: 0s - loss: 0.2876 - accuracy: 0.8786\n",
            "Epoch 16: val_accuracy did not improve from 0.84792\n",
            "60/60 [==============================] - 16s 272ms/step - loss: 0.2876 - accuracy: 0.8786 - val_loss: 0.3543 - val_accuracy: 0.8458\n",
            "Epoch 17/64\n",
            "60/60 [==============================] - ETA: 0s - loss: 0.2515 - accuracy: 0.9052\n",
            "Epoch 17: val_accuracy did not improve from 0.84792\n",
            "60/60 [==============================] - 16s 275ms/step - loss: 0.2515 - accuracy: 0.9052 - val_loss: 0.3717 - val_accuracy: 0.8375\n",
            "Epoch 18/64\n",
            "60/60 [==============================] - ETA: 0s - loss: 0.2644 - accuracy: 0.8896\n",
            "Epoch 18: val_accuracy did not improve from 0.84792\n",
            "60/60 [==============================] - 16s 272ms/step - loss: 0.2644 - accuracy: 0.8896 - val_loss: 0.3411 - val_accuracy: 0.8396\n",
            "Epoch 19/64\n",
            "60/60 [==============================] - ETA: 0s - loss: 0.2770 - accuracy: 0.8870\n",
            "Epoch 19: val_accuracy did not improve from 0.84792\n",
            "60/60 [==============================] - 14s 228ms/step - loss: 0.2770 - accuracy: 0.8870 - val_loss: 0.4155 - val_accuracy: 0.8229\n",
            "Epoch 20/64\n",
            "60/60 [==============================] - ETA: 0s - loss: 0.2707 - accuracy: 0.8828\n",
            "Epoch 20: val_accuracy did not improve from 0.84792\n",
            "60/60 [==============================] - 16s 270ms/step - loss: 0.2707 - accuracy: 0.8828 - val_loss: 0.3466 - val_accuracy: 0.8375\n",
            "Epoch 21/64\n",
            "60/60 [==============================] - ETA: 0s - loss: 0.2360 - accuracy: 0.9042\n",
            "Epoch 21: val_accuracy did not improve from 0.84792\n",
            "60/60 [==============================] - 16s 272ms/step - loss: 0.2360 - accuracy: 0.9042 - val_loss: 0.3619 - val_accuracy: 0.8438\n",
            "Epoch 22/64\n",
            "60/60 [==============================] - ETA: 0s - loss: 0.2449 - accuracy: 0.8964\n",
            "Epoch 22: val_accuracy did not improve from 0.84792\n",
            "60/60 [==============================] - 16s 271ms/step - loss: 0.2449 - accuracy: 0.8964 - val_loss: 0.3578 - val_accuracy: 0.8375\n",
            "Epoch 23/64\n",
            "60/60 [==============================] - ETA: 0s - loss: 0.2384 - accuracy: 0.9073\n",
            "Epoch 23: val_accuracy improved from 0.84792 to 0.85625, saving model to /content/drive/My Drive/Penelitian/save/ujicoba_11/model_5\n"
          ]
        },
        {
          "output_type": "stream",
          "name": "stderr",
          "text": [
            "WARNING:absl:Found untraced functions such as _jit_compiled_convolution_op, _jit_compiled_convolution_op, _jit_compiled_convolution_op, _jit_compiled_convolution_op, _jit_compiled_convolution_op while saving (showing 5 of 16). These functions will not be directly callable after loading.\n"
          ]
        },
        {
          "output_type": "stream",
          "name": "stdout",
          "text": [
            "\b\b\b\b\b\b\b\b\b\b\b\b\b\b\b\b\b\b\b\b\b\b\b\b\b\b\b\b\b\b\b\b\b\b\b\b\b\b\b\b\b\b\b\b\b\b\b\b\b\b\b\b\b\b\b\b\b\b\b\b\b\b\b\b\b\b\b\b\b\b\b\b\b\b\b\b\b\b\b\b\b\b\r60/60 [==============================] - 21s 344ms/step - loss: 0.2384 - accuracy: 0.9073 - val_loss: 0.3385 - val_accuracy: 0.8562\n",
            "Epoch 24/64\n",
            "60/60 [==============================] - ETA: 0s - loss: 0.2179 - accuracy: 0.9099\n",
            "Epoch 24: val_accuracy did not improve from 0.85625\n",
            "60/60 [==============================] - 16s 271ms/step - loss: 0.2179 - accuracy: 0.9099 - val_loss: 0.3548 - val_accuracy: 0.8417\n",
            "Epoch 25/64\n",
            "60/60 [==============================] - ETA: 0s - loss: 0.2120 - accuracy: 0.9182\n",
            "Epoch 25: val_accuracy did not improve from 0.85625\n",
            "60/60 [==============================] - 14s 232ms/step - loss: 0.2120 - accuracy: 0.9182 - val_loss: 0.3615 - val_accuracy: 0.8521\n",
            "Epoch 26/64\n",
            "60/60 [==============================] - ETA: 0s - loss: 0.2101 - accuracy: 0.9193\n",
            "Epoch 26: val_accuracy did not improve from 0.85625\n",
            "60/60 [==============================] - 16s 272ms/step - loss: 0.2101 - accuracy: 0.9193 - val_loss: 0.3518 - val_accuracy: 0.8438\n",
            "Epoch 27/64\n",
            "60/60 [==============================] - ETA: 0s - loss: 0.1970 - accuracy: 0.9193\n",
            "Epoch 27: val_accuracy did not improve from 0.85625\n",
            "60/60 [==============================] - 16s 271ms/step - loss: 0.1970 - accuracy: 0.9193 - val_loss: 0.3911 - val_accuracy: 0.8417\n",
            "Epoch 28/64\n",
            "60/60 [==============================] - ETA: 0s - loss: 0.2127 - accuracy: 0.9146\n",
            "Epoch 28: val_accuracy did not improve from 0.85625\n",
            "60/60 [==============================] - 16s 271ms/step - loss: 0.2127 - accuracy: 0.9146 - val_loss: 0.3606 - val_accuracy: 0.8396\n",
            "Epoch 29/64\n",
            "60/60 [==============================] - ETA: 0s - loss: 0.2037 - accuracy: 0.9130\n",
            "Epoch 29: val_accuracy did not improve from 0.85625\n",
            "60/60 [==============================] - 16s 272ms/step - loss: 0.2037 - accuracy: 0.9130 - val_loss: 0.3570 - val_accuracy: 0.8479\n",
            "Epoch 30/64\n",
            "60/60 [==============================] - ETA: 0s - loss: 0.2000 - accuracy: 0.9203\n",
            "Epoch 30: val_accuracy did not improve from 0.85625\n",
            "60/60 [==============================] - 16s 271ms/step - loss: 0.2000 - accuracy: 0.9203 - val_loss: 0.4007 - val_accuracy: 0.8396\n",
            "Epoch 30: early stopping\n",
            "15/15 [==============================] - 3s 180ms/step\n",
            "                   precision    recall  f1-score   support\n",
            "\n",
            "Haploid (Class 0)       0.82      0.83      0.83       197\n",
            "Diploid (Class 1)       0.88      0.88      0.88       283\n",
            "\n",
            "         accuracy                           0.86       480\n",
            "        macro avg       0.85      0.85      0.85       480\n",
            "     weighted avg       0.86      0.86      0.86       480\n",
            "\n",
            "Waktu Pelatihan Data :  0:08:34.469776 \n",
            "\n",
            "\n"
          ]
        }
      ]
    },
    {
      "cell_type": "code",
      "source": [
        "print(akurasi_val_data)\n",
        "print(AUC)\n",
        "print(CV)\n",
        "print(waktu)\n",
        "\n",
        "print(LOSS)\n",
        "print(VAL_LOSS)\n",
        "print(ACCURACY)\n",
        "print(VAL_ACCURACY)"
      ],
      "metadata": {
        "id": "S8AlzSeTIW38",
        "colab": {
          "base_uri": "https://localhost:8080/"
        },
        "outputId": "485ed875-d5b2-43c6-c792-436948d5ecdb"
      },
      "execution_count": null,
      "outputs": [
        {
          "output_type": "stream",
          "name": "stdout",
          "text": [
            "[0.8479166666666667, 0.8583333333333333, 0.8354166666666667, 0.8791666666666667, 0.85625]\n",
            "[0.8461842483472263, 0.8536349123782534, 0.8365141432440675, 0.8797869096518448, 0.8518681279259566]\n",
            "['CV-1', 'CV-2', 'CV-3', 'CV-4', 'CV-5']\n",
            "[datetime.timedelta(seconds=363, microseconds=811817), datetime.timedelta(seconds=370, microseconds=554714), datetime.timedelta(seconds=513, microseconds=639116), datetime.timedelta(seconds=427, microseconds=233859), datetime.timedelta(seconds=514, microseconds=469776)]\n",
            "[[0.7481517791748047, 0.5698611736297607, 0.5274441242218018, 0.4731591045856476, 0.439555823802948, 0.4323670268058777, 0.39269235730171204, 0.38527533411979675, 0.36045315861701965, 0.3314579129219055, 0.33212366700172424, 0.3192480206489563, 0.3116862177848816, 0.28869014978408813, 0.30417147278785706, 0.2761162519454956, 0.2723254859447479, 0.23975247144699097, 0.2636520266532898, 0.25952595472335815, 0.2456028312444687], [0.7522106170654297, 0.568412721157074, 0.5196103453636169, 0.47217312455177307, 0.4382796883583069, 0.41596299409866333, 0.39461374282836914, 0.3818109631538391, 0.3692534565925598, 0.35629117488861084, 0.3351394832134247, 0.30670270323753357, 0.3188994824886322, 0.30246540904045105, 0.3068956434726715, 0.2950417101383209, 0.2906811535358429, 0.26844313740730286, 0.2691499590873718, 0.29846492409706116, 0.24657495319843292, 0.23637621104717255], [0.7479410767555237, 0.5733340382575989, 0.5084273815155029, 0.4604129195213318, 0.43158239126205444, 0.4130997359752655, 0.39149653911590576, 0.353725403547287, 0.3401492238044739, 0.3379792869091034, 0.31851664185523987, 0.3042088747024536, 0.2947142422199249, 0.2776167094707489, 0.26519864797592163, 0.2626616656780243, 0.24980296194553375, 0.2629508376121521, 0.23621097207069397, 0.23848649859428406, 0.211181178689003, 0.20490162074565887, 0.22894692420959473, 0.23074421286582947, 0.2081826776266098, 0.19685307145118713, 0.20327876508235931, 0.1803063005208969, 0.16988904774188995, 0.17245329916477203, 0.1715060919523239], [0.7395799160003662, 0.5657573938369751, 0.5003848671913147, 0.45415642857551575, 0.42662379145622253, 0.4270305335521698, 0.38966649770736694, 0.3858146369457245, 0.34668752551078796, 0.3438299596309662, 0.32527583837509155, 0.3157225251197815, 0.3213605284690857, 0.293694406747818, 0.3077705204486847, 0.29514673352241516, 0.2986111640930176, 0.2673185467720032, 0.2685924470424652, 0.26164525747299194, 0.25013431906700134, 0.23891468346118927, 0.21744142472743988, 0.24748863279819489, 0.22990697622299194], [0.7225697636604309, 0.5623137354850769, 0.5050690174102783, 0.4764293134212494, 0.4427585303783417, 0.4153484106063843, 0.40170934796333313, 0.3781002163887024, 0.3438659906387329, 0.3536145091056824, 0.3194095194339752, 0.32362452149391174, 0.3241172730922699, 0.2881055176258087, 0.28123122453689575, 0.28764042258262634, 0.2515237629413605, 0.26435336470603943, 0.27696093916893005, 0.2706643342971802, 0.23604373633861542, 0.244859978556633, 0.23844923079013824, 0.21785998344421387, 0.21204237639904022, 0.21010221540927887, 0.19700618088245392, 0.2126564085483551, 0.20366758108139038, 0.20001205801963806]]\n",
            "[[0.5620187520980835, 0.5432766079902649, 0.49903610348701477, 0.44786790013313293, 0.42553362250328064, 0.4134073853492737, 0.39650407433509827, 0.3781222999095917, 0.37900644540786743, 0.4347565472126007, 0.37494564056396484, 0.3790365159511566, 0.42150211334228516, 0.34370219707489014, 0.3497738242149353, 0.3510672450065613, 0.34653905034065247, 0.3617308735847473, 0.3485232889652252, 0.3445940613746643, 0.3563989996910095], [0.5469821095466614, 0.5151381492614746, 0.43633967638015747, 0.4112960994243622, 0.46549680829048157, 0.39970120787620544, 0.3938833475112915, 0.43005797266960144, 0.34720656275749207, 0.3405620753765106, 0.35584890842437744, 0.3461310565471649, 0.33907559514045715, 0.3987283408641815, 0.33628904819488525, 0.35909509658813477, 0.35031357407569885, 0.3691878020763397, 0.4850538969039917, 0.3653334379196167, 0.34225067496299744, 0.3398875594139099], [0.576900839805603, 0.5084450840950012, 0.4816264510154724, 0.5011780858039856, 0.45623186230659485, 0.4508124887943268, 0.4474087357521057, 0.46222126483917236, 0.42512181401252747, 0.441954642534256, 0.41235992312431335, 0.45357197523117065, 0.4184266924858093, 0.4157043993473053, 0.41076233983039856, 0.43469375371932983, 0.5170912146568298, 0.4131411910057068, 0.4053831100463867, 0.4592426121234894, 0.4171173870563507, 0.44242191314697266, 0.6739525198936462, 0.39522331953048706, 0.43797460198402405, 0.45491012930870056, 0.42609357833862305, 0.4262755513191223, 0.41756585240364075, 0.43643537163734436, 0.4686572253704071], [0.5319743752479553, 0.48891130089759827, 0.4367820620536804, 0.41608038544654846, 0.4445108473300934, 0.394955575466156, 0.3936944901943207, 0.36127805709838867, 0.3667045533657074, 0.3414018750190735, 0.3401753008365631, 0.34812965989112854, 0.3349381387233734, 0.38952967524528503, 0.37330761551856995, 0.3731642961502075, 0.3779796361923218, 0.3317474126815796, 0.3426216244697571, 0.33632707595825195, 0.33663424849510193, 0.3366941809654236, 0.3644912838935852, 0.34385815262794495, 0.3498261272907257], [0.5812242031097412, 0.4816898703575134, 0.44744396209716797, 0.44054022431373596, 0.4131649136543274, 0.40465882420539856, 0.47176364064216614, 0.36963361501693726, 0.4032597839832306, 0.3647628128528595, 0.3558303713798523, 0.3968902826309204, 0.35912591218948364, 0.35794797539711, 0.3506125807762146, 0.3542734980583191, 0.37165412306785583, 0.3410890996456146, 0.4154600203037262, 0.34656843543052673, 0.3619396388530731, 0.3578386902809143, 0.3384920358657837, 0.3548368513584137, 0.36154741048812866, 0.35182201862335205, 0.3911462724208832, 0.3605741560459137, 0.3569929003715515, 0.4007434844970703]]\n",
            "[[0.6057291626930237, 0.7088541388511658, 0.7510416507720947, 0.784375011920929, 0.8057291507720947, 0.7989583611488342, 0.8218749761581421, 0.8359375, 0.8416666388511658, 0.8598958253860474, 0.8572916388511658, 0.8687499761581421, 0.8697916865348816, 0.8822916746139526, 0.8692708611488342, 0.8822916746139526, 0.8833333253860474, 0.9057291746139526, 0.8947916626930237, 0.8911458253860474, 0.9083333611488342], [0.6005208492279053, 0.714062511920929, 0.7552083134651184, 0.7869791388511658, 0.8083333373069763, 0.8130208253860474, 0.8270833492279053, 0.8223958611488342, 0.8338541388511658, 0.8447916507720947, 0.8515625, 0.870312511920929, 0.856249988079071, 0.8692708611488342, 0.8697916865348816, 0.8656250238418579, 0.8822916746139526, 0.8916666507720947, 0.885937511920929, 0.8677083253860474, 0.8958333134651184, 0.9041666388511658], [0.590624988079071, 0.7072916626930237, 0.7635416388511658, 0.7947916388511658, 0.807812511920929, 0.807812511920929, 0.8255208134651184, 0.8458333611488342, 0.856249988079071, 0.8520833253860474, 0.8604166507720947, 0.8734375238418579, 0.879687488079071, 0.885937511920929, 0.8979166746139526, 0.8880208134651184, 0.8963541388511658, 0.8927083611488342, 0.9046875238418579, 0.9052083492279053, 0.9151041507720947, 0.921875, 0.9041666388511658, 0.9020833373069763, 0.9182291626930237, 0.9166666865348816, 0.9140625, 0.9291666746139526, 0.9338541626930237, 0.9385416507720947, 0.9348958134651184], [0.6343749761581421, 0.7203124761581421, 0.7567708492279053, 0.7947916388511658, 0.807812511920929, 0.8020833134651184, 0.8203125, 0.8385416865348816, 0.8453124761581421, 0.854687511920929, 0.8630208373069763, 0.8635416626930237, 0.8661458492279053, 0.8760416507720947, 0.8671875, 0.8729166388511658, 0.8755208253860474, 0.887499988079071, 0.8958333134651184, 0.8895833492279053, 0.8854166865348816, 0.9052083492279053, 0.9125000238418579, 0.9026041626930237, 0.9072916507720947], [0.6015625, 0.7270833253860474, 0.7552083134651184, 0.7786458134651184, 0.7958333492279053, 0.8166666626930237, 0.8166666626930237, 0.8359375, 0.8557291626930237, 0.8447916507720947, 0.8692708611488342, 0.8520833253860474, 0.8552083373069763, 0.8802083134651184, 0.8822916746139526, 0.8786458373069763, 0.9052083492279053, 0.8895833492279053, 0.8869791626930237, 0.8828125, 0.9041666388511658, 0.8963541388511658, 0.9072916507720947, 0.9098958373069763, 0.9182291626930237, 0.9192708134651184, 0.9192708134651184, 0.9145833253860474, 0.9130208492279053, 0.9203125238418579]]\n",
            "[[0.7562500238418579, 0.6875, 0.7854166626930237, 0.8020833134651184, 0.8125, 0.8125, 0.8041666746139526, 0.824999988079071, 0.8291666507720947, 0.7854166626930237, 0.8208333253860474, 0.8104166388511658, 0.8062499761581421, 0.8333333134651184, 0.8374999761581421, 0.824999988079071, 0.8479166626930237, 0.8479166626930237, 0.8479166626930237, 0.8354166746139526, 0.8354166746139526], [0.75, 0.75, 0.8187500238418579, 0.8145833611488342, 0.7895833253860474, 0.8083333373069763, 0.831250011920929, 0.8062499761581421, 0.8395833373069763, 0.8541666865348816, 0.8374999761581421, 0.84375, 0.8458333611488342, 0.8291666507720947, 0.8583333492279053, 0.831250011920929, 0.8458333611488342, 0.8291666507720947, 0.800000011920929, 0.8479166626930237, 0.8520833253860474, 0.8500000238418579], [0.6479166746139526, 0.7520833611488342, 0.762499988079071, 0.7354166507720947, 0.7854166626930237, 0.793749988079071, 0.7916666865348816, 0.7770833373069763, 0.8208333253860474, 0.7895833253860474, 0.800000011920929, 0.8020833134651184, 0.8208333253860474, 0.8208333253860474, 0.8208333253860474, 0.8166666626930237, 0.7895833253860474, 0.8354166746139526, 0.8125, 0.7875000238418579, 0.8125, 0.824999988079071, 0.6791666746139526, 0.8354166746139526, 0.793749988079071, 0.8270833492279053, 0.8062499761581421, 0.8104166388511658, 0.8083333373069763, 0.8166666626930237, 0.8291666507720947], [0.7458333373069763, 0.7458333373069763, 0.800000011920929, 0.7979166507720947, 0.8020833134651184, 0.8208333253860474, 0.8187500238418579, 0.8416666388511658, 0.84375, 0.8416666388511658, 0.8520833253860474, 0.8520833253860474, 0.856249988079071, 0.8374999761581421, 0.8416666388511658, 0.8104166388511658, 0.8020833134651184, 0.8645833134651184, 0.84375, 0.8791666626930237, 0.8583333492279053, 0.8687499761581421, 0.8354166746139526, 0.862500011920929, 0.8583333492279053], [0.6270833611488342, 0.7833333611488342, 0.7916666865348816, 0.8020833134651184, 0.8104166388511658, 0.8062499761581421, 0.7749999761581421, 0.831250011920929, 0.8229166865348816, 0.8374999761581421, 0.8354166746139526, 0.8145833611488342, 0.8354166746139526, 0.8416666388511658, 0.8479166626930237, 0.8458333611488342, 0.8374999761581421, 0.8395833373069763, 0.8229166865348816, 0.8374999761581421, 0.84375, 0.8374999761581421, 0.856249988079071, 0.8416666388511658, 0.8520833253860474, 0.84375, 0.8416666388511658, 0.8395833373069763, 0.8479166626930237, 0.8395833373069763]]\n"
          ]
        }
      ]
    },
    {
      "cell_type": "code",
      "source": [
        "fig = plt.figure(figsize=(12,8))\n",
        "plt.plot(CV, akurasi_val_data, marker='o')\n",
        "plt.title('Akurasi setiap Fold')\n",
        "plt.xlabel('Fold Ke')\n",
        "plt.ylabel('Akurasi')\n",
        "plt.ylim((0., 1))\n",
        "plt.grid()\n",
        "plt.show()"
      ],
      "metadata": {
        "id": "80Xyh5ZkVDQ4",
        "colab": {
          "base_uri": "https://localhost:8080/",
          "height": 513
        },
        "outputId": "436f95c2-5a17-4722-ae13-7ed0659dea28"
      },
      "execution_count": null,
      "outputs": [
        {
          "output_type": "display_data",
          "data": {
            "text/plain": [
              "<Figure size 864x576 with 1 Axes>"
            ],
            "image/png": "[encoded data removed]"
          },
          "metadata": {
            "needs_background": "light"
          }
        }
      ]
    },
    {
      "cell_type": "code",
      "source": [
        "def visualisasi_fit(judul, n_train, n_val):\n",
        "  fig, ax = plt.subplots(3,2,constrained_layout=True, figsize=(15,10))\n",
        "  index=0\n",
        "  for i in range(3):\n",
        "    for j in range(2):\n",
        "      if j==0:\n",
        "        ax[i,j].set_title('CV' + str(index+1) + judul)\n",
        "        ax[i,j].plot(n_train[index], '--', label=judul)\n",
        "        ax[i,j].plot(n_val[index], label='Val_'+judul)\n",
        "        ax[i,j].set_xlabel('x-axis')\n",
        "        ax[i,j].set_ylabel('y-axis')\n",
        "      else:\n",
        "        if index==5:\n",
        "          break\n",
        "        ax[i,j].set_title('CV' + str(index+1) + judul)\n",
        "        ax[i,j].set_xlabel('x-axis')\n",
        "        ax[i,j].set_ylabel('y-axis')\n",
        "        ax[i,j].plot(n_train[index], '--', label=judul)\n",
        "        ax[i,j].plot(n_val[index], label='Val_'+judul)\n",
        "      ax[i,j].grid()\n",
        "      ax[i,j].set_ylim((0., 1))\n",
        "      ax[i,j].legend()\n",
        "      index+=1"
      ],
      "metadata": {
        "id": "JRV1LJmNuCba"
      },
      "execution_count": null,
      "outputs": []
    },
    {
      "cell_type": "code",
      "source": [
        "vis_akurasi = visualisasi_fit('Accuracy', ACCURACY, VAL_ACCURACY)\n",
        "vis_akurasi"
      ],
      "metadata": {
        "id": "h1xgx9LOS8Pj",
        "colab": {
          "base_uri": "https://localhost:8080/",
          "height": 745
        },
        "outputId": "bc8f24e8-87a6-45cc-c4c1-d56715d2d834"
      },
      "execution_count": null,
      "outputs": [
        {
          "output_type": "display_data",
          "data": {
            "text/plain": [
              "<Figure size 1080x720 with 6 Axes>"
            ],
            "image/png": "[encoded data removed]"
          },
          "metadata": {
            "needs_background": "light"
          }
        }
      ]
    },
    {
      "cell_type": "code",
      "source": [
        "vis_loss = visualisasi_fit('Loss', LOSS, VAL_LOSS)\n",
        "vis_loss"
      ],
      "metadata": {
        "id": "7EhBtyPTVcDT",
        "colab": {
          "base_uri": "https://localhost:8080/",
          "height": 745
        },
        "outputId": "d1077792-4a8c-4981-86c9-67bc5b3cf04b"
      },
      "execution_count": null,
      "outputs": [
        {
          "output_type": "display_data",
          "data": {
            "text/plain": [
              "<Figure size 1080x720 with 6 Axes>"
            ],
            "image/png": "[encoded data removed]"
          },
          "metadata": {
            "needs_background": "light"
          }
        }
      ]
    },
    {
      "cell_type": "code",
      "source": [
        "terbaik=[]\n",
        "for i in range(5):\n",
        "  nilai = (akurasi_val_data[i]+AUC[i])/2\n",
        "  terbaik.append(nilai)"
      ],
      "metadata": {
        "id": "mmIzZmFlfj81"
      },
      "execution_count": null,
      "outputs": []
    },
    {
      "cell_type": "code",
      "source": [
        "terbaik"
      ],
      "metadata": {
        "colab": {
          "base_uri": "https://localhost:8080/"
        },
        "id": "_6Xy_59UkJ4e",
        "outputId": "0942dfb2-d618-4da3-8148-28ac92c279a2"
      },
      "execution_count": null,
      "outputs": [
        {
          "output_type": "execute_result",
          "data": {
            "text/plain": [
              "[0.8470504575069464,\n",
              " 0.8559841228557934,\n",
              " 0.8359654049553671,\n",
              " 0.8794767881592558,\n",
              " 0.8540590639629783]"
            ]
          },
          "metadata": {},
          "execution_count": 23
        }
      ]
    },
    {
      "cell_type": "code",
      "source": [
        "s=0\n",
        "baik=1\n",
        "for i, v in enumerate(terbaik):\n",
        "  if v>s:\n",
        "    s=v\n",
        "    baik=i+1\n",
        "  else:\n",
        "    continue\n",
        "print(baik, s)"
      ],
      "metadata": {
        "id": "EyiYgUnfVl0P",
        "colab": {
          "base_uri": "https://localhost:8080/"
        },
        "outputId": "592d158a-75e8-4fc6-db6a-1c8b2b6bde76"
      },
      "execution_count": null,
      "outputs": [
        {
          "output_type": "stream",
          "name": "stdout",
          "text": [
            "4 0.8794767881592558\n"
          ]
        }
      ]
    },
    {
      "cell_type": "code",
      "source": [
        "model = load_model(save_dir+\"model_\"str(baik))\n",
        "y_pred = model.predict(x_test)\n",
        "y_pred = np.argmax(y_pred, axis=1)"
      ],
      "metadata": {
        "colab": {
          "base_uri": "https://localhost:8080/"
        },
        "id": "DKL6ZumEWeJJ",
        "outputId": "1d80032e-7fb9-44b4-a55b-16ee6f24642f"
      },
      "execution_count": null,
      "outputs": [
        {
          "output_type": "stream",
          "name": "stdout",
          "text": [
            "19/19 [==============================] - 6s 295ms/step\n"
          ]
        }
      ]
    },
    {
      "cell_type": "code",
      "source": [
        "acc_test = accuracy_score(y_test, y_pred)\n",
        "prec_test = precision_score(y_test, y_pred)\n",
        "rec_test = recall_score(y_test, y_pred)\n",
        "f1score_test = f1_score(y_test, y_pred)"
      ],
      "metadata": {
        "id": "buOO7aqwXBRD"
      },
      "execution_count": null,
      "outputs": []
    },
    {
      "cell_type": "code",
      "source": [
        "print('Acc Test : ', acc_test)\n",
        "print('Prec Test : ', prec_test)\n",
        "print('Rec Test : ', rec_test)\n",
        "print('F1-Score Test : ', f1score_test)"
      ],
      "metadata": {
        "colab": {
          "base_uri": "https://localhost:8080/"
        },
        "id": "zv5gLs72XR3s",
        "outputId": "b4f6c60c-cd71-4dc9-cab1-5e04023a06c9"
      },
      "execution_count": null,
      "outputs": [
        {
          "output_type": "stream",
          "name": "stdout",
          "text": [
            "Acc Test :  0.9183333333333333\n",
            "Prec Test :  0.8961038961038961\n",
            "Rec Test :  0.9745762711864406\n",
            "F1-Score Test :  0.9336941813261163\n"
          ]
        }
      ]
    },
    {
      "cell_type": "code",
      "source": [
        "print(classification_report(y_test, y_pred, target_names = ['Haploid (Class 0)','Diploid (Class 1)']))"
      ],
      "metadata": {
        "colab": {
          "base_uri": "https://localhost:8080/"
        },
        "id": "TQzf0RFJXSs9",
        "outputId": "f9f1949e-3808-4810-e06d-6f81bd73e811"
      },
      "execution_count": null,
      "outputs": [
        {
          "output_type": "stream",
          "name": "stdout",
          "text": [
            "                   precision    recall  f1-score   support\n",
            "\n",
            "Haploid (Class 0)       0.96      0.84      0.89       246\n",
            "Diploid (Class 1)       0.90      0.97      0.93       354\n",
            "\n",
            "         accuracy                           0.92       600\n",
            "        macro avg       0.93      0.91      0.91       600\n",
            "     weighted avg       0.92      0.92      0.92       600\n",
            "\n"
          ]
        }
      ]
    },
    {
      "cell_type": "code",
      "source": [
        "cm = confusion_matrix(y_test, y_pred)\n",
        "cm"
      ],
      "metadata": {
        "colab": {
          "base_uri": "https://localhost:8080/"
        },
        "id": "zMQr2ENrXXpx",
        "outputId": "564ebd44-60ce-4064-aa78-4b4f89753473"
      },
      "execution_count": null,
      "outputs": [
        {
          "output_type": "execute_result",
          "data": {
            "text/plain": [
              "array([[206,  40],\n",
              "       [  9, 345]])"
            ]
          },
          "metadata": {},
          "execution_count": 34
        }
      ]
    },
    {
      "cell_type": "code",
      "source": [
        "sns.heatmap(cm, annot=True, xticklabels=['Haploid', 'Diploid'], yticklabels=['Haploid', 'Diploid'])"
      ],
      "metadata": {
        "colab": {
          "base_uri": "https://localhost:8080/",
          "height": 282
        },
        "id": "MkhZnw7QXwWw",
        "outputId": "9018de13-29b7-499a-fe51-021295275bb8"
      },
      "execution_count": null,
      "outputs": [
        {
          "output_type": "execute_result",
          "data": {
            "text/plain": [
              "<matplotlib.axes._subplots.AxesSubplot at 0x7f59b2995310>"
            ]
          },
          "metadata": {},
          "execution_count": 35
        },
        {
          "output_type": "display_data",
          "data": {
            "text/plain": [
              "<Figure size 432x288 with 2 Axes>"
            ],
            "image/png": "[encoded data removed]"
          },
          "metadata": {
            "needs_background": "light"
          }
        }
      ]
    },
    {
      "cell_type": "code",
      "source": [
        "def plot_roc_curve(true_y, y_prob): \n",
        "    fpr, tpr, thresholds = roc_curve(true_y, y_prob)\n",
        "    plt.plot(fpr, tpr)\n",
        "    plt.xlabel('False Positive Rate')\n",
        "    plt.ylabel('True Positive Rate')"
      ],
      "metadata": {
        "id": "3EQiDa_kYBnZ"
      },
      "execution_count": null,
      "outputs": []
    },
    {
      "cell_type": "code",
      "source": [
        "plot_roc_curve(y_test, y_pred)\n",
        "auc = roc_auc_score(y_test, y_pred)\n",
        "print('Model AUC score : {}'.format(auc))"
      ],
      "metadata": {
        "colab": {
          "base_uri": "https://localhost:8080/",
          "height": 296
        },
        "id": "gYRuQOdAYc1r",
        "outputId": "27479fd1-1951-4cda-9db9-b4c39252004d"
      },
      "execution_count": null,
      "outputs": [
        {
          "output_type": "stream",
          "name": "stdout",
          "text": [
            "Model AUC score : 0.9059873225850903\n"
          ]
        },
        {
          "output_type": "display_data",
          "data": {
            "text/plain": [
              "<Figure size 432x288 with 1 Axes>"
            ],
            "image/png": "[encoded data removed]"
          },
          "metadata": {
            "needs_background": "light"
          }
        }
      ]
    }
  ]
}